{
 "cells": [
  {
   "cell_type": "markdown",
   "id": "93e3214a-3a65-4db4-bd8c-d9a171b8513a",
   "metadata": {},
   "source": [
    "## Задание 1.\n",
    "\n",
    "Вводится список чисел через пробел. Поменяйте в этом списке самое маленькое и самое большое число местами, н-р, список 4 2 6 3 7 5 должен превратиться в 4 7 6 3 2 5"
   ]
  },
  {
   "cell_type": "code",
   "execution_count": 9,
   "id": "cfcc221c-5dae-4b3e-9162-e11a37771ff2",
   "metadata": {},
   "outputs": [
    {
     "data": {
      "text/plain": "[5, 2, 3, 4, 1]"
     },
     "execution_count": 9,
     "metadata": {},
     "output_type": "execute_result"
    }
   ],
   "source": [
    "x = [int(i) for i in input('Введите несколько чисел через пробел').split()]\n",
    "mx = x.index(max(x))\n",
    "mn = x.index(min(x))\n",
    "x[mx], x[mn] = x[mn], x[mx]\n",
    "x\n",
    "# your code here"
   ]
  },
  {
   "cell_type": "markdown",
   "id": "37804513-3e14-4560-8738-8c44711820ef",
   "metadata": {},
   "source": [
    "## Задание 2. \n",
    "\n",
    "Вводится список (чего угодно, как угодно). Нужно все элементы поменять местами, н-р, список вида 1 2 3 4 5 превращается в 2 1 4 3 5. "
   ]
  },
  {
   "cell_type": "code",
   "execution_count": 13,
   "id": "c6e929ca-2ba4-4e88-aede-d1885763e400",
   "metadata": {},
   "outputs": [
    {
     "name": "stdout",
     "output_type": "stream",
     "text": [
      "['2', '5', '4', '3']\n"
     ]
    }
   ],
   "source": [
    "import random\n",
    "\n",
    "x = input('Введите всё, что угодно, через пробел').split()\n",
    "random.shuffle(x)\n",
    "print(x)\n",
    "\n",
    "# your code here"
   ]
  },
  {
   "cell_type": "markdown",
   "id": "eb11f832-de61-4c8b-a8af-8c4c8c0fcc24",
   "metadata": {},
   "source": [
    "## Задание 3. \n",
    "\n",
    "Петя перешёл в другую школу. На уроке физкультуры ему понадобилось определить своё место в строю. Помогите ему это сделать.\n",
    "\n",
    "Программа получает на вход невозрастающую последовательность натуральных чисел, означающих рост каждого человека в строю. После этого вводится число X – рост Пети. Все числа во входных данных натуральные и не превышают 200.\n",
    "\n",
    "Выведите номер, под которым Петя должен встать в строй. Если в строю есть люди с одинаковым ростом, таким же, как у Пети, то он должен встать после них."
   ]
  },
  {
   "cell_type": "code",
   "execution_count": 19,
   "id": "008c0cc4-9a53-4413-8c22-43fb5414bfc2",
   "metadata": {},
   "outputs": [
    {
     "name": "stdout",
     "output_type": "stream",
     "text": [
      "4\n"
     ]
    }
   ],
   "source": [
    "x = [int(i) for i in input('Введите рост участников через пробел').split()]\n",
    "p = int(input('Введите рост Пети'))\n",
    "pos = len(x)\n",
    "for i in range(0, len(x)):\n",
    "    if p < x[i]:\n",
    "        pos = i\n",
    "        break\n",
    "print(pos + 1)\n",
    "# your code here"
   ]
  },
  {
   "cell_type": "markdown",
   "id": "7d84bcba-b0f8-49d4-8758-e4b0faa7cd12",
   "metadata": {},
   "source": [
    "## Задание 4.\n",
    "\n",
    "Известно, что на доске 8х8 можно расставить 8 ферзей так, чтобы они не били друг друга. Вам дана расстановка 8 ферзей на доске, определите, есть ли среди них пара бьющих друг друга.\n",
    "Программа получает на вход восемь пар чисел, каждое число от 1 до 8 — координаты 8 ферзей. Если ферзи не бьют друг друга, выведите слово NO, иначе выведите YES."
   ]
  },
  {
   "cell_type": "code",
   "execution_count": 1,
   "id": "55e87281-05e1-4750-8c9f-08d50e878f90",
   "metadata": {},
   "outputs": [
    {
     "name": "stdout",
     "output_type": "stream",
     "text": [
      "YES\n"
     ]
    }
   ],
   "source": [
    "n = 8\n",
    "x = []\n",
    "y = []\n",
    "for i in range(n):\n",
    "    new_x, new_y = [int(s) for s in input('Введите два числа от 1 до 8 через пробел').split()]\n",
    "    x.append(new_x)\n",
    "    y.append(new_y)\n",
    "\n",
    "correct = True\n",
    "for i in range(n):\n",
    "    for j in range(i + 1, n):\n",
    "        if x[i] == x[j] or y[i] == y[j] or abs(x[i] - x[j]) == abs(y[i] - y[j]):\n",
    "            correct = False\n",
    "\n",
    "if correct:\n",
    "    print('NO')\n",
    "else:\n",
    "    print('YES')\n",
    "# your code here"
   ]
  },
  {
   "cell_type": "markdown",
   "id": "0511b9e6-9b2c-4523-b24e-d65492e7e433",
   "metadata": {},
   "source": [
    "## Задание 5.\n",
    "\n",
    "Дан список. Удалите из списка все повторы, то есть, оставьте в списке каждый элемент только в одном экземпляре (остаться должно только первое появление элемента в списке). Программа не должна использовать дополнительную память: это означает, что нельзя пользоваться множествами и генераторами, можно только производить изменения в самом списке. "
   ]
  },
  {
   "cell_type": "code",
   "execution_count": 23,
   "id": "3f5c567a-9e0c-4d77-a265-2b0da580add8",
   "metadata": {},
   "outputs": [
    {
     "name": "stdout",
     "output_type": "stream",
     "text": [
      "['1', '2', '3', '4', '5', '6', '7', '8']\n"
     ]
    }
   ],
   "source": [
    "a = input('список с пробелами').split()\n",
    "for i in range(0, len(a)):\n",
    "    for j in range(len(a) - 1, i, -1):\n",
    "        if a[i] == a[j]:\n",
    "            del a[j]\n",
    "print(a)"
   ]
  },
  {
   "cell_type": "markdown",
   "id": "844da507-c3c0-4cb0-882e-91733ad4af3e",
   "metadata": {},
   "source": [
    "## Задание 6.\n",
    "\n",
    "На вход программе даётся число N и список. Удалите из списка все элементы, которые встречаются в нём ровно N раз. Программа не должна использовать дополнительную память."
   ]
  },
  {
   "cell_type": "code",
   "execution_count": 2,
   "id": "dac7c97f-e0c3-45d8-96d8-83e8dc31211d",
   "metadata": {},
   "outputs": [
    {
     "name": "stdout",
     "output_type": "stream",
     "text": [
      "['b']\n"
     ]
    }
   ],
   "source": [
    "n = int(input('число'))\n",
    "a = input('список с пробелами').split()\n",
    "\n",
    "i = len(a) - 1\n",
    "while i >= 0:\n",
    "    repeatCount = a.count(a[i])\n",
    "\n",
    "    if n == repeatCount:\n",
    "        itemToRemove = a[i]\n",
    "        for j in range(0, repeatCount):\n",
    "            a.remove(itemToRemove)\n",
    "        i -= repeatCount\n",
    "    i -= 1\n",
    "\n",
    "print(a)\n",
    "# your code here"
   ]
  },
  {
   "cell_type": "markdown",
   "id": "66d3af89-ef24-43f9-82f6-793de29df3fe",
   "metadata": {},
   "source": [
    "## \\* Задание 7. \n",
    "\n",
    "На вход программе даётся число X и список чисел. Удалите из списка все вхождения элемента X. Программа должна работать за линейное время. Программа не должна использовать дополнительную память. Код для проверки на линейность уже вписан (если меняете D с 10000 на 100000, время должно увеличиться не больше чем в 10 раз). \n",
    "\n",
    "Примечание: эту задачу решают не многие студенты, но те, которые решают, гарантированно осиливают продвинутый трек. "
   ]
  },
  {
   "cell_type": "code",
   "execution_count": 22,
   "id": "ddb0bb39-2819-41b5-8c4c-0cf4b88ed9c6",
   "metadata": {},
   "outputs": [
    {
     "name": "stdout",
     "output_type": "stream",
     "text": [
      "0.19626498222351074\n",
      "[1, 2, 1, 2, 4, 5, 6, 1, 2, 1, 2, 4, 5, 6, 1, 2, 1, 2, 4, 5, 6, 1, 2, 1, 2, 4, 5, 6, 1, 2]\n"
     ]
    }
   ],
   "source": [
    "import time\n",
    "\n",
    "D = int(input())\n",
    "L = [1, 2, 1, 2, 3, 4, 5, 6] * D\n",
    "N = int(input())\n",
    "\n",
    "t = time.time()\n",
    "\n",
    "# your code here\n",
    "last_index = 0\n",
    "\n",
    "for i in range(0, len(L)):\n",
    "    L[last_index] = L[i]\n",
    "    if L[i] != N:\n",
    "        last_index += 1\n",
    "\n",
    "del L[last_index:len(L)]\n",
    "# your code ends here\n",
    "\n",
    "print(time.time() - t)\n",
    "print(L[:30])\n",
    "\n",
    "# remove item \"3\"\n",
    "# 10000 for 0.019365787506103516\n",
    "# 100000 for 0.19626498222351074\n",
    "# exactly 10 times slower => linear"
   ]
  },
  {
   "cell_type": "markdown",
   "id": "9f81949c-f053-4657-9e7f-fbc55d7ce396",
   "metadata": {},
   "source": [
    "## \\* Задание 8.\n",
    "\n",
    "Решите задачу 5 за линейное время. Можно использовать дополнительную память. Для проверки можете использовать код в задаче 7."
   ]
  },
  {
   "cell_type": "code",
   "execution_count": 28,
   "id": "8feecf82-b126-4a66-8a93-4f333ae85b28",
   "metadata": {},
   "outputs": [
    {
     "name": "stdout",
     "output_type": "stream",
     "text": [
      "0.0137481689453125\n",
      "[1, 2, 3, 4, 5, 6]\n"
     ]
    }
   ],
   "source": [
    "import time\n",
    "\n",
    "D = int(input())\n",
    "L = [1, 2, 1, 2, 3, 4, 5, 6] * D\n",
    "t = time.time()\n",
    "\n",
    "new_list = list(dict.fromkeys(L))\n",
    "\n",
    "print(time.time() - t)\n",
    "print(new_list[:30])\n",
    "\n",
    "# 10000 for 0.0013680458068847656\n",
    "# 100000 for 0.0137481689453125\n",
    "# exactly 10 times slower => linear"
   ]
  },
  {
   "cell_type": "markdown",
   "id": "2de2486b-5b0c-4427-973f-6180c70180af",
   "metadata": {},
   "source": [
    "## \\* Задание 9. \n",
    "\n",
    "Решите задачу 6 за линейное время. Можно использовать дополнительную память. "
   ]
  },
  {
   "cell_type": "code",
   "execution_count": 34,
   "id": "279e8b92-5b2d-4702-ac80-e421464211fd",
   "metadata": {},
   "outputs": [
    {
     "name": "stdout",
     "output_type": "stream",
     "text": [
      "0.15214109420776367\n",
      "[1, 2]\n"
     ]
    }
   ],
   "source": [
    "import time\n",
    "\n",
    "D = int(input())\n",
    "L = [1, 2, 1, 2, 3, 4, 5, 6] * D\n",
    "N = int(input())\n",
    "t = time.time()\n",
    "\n",
    "counter_dict = dict()\n",
    "\n",
    "for el in L:\n",
    "    if el in counter_dict:\n",
    "        counter_dict[el] += 1\n",
    "    else:\n",
    "        counter_dict[el] = 1\n",
    "\n",
    "new_list = [k for (k, v) in counter_dict.items() if v != N]\n",
    "\n",
    "print(time.time() - t)\n",
    "print(new_list[:30])\n",
    "\n",
    "# 10000 for 0.015453815460205078\n",
    "# 100000 for 0.15214109420776367\n",
    "# exactly 10 times slower => linear"
   ]
  },
  {
   "cell_type": "markdown",
   "id": "1395e9e2-91de-4ce9-8306-dff9a6200503",
   "metadata": {},
   "source": [
    "## Задание 10. \n",
    "\n",
    "Напишите функцию, которая принимает строчку и возвращает порядковые номера всех букв в этой строчке в виде списка (напоминаю, что порядковый номер буквы в юникоде возвращает ord('c')). "
   ]
  },
  {
   "cell_type": "code",
   "execution_count": 43,
   "id": "a719b2d0-31b0-459c-bf35-4785eae27e8c",
   "metadata": {},
   "outputs": [
    {
     "name": "stdout",
     "output_type": "stream",
     "text": [
      "[99, 106, 44, 102, 114, 102]\n"
     ]
    }
   ],
   "source": [
    "def ordfunc():\n",
    "    s = input()\n",
    "    a = list(s)\n",
    "    n = []\n",
    "    for i in range(0, len(a)):\n",
    "        n.append(ord(a[i]))\n",
    "    print(n)\n",
    "\n",
    "\n",
    "ordfunc()\n",
    "\n",
    "# your code here"
   ]
  },
  {
   "cell_type": "markdown",
   "id": "692eb110-3ca9-4426-b4b7-565e4447b54d",
   "metadata": {},
   "source": [
    "## Задание 11. \n",
    "\n",
    "Напишите функцию, которая принимает неограниченное количество параметров - целых чисел и верните все эти числа, возведенные в квадрат, в списке. "
   ]
  },
  {
   "cell_type": "code",
   "execution_count": 36,
   "id": "90b9a4dd-5a70-4803-bcc1-cdb768bd1048",
   "metadata": {},
   "outputs": [
    {
     "name": "stdout",
     "output_type": "stream",
     "text": [
      "[1, 9, 25]\n"
     ]
    }
   ],
   "source": [
    "def squarefunc(*s):\n",
    "    s = [int(x) ** 2 for x in s]\n",
    "    print(s)\n",
    "\n",
    "\n",
    "s = input('с пробелами').split()\n",
    "squarefunc(*s)\n",
    "# your code here"
   ]
  },
  {
   "cell_type": "markdown",
   "id": "eba432d1-eeab-4fef-8830-98f7e01b734d",
   "metadata": {},
   "source": [
    "## Задание 12.\n",
    "\n",
    "Напишите функцию sign, которая принимает целое число и возвращает True, если оно положительное, и False, если оно отрицательное. На 0 можно возвращать NoneType (подумайте, как это сделать?)"
   ]
  },
  {
   "cell_type": "code",
   "execution_count": 40,
   "id": "20a62f16-9f70-4114-9879-5d665ac65600",
   "metadata": {},
   "outputs": [
    {
     "name": "stdout",
     "output_type": "stream",
     "text": [
      "False\n"
     ]
    }
   ],
   "source": [
    "def sign(arg1):\n",
    "    if arg1 > 0:\n",
    "        return True\n",
    "    elif arg1 < 0:\n",
    "        return False\n",
    "    else:\n",
    "        return\n",
    "\n",
    "print(sign(0))\n",
    "\n",
    "# your code here"
   ]
  }
 ],
 "metadata": {
  "kernelspec": {
   "display_name": "Python 3 (ipykernel)",
   "language": "python",
   "name": "python3"
  },
  "language_info": {
   "codemirror_mode": {
    "name": "ipython",
    "version": 3
   },
   "file_extension": ".py",
   "mimetype": "text/x-python",
   "name": "python",
   "nbconvert_exporter": "python",
   "pygments_lexer": "ipython3",
   "version": "3.8.10"
  }
 },
 "nbformat": 4,
 "nbformat_minor": 5
}