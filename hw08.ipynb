{
 "cells": [
  {
   "cell_type": "markdown",
   "id": "e2e5408e-78a9-460a-a4ba-12164b1932da",
   "metadata": {},
   "source": [
    "## Задание 1.\n",
    "\n",
    "Выборы в США (http://pythontutor.ru/lessons/dicts/problems/usa_elections/ - советую посмотреть там, там можно найти примеры работы программы).\n",
    "\n",
    "Как известно, в США президент выбирается не прямым голосованием, а путем двухуровневого голосования. Сначала проводятся выборы в каждом штате и определяется победитель выборов в данном штате. Затем проводятся государственные выборы: на этих выборах каждый штат имеет определенное число голосов — число выборщиков от этого штата. На практике, все выборщики от штата голосуют в соответствии с результами голосования внутри штата, то есть на заключительной стадии выборов в голосовании участвуют штаты, имеющие различное число голосов.\n",
    "\n",
    "В первой строке дано количество записей. Далее, каждая запись содержит фамилию кандидата и число голосов, отданных за него в одном из штатов. Подведите итоги выборов: для каждого из участника голосования определите число отданных за него голосов. Участников нужно выводить в алфавитном порядке."
   ]
  },
  {
   "cell_type": "code",
   "execution_count": 11,
   "id": "1ccee427-3aa9-402e-b014-9a13b591784f",
   "metadata": {},
   "outputs": [
    {
     "name": "stdout",
     "output_type": "stream",
     "text": [
      "[('obema', 4), ('putin', 2), ('trump', 5)]\n"
     ]
    }
   ],
   "source": [
    "cand = int(input(\"число кандидатов\"))\n",
    "res = dict()\n",
    "for k in range(0, cand):\n",
    "    chel = input('кандидат')\n",
    "    x = int(input('голоса'))\n",
    "    if chel in res:\n",
    "        res[chel] += x\n",
    "    else:\n",
    "        res[chel] = x\n",
    "print(sorted(res.items()))\n",
    "# your code here"
   ]
  },
  {
   "cell_type": "markdown",
   "id": "9e7a50b5-c62e-4528-accd-5a0f3da79d88",
   "metadata": {},
   "source": [
    "## Задание 2.\n",
    "\n",
    "В файле хранятся данные двуязычного словаря (языки можете выбирать какие хотите) в формате \n",
    "\n",
    "    слово\\tперевод, перевод, перевод\n",
    "    \n",
    "Программа должна загрузить данные в формате dict, а потом на основе этого словаря собрать словарь наоборот: если у нас был англо-русский словарь, на выходе должен получиться русско-английский в таком же виде, т.е. одному русскому слову соответствует один и более переводов. Результат нужно записать в такой же файл."
   ]
  },
  {
   "cell_type": "code",
   "execution_count": 16,
   "id": "1b938efd-f45e-43a6-91ff-45b073e5b91c",
   "metadata": {},
   "outputs": [
    {
     "name": "stdout",
     "output_type": "stream",
     "text": [
      "{'gauge': ['мера'], 'measure': ['мера'], 'action': ['мера', 'действие'], 'effect': ['действие'], 'force': ['действие', 'заставлять'], 'make': ['заставлять'], 'cause': ['заставлять']}\n"
     ]
    }
   ],
   "source": [
    "file = open('C:/Users/User/PycharmProjects/RSUH-mag2021/08.1.txt', 'r', encoding='utf8')\n",
    "fileres = open('C:/Users/User/PycharmProjects/RSUH-mag2021/08.2.txt', 'w', encoding='utf8')\n",
    "dicti = {}\n",
    "for line in file:\n",
    "    tab = line.split('\\t')\n",
    "    tr = tab[1].split(sep=', ')\n",
    "    for r in tr:\n",
    "        if r in dicti:\n",
    "            dicti[r.rstrip()] += [tab[0]]\n",
    "        else:\n",
    "            dicti[r.rstrip()] = [tab[0]]\n",
    "for k, v in dicti.items():\n",
    "    fileres.write(k + '\\t')\n",
    "    for e in v:\n",
    "        fileres.write(e + ' ')\n",
    "    fileres.write('\\n')\n",
    "file.close()\n",
    "fileres.close()\n",
    "\n",
    "# your code here"
   ]
  },
  {
   "cell_type": "markdown",
   "id": "c79de499-b847-4681-8e41-9d55f2c3001a",
   "metadata": {},
   "source": [
    "## Задание 3.\n",
    "\n",
    "Продажи (http://pythontutor.ru/lessons/dicts/problems/sales/)\n",
    "\n",
    "Дана база данных о продажах некоторого интернет-магазина. Каждая строка входного файла представляет собой запись вида Покупатель товар количество, где Покупатель — имя покупателя (строка без пробелов), товар — название товара (строка без пробелов), количество — количество приобретенных единиц товара.\n",
    "\n",
    "Создайте список всех покупателей, а для каждого покупателя подсчитайте количество приобретенных им единиц каждого вида товаров. Список покупателей, а также список товаров для каждого покупателя нужно выводить в лексикографическом порядке."
   ]
  },
  {
   "cell_type": "code",
   "execution_count": 26,
   "id": "236b49bf-61be-430b-b8f0-330efbbd861d",
   "metadata": {},
   "outputs": [],
   "source": [
    "file = open('C:/Users/User/PycharmProjects/RSUH-mag2021/08.3.txt', 'r', encoding='utf8')\n",
    "fileres = open('C:/Users/User/PycharmProjects/RSUH-mag2021/08.4.txt', 'w', encoding='utf8')\n",
    "lines = [line.strip() for line in file.readlines() if line != '\\n']\n",
    "result = dict()\n",
    "for i in lines:\n",
    "    time_var = i.split()\n",
    "    if time_var[0] not in result.keys():\n",
    "        result[time_var[0]] = {time_var[1]: int(time_var[2])}\n",
    "    else:\n",
    "        if time_var[1] in result[time_var[0]]:\n",
    "            result[time_var[0]][time_var[1]] += int(time_var[2])\n",
    "        else:\n",
    "            result[time_var[0]].update({time_var[1]: int(time_var[2])})\n",
    "file.close()\n",
    "for k, v in result.items():\n",
    "    fileres.write(k + ':\\n')\n",
    "    for e, i in v.items():\n",
    "        fileres.write(e + ' ' + str(i) + '\\n')\n",
    "fileres.close()\n",
    "# your code here"
   ]
  },
  {
   "cell_type": "markdown",
   "id": "50618413-907f-48fc-801f-3253d047f645",
   "metadata": {},
   "source": [
    "## \\* Задание 4.\n",
    "\n",
    "Банковские счета (http://pythontutor.ru/lessons/dicts/problems/bank_accounts/)\n",
    "\n",
    "Некоторый банк хочет внедрить систему управления счетами клиентов, поддерживающую следующие операции:\n",
    "\n",
    "1. Пополнение счета клиента.\n",
    "2. Снятие денег со счета.\n",
    "3. Запрос остатка средств на счете.\n",
    "4. Перевод денег между счетами клиентов.\n",
    "5. Начисление процентов всем клиентам.\n",
    "\n",
    "Вам необходимо реализовать такую систему. Клиенты банка идентифицируются именами (уникальная строка, не содержащая пробелов). Первоначально у банка нет ни одного клиента. Как только для клиента проводится операция пололнения, снятия или перевода денег, ему заводится счет с нулевым балансом. Все дальнейшие операции проводятся только с этим счетом. Сумма на счету может быть как положительной, так и отрицательной, при этом всегда является целым числом.\n",
    "\n",
    "Входной файл содержит последовательность операций. Возможны следующие операции:\n",
    "\n",
    "DEPOSIT name sum - зачислить сумму sum на счет клиента name. Если у клиента нет счета, то счет создается.\n",
    "\n",
    "WITHDRAW name sum - снять сумму sum со счета клиента name. Если у клиента нет счета, то счет создается.\n",
    "\n",
    "BALANCE name - узнать остаток средств на счету клиента name.\n",
    "\n",
    "TRANSFER name1 name2 sum - перевести сумму sum со счета клиента name1 на счет клиента name2. Если у какого-либо клиента нет счета, то ему создается счет.\n",
    "\n",
    "INCOME p - начислить всем клиентам, у которых открыты счета, p% от суммы счета. Проценты начисляются только клиентам с положительным остатком на счету, если у клиента остаток отрицательный, то его счет не меняется. После начисления процентов сумма на счету остается целой, то есть начисляется только целое число денежных единиц. Дробная часть начисленных процентов отбрасывается.\n",
    "\n",
    "Для каждого запроса BALANCE программа должна вывести остаток на счету данного клиента. Если же у клиента с запрашиваемым именем не открыт счет в банке, выведите ERROR."
   ]
  },
  {
   "cell_type": "code",
   "execution_count": 55,
   "id": "01b7ac48-cca0-41b0-9c48-9a09ade7dc0e",
   "metadata": {},
   "outputs": [],
   "source": [
    "file = open('C:/Users/User/PycharmProjects/RSUH-mag2021/08.5.txt', 'r', encoding='utf8')\n",
    "fileres = open('C:/Users/User/PycharmProjects/RSUH-mag2021/08.6.txt', 'w', encoding='utf8')\n",
    "clients = dict()\n",
    "for fline in file:\n",
    "    line = fline.split(sep=' ')\n",
    "    line[1] = line[1].strip()\n",
    "    if line[0] == 'DEPOSIT':\n",
    "        if line[1] in clients.keys():\n",
    "            clients[line[1]] += int(line[2])\n",
    "        else:\n",
    "            clients[line[1]] = int(line[2])\n",
    "    if line[0] == 'WITHDRAW':\n",
    "        if line[1] in clients.keys():\n",
    "            clients[line[1]] -= int(line[2])\n",
    "        else:\n",
    "            clients[line[1]] = -int(line[2])\n",
    "    if line[0] == 'BALANCE':\n",
    "        if line[1] in clients.keys():\n",
    "            fileres.write(str(clients[line[1]]) + '\\n')\n",
    "        else:\n",
    "            fileres.write('ERROR' + '\\n')\n",
    "    if line[0] == 'TRANSFER':\n",
    "        if line[1] and line[2] in clients.keys():\n",
    "            clients[line[1]] -= int(line[3])\n",
    "            clients[line[2]] += int(line[3])\n",
    "        elif line[1] not in clients.keys():\n",
    "            clients[line[1]] = -line[3]\n",
    "            clients[line[2]] += int(line[3])\n",
    "        elif line[2] not in clients.keys():\n",
    "            clients[line[1]] -= int(line[3])\n",
    "            clients[line[2]] = int(line[3])\n",
    "        else:\n",
    "            clients[line[1]] = -int(line[3])\n",
    "            clients[line[2]] = int(line[3])\n",
    "    if line[0] == 'INCOME':\n",
    "        for k in clients.values():\n",
    "            if k > 0:\n",
    "                (k * int((clients[line[1]]) % 100)) + int(clients[line[1]])\n",
    "file.close()\n",
    "fileres.close()\n",
    "\n",
    "    # your code here"
   ]
  },
  {
   "cell_type": "code",
   "execution_count": null,
   "outputs": [],
   "source": [],
   "metadata": {
    "collapsed": false,
    "pycharm": {
     "name": "#%%\n"
    }
   }
  }
 ],
 "metadata": {
  "kernelspec": {
   "display_name": "Python 3 (ipykernel)",
   "language": "python",
   "name": "python3"
  },
  "language_info": {
   "codemirror_mode": {
    "name": "ipython",
    "version": 3
   },
   "file_extension": ".py",
   "mimetype": "text/x-python",
   "name": "python",
   "nbconvert_exporter": "python",
   "pygments_lexer": "ipython3",
   "version": "3.8.10"
  }
 },
 "nbformat": 4,
 "nbformat_minor": 5
}