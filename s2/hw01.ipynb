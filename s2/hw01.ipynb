{
 "cells": [
  {
   "cell_type": "markdown",
   "id": "0c9fde94-7105-4f20-b17e-95f6a43628da",
   "metadata": {
    "tags": []
   },
   "source": [
    "#### Общие задачи"
   ]
  },
  {
   "cell_type": "markdown",
   "id": "3533676a-ca6f-45e8-810f-414a01b84595",
   "metadata": {},
   "source": [
    "Задание 1. \n",
    "\n",
    "Напишите класс для хранения информации о токене. Класс должен хранить следующую информацию: словоформа, лемма и часть речи. Определите минимум три магических метода для этого класса. "
   ]
  },
  {
   "cell_type": "code",
   "execution_count": 5,
   "id": "a981e4aa-14a7-46d2-8f34-8adc4ebeb264",
   "metadata": {},
   "outputs": [],
   "source": [
    "import math\n",
    "import random\n",
    "\n",
    "\n",
    "class Tokeninf:\n",
    "    def __init__(self, wordform, lemma, pos):\n",
    "        self.wordform = wordform\n",
    "        self.lemma = lemma\n",
    "        self.pos = pos\n",
    "\n",
    "    def __str__(self):\n",
    "        return f'{self.wordform}, {self.lemma}, {self.pos}'\n",
    "\n",
    "    def __repr__(self):\n",
    "        return f'Information: {self.wordform}, {self.lemma}, {self.pos}'\n",
    "\n",
    "    def __hash__(self):\n",
    "        return 45\n",
    "\n",
    "\n",
    "went = Tokeninf('went', 'go', 'V')\n",
    "went.__hash__()\n",
    "went.__str__()\n",
    "went.__repr__()"
   ]
  },
  {
   "cell_type": "markdown",
   "id": "c36b9c2e-e87b-4766-82ba-7893ba9e52e1",
   "metadata": {},
   "source": [
    "Задание 2.\n",
    "\n",
    "Напишите игру, в которой будут сражаться два противника. Для этой игры понадобится модуль random и класс Fighter. Можете дорабатывать игру, как хотите, но базовый комплект такой:\n",
    "\n",
    "1. Класс \"боец\", у которого есть здоровье, броня и сила удара;\n",
    "2. Цикл, в котором пользователь может выбирать \"начать игру\" и \"выйти\";\n",
    "3. \"Игральная кость\", которая определяет, какой из двух бойцов бьет;\n",
    "4. Цикл, в котором бойцы бьют друг друга в зависимости от игральной кости;\n",
    "5. Урон вычисляется по формуле здоровье ударенного -= (сила удара бьющего - броня ударенного)\n",
    "6. Предусмотрите случай, когда сила удара бьющего меньше значения брони ударенного - иначе получите бесконечный цикл.\n",
    "\n",
    "В качестве варианта можно заменить броню на dodge, который меняется в зависимости от \"удачи\". Поскольку графический интерфейс мы не делаем, не забудьте понаписать комментариев! Предлагаю для красоты использовать модуль colorama, который позволит расцветить текст в терминале."
   ]
  },
  {
   "cell_type": "code",
   "execution_count": 6,
   "id": "cc116817-96c5-469d-b40f-604402835d56",
   "metadata": {},
   "outputs": [],
   "source": [
    "from random import choice, randint\n",
    "\n",
    "\n",
    "class Fighter:\n",
    "    def __init__(self, armor, health, damage):\n",
    "        self.armor = armor\n",
    "        self.health = health\n",
    "        self.damage = damage\n",
    "\n",
    "\n",
    "while True:\n",
    "    decis = int(input('Введите \"1\", чтобы начать игру. \"0\" - чтобы выйти'))\n",
    "    if decis == 0:\n",
    "        break\n",
    "    if decis == 1:\n",
    "        Vasya = Fighter(randint(1, 5), randint(10, 20), randint(6, 10))\n",
    "        Nikita = Fighter(randint(1, 5), randint(10, 20), randint(6, 10))\n",
    "        while True:\n",
    "            if choice([True, False]):  #Игральная кость\n",
    "                Nikita.health -= (Vasya.damage - Nikita.armor)\n",
    "                if Nikita.health <= 0:\n",
    "                    print('Vasya выиграл. Game over')\n",
    "                    break\n",
    "                else:\n",
    "                    print(f'Vasya наносит удар. Сейчас у Nikita {Nikita.health} здоровья')\n",
    "                    continue\n",
    "            else:\n",
    "                Vasya.health -= (Nikita.damage - Vasya.armor)\n",
    "                if Vasya.health <= 0:\n",
    "                    print('Nikita выиграл. Game over')\n",
    "                    break\n",
    "                else:\n",
    "                    print(f'Nikita наносит удар. Сейчас у Vasya {Vasya.health} здоровья')\n",
    "                    continue\n"
   ]
  },
  {
   "cell_type": "markdown",
   "id": "268ae644-3075-414b-8138-9bac4b51a25c",
   "metadata": {},
   "source": [
    "Задание 3.\n",
    "\n",
    "Реализуйте с помощью классов базу данных для ветеринарного магазина из первого семинара. Видимо, нам понадобятся два класса: для владельцев животных и для самих животных. У владельца мы храним имя, фамилию и номер телефона. У животного пусть будет кличка, возраст и дополнительный атрибут \"записан на прием\", в котором будет храниться информация о дате следующего приема (если ее нет - None). База данных должна храниться в бинарном файле (используйте pickle или dill). При запуске программы должны быть доступны несколько действий: завести нового клиента, завести новое животное для существующего клиента и записать животное на прием (или отметить, что прием прошел и новой записи нет). Сами экземпляры клиентов хранятся просто в списке.\n",
    "\n",
    "Примечание: в атрибутах могут храниться не только строки, но и списки, но не забывайте об их особенностях."
   ]
  },
  {
   "cell_type": "code",
   "execution_count": 7,
   "id": "85365927-c292-4d29-95a9-f4eabbe336d4",
   "metadata": {},
   "outputs": [],
   "source": [
    "# (not necessarily) your code here"
   ]
  },
  {
   "cell_type": "markdown",
   "id": "d49dcd9c-26fc-4a92-8cd5-56e460d4c1dc",
   "metadata": {},
   "source": [
    "#### Задачи для продвинутого трека"
   ]
  },
  {
   "cell_type": "markdown",
   "id": "53c5ef64-b64f-4d21-8661-d728349cc965",
   "metadata": {},
   "source": [
    "Задание 4.\n",
    "\n",
    "Нейронная сеть состоит из \"нейронов\" - по сути, это такие маленькие линейные функции, уравнения которых в частном случае имеют вид $ w_1 \\cdot x_1 + w_2 \\cdot x_2 + b $. Представим себе, что мы хотим написать самую простую нейронную сеть. Нейроны у этой нейронки принимают только два каких-то значения на вход и возвращают одно значение. Всего в нашей нейронке будет три нейрона. Как оно там должно быть устроено? Итак, каждый нейрон получает два числа на вход, внутри себя он их обрабатывает и передает результат следующему нейрону. Как нейрон обрабатывает эти числа? Ну во-первых, он должен каждое из чисел домножить на вес ($w_1$ и $w_2$ - это как раз веса, а $x_1$ и $x_2$ - наши числа на входе), потом прибавляет к ним bias (b) и пропускает через специальную нелинейную функцию (давайте использовать сигмоиду). У нас только 3 нейрона, значит, первые два принимают два одинаковых числа (и умножают их на свои разные веса), а результаты их работы принимает третий нейрон, который выдает уже типа ответ.\n",
    "\n",
    "Что мы должны реализовать?\n",
    "\n",
    "1. Класс \"нейрон\", у которого будут веса $w_1$ и $w_2$ и bias, а также функция feedforward, которая вычислит формулу $ w_1 \\cdot x_1 + w_2 \\cdot x_2 + b $ и ее результат прогонит через сигмоиду. Веса и свободный коэффициент bias задаются случайным образом, они могут быть какими угодно, можете руками задавать или выбирать с помощью random. Как они уже потом рассчитываются - сложная тема, которую здесь трогать не будем.\n",
    "2. Класс \"нейронная сеть\", у которого в конструкторе будут инициализироваться наши три нейрона (h1 и h2 - первые два и выходной - o1), а также будет такой же метод feedforward, который должен будет вычислять новые значения из h1 и h2 и передавать их в o1.\n",
    "3. Собственно сигмоида (она же функция активации). Формула сигмоиды, кто забыл: $\\frac{1}{1 + e^{-x}}$"
   ]
  },
  {
   "cell_type": "code",
   "execution_count": 8,
   "id": "23ab22d4-1dab-44f3-b6b7-ccb26a6e822e",
   "metadata": {},
   "outputs": [],
   "source": [
    "import random\n",
    "from math import exp\n",
    "\n",
    "def sigma(x):\n",
    "    return 1 / (1 + exp(-x))\n",
    "\n",
    "\n",
    "class Neuron:\n",
    "    def __init__(self, w1, w2, bias):\n",
    "        self.w1 = w1\n",
    "        self.w2 = w2\n",
    "        self.bias = bias\n",
    "\n",
    "    def feedforward(self, x1, x2):\n",
    "        return sigma(self.w1 * x1 + self.w2 * x2 + self.bias)\n",
    "\n",
    "\n",
    "class Network:\n",
    "    def __init__(self, h1, h2, o1):\n",
    "        self.h1 = h1\n",
    "        self.h2 = h2\n",
    "        self.o1 = o1\n",
    "\n",
    "    def feedforward(self, x1, x2):\n",
    "        y1 = self.h1.feedforward(x1, x2)\n",
    "        y2 = self.h2.feedforward(x1, x2)\n",
    "        o = self.o1.feedforward(y1, y2)\n",
    "        return o\n",
    "\n",
    "N1 = Neuron (random.random(), random.random(), random.random())\n",
    "N2 = Neuron (random.random(), random.random(), random.random())\n",
    "O = Neuron (random.random(), random.random(), random.random())\n",
    "HH1 = Network (N1, N2, O)\n",
    "HH1.feedforward(10, 15)\n",
    "# your code here"
   ]
  },
  {
   "cell_type": "markdown",
   "id": "14744c04-2e93-4bd1-b67b-7e4534c8bc25",
   "metadata": {},
   "source": [
    "Задание 5.\n",
    "\n",
    "Смоделируйте сценарий заказа еды в макдаке, определив четыре класса:\n",
    "\n",
    "**Lunch** - класс, который управляет всем событием \\\n",
    "**Customer** - человек, который покупает блюдо \\\n",
    "**Employee** - продавец \\\n",
    "**Food** - сама еда\n",
    "\n",
    "Какие у них должны быть методы:\n",
    "\n",
    "    class Lunch:\n",
    "        def __init__(self) - создает экземпляры покупателя и продавца\n",
    "        def order(self, foodName) - начинает процесс заказа продавцом\n",
    "        def result(self) - запрашивает у покупателя, какой у него экземпляр еды\n",
    "        \n",
    "    class Customer:\n",
    "        def __init__(self) инициирует еду у покупателя значением None (у покупателя сперва нет еды, он ее еще не купил)\n",
    "        def placeOrder(self, foodName, employee) - размещает заказ с экземпляром продавца, который обслуживает\n",
    "        def printFood(self)  выводит название блюда\n",
    "        \n",
    "    class Employee:\n",
    "        def takeOrder(self, foodName) - возвращает экземпляр еды с запрошенным названием\n",
    "        \n",
    "    class Food:\n",
    "    def __init__(self, name) - сохраняет название блюда\n",
    "    \n",
    "Что должно происходить?\n",
    "1. Конструктор класса Lunch заводит экземпляр покупателя и продавца, после чего метод order запрашивает у покупателя заказ, вызывая его метод placeOrder. В свою очередь placeOrder должен запрашивать у продавца новый объект Food, вызывая метод takeOrder. \n",
    "2. Объект Food должен хранить строку с названием блюда, переданную из Lunch.order() методу Customer.placeOrder(), методу Employee.takeOrder() и, наконец, конструктору Food. Наконец класс Lunch запрашивает о результате, который должен вывести, какую еду получил наш покупатель. "
   ]
  },
  {
   "cell_type": "code",
   "execution_count": 1,
   "id": "3132d2ea-d8bf-43eb-99fa-3873183b163f",
   "metadata": {},
   "outputs": [
    {
     "name": "stdout",
     "output_type": "stream",
     "text": [
      "Chicken Mac Nagets XXL\n"
     ]
    }
   ],
   "source": [
    "# your code here\n",
    "\n",
    "class Food:\n",
    "    def __init__(self, name):\n",
    "        self.name = name\n",
    "\n",
    "\n",
    "class Lunch:\n",
    "    def __init__(self):\n",
    "        self.customer = Customer()\n",
    "        self.seller = Employee()\n",
    "\n",
    "    def order(self, foodName):\n",
    "        self.customer.placeOrder(foodName, self.seller)\n",
    "        #- начинает процесс заказа продавцом\n",
    "\n",
    "    def result(self):\n",
    "        self.customer.printFood()\n",
    "\n",
    "\n",
    "class Customer:\n",
    "    def __init__(self):\n",
    "        # инициирует еду у покупателя значением None (у покупателя сперва нет еды, он ее еще не купил)\n",
    "        self.food = None\n",
    "\n",
    "    def placeOrder(self, foodName, employee):\n",
    "        # размещает заказ с экземпляром продавца, который обслуживает\n",
    "        self.food = employee.takeOrder(foodName)\n",
    "\n",
    "    def printFood(self):\n",
    "        print(self.food.name)\n",
    "\n",
    "\n",
    "class Employee:\n",
    "    def takeOrder(self, foodName) -> Food:\n",
    "        return Food(foodName)\n",
    "\n",
    "\n",
    "lunch = Lunch()\n",
    "lunch.order(\"Chicken Mac Nagets XXL\")\n",
    "lunch.result()\n",
    "\n"
   ]
  },
  {
   "cell_type": "code",
   "execution_count": 9,
   "outputs": [],
   "source": [],
   "metadata": {
    "collapsed": false,
    "pycharm": {
     "name": "#%%\n"
    }
   }
  }
 ],
 "metadata": {
  "kernelspec": {
   "display_name": "Python 3 (ipykernel)",
   "language": "python",
   "name": "python3"
  },
  "language_info": {
   "codemirror_mode": {
    "name": "ipython",
    "version": 3
   },
   "file_extension": ".py",
   "mimetype": "text/x-python",
   "name": "python",
   "nbconvert_exporter": "python",
   "pygments_lexer": "ipython3",
   "version": "3.8.10"
  }
 },
 "nbformat": 4,
 "nbformat_minor": 5
}