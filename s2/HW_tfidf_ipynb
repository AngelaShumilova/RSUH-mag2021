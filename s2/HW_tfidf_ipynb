{
 "cells": [
  {
   "cell_type": "markdown",
   "metadata": {},
   "source": [
    "1. Соберите на группу общий корпус из разных документов, лучше, чтобы тексты были не очень длинные (не \"Война и мир\"), чтобы был смысл считать Tf-Idf. Берите документы на свой вкус. "
   ]
  },
  {
   "cell_type": "markdown",
   "metadata": {},
   "source": [
    "2. Напишите функцию, которая будет считать Tf-Idf для ваших текстов.\n",
    "Сделайте возможность ввода номера/названия документа, по которым пользователь бы получил самые важные 10 токенов из этого документа. P.S. Не забудьте, что перед любыми действиями с текстом вам нужно его предобработать. Смотрите сами, какие нужны шаги. "
   ]
  },
  {
   "cell_type": "code",
   "execution_count": 13,
   "metadata": {},
   "outputs": [
    {
     "name": "stdout",
     "output_type": "stream",
     "text": [
      "C:/Users/User/PycharmProjects/CoLing_mag_2021/tf idf/Абдалийское княжество.txt\n",
      "C:/Users/User/PycharmProjects/CoLing_mag_2021/tf idf/Австралия.txt\n",
      "C:/Users/User/PycharmProjects/CoLing_mag_2021/tf idf/Австрия.txt\n",
      "[0. 0. 0. ... 0. 0. 0.]\n"
     ]
    }
   ],
   "source": [
    "import numpy as np\n",
    "from nltk.tokenize import word_tokenize\n",
    "import os\n",
    "\n",
    "dirname = 'C:/Users/User/PycharmProjects/CoLing_mag_2021/tf idf'\n",
    "files = os.listdir(dirname)\n",
    "\n",
    "sentences = []\n",
    "word_set = []\n",
    "\n",
    "for fle in files:\n",
    "    print(dirname + \"/\" + fle)\n",
    "    with open(dirname + \"/\" + fle, 'r', encoding='utf-8') as f:\n",
    "        for sent in f:\n",
    "            x = [i.lower() for i in word_tokenize(sent) if i.isalpha()]\n",
    "            sentences.append(x)\n",
    "            for word in x:\n",
    "                if word not in word_set:\n",
    "                    word_set.append(word)\n",
    "\n",
    "word_set = set(word_set)\n",
    "total_documents = len(sentences)\n",
    "index_dict = {}\n",
    "i = 0\n",
    "for word in word_set:\n",
    "    index_dict[word] = i\n",
    "    i += 1\n",
    "\n",
    "\n",
    "def count_dict(sentences):\n",
    "    word_count = {}\n",
    "    for word in word_set:\n",
    "        word_count[word] = 0\n",
    "        for sent in sentences:\n",
    "            if word in sent:\n",
    "                word_count[word] += 1\n",
    "    return word_count\n",
    "\n",
    "\n",
    "word_count = count_dict(sentences)\n",
    "\n",
    "\n",
    "def termfreq(document, word):\n",
    "    N = len(document)\n",
    "    occurance = len([token for token in document if token == word])\n",
    "    return occurance/N\n",
    "\n",
    "def inverse_doc_freq(word):\n",
    "    try:\n",
    "        word_occurance = word_count[word] + 1\n",
    "    except:\n",
    "        word_occurance = 1\n",
    "    return np.log(total_documents / word_occurance)\n",
    "\n",
    "\n",
    "def tf_idf(sentence):\n",
    "    tf_idf_vec = np.zeros((len(word_set),))\n",
    "    for word in sentence:\n",
    "        tf = termfreq(sentence, word)\n",
    "        idf = inverse_doc_freq(word)\n",
    "        value = tf * idf\n",
    "        tf_idf_vec[index_dict[word]] = value\n",
    "    return tf_idf_vec\n",
    "\n",
    "\n",
    "vectors = []\n",
    "for sent in sentences:\n",
    "    vec = tf_idf(sent)\n",
    "    vectors.append(vec)\n",
    "\n",
    "print(vectors[0])\n",
    "\n",
    "# your code here"
   ]
  },
  {
   "cell_type": "markdown",
   "metadata": {},
   "source": [
    "3. Будем вычислять контекстные вектора (а-ля редис и картошка, что были на паре) и смотреть косинусную близость этих векторов. Помните нашу дистрибутивную гипотезу: слово определяется своим контекстом. Мы ожидаем, что слова, которые макисмально близки друг другу по косинусному расстоянию, будут синонимами.\n",
    "\n",
    "Итак, шаги:\n",
    "1. Предобработка. Лучше учитывать границы предложения, как мы выяснили на занятии.\n",
    "2. Выбираем ширину окна. т.е. сколько слов слева и справа вы хотите учитывать. Можете сами задать, можете попробовать разные размеры, больше 10 слева и справа брать не советую:)\n",
    "3. Нам не хочется смотреть на предлоги и союзы. Воспользуйтесь майстемом или rnnmorph (будет точнее) и удалите все, кроме интересных вам частей речи. Решение, что удалять, а что оставлять - за вами.\n",
    "4. Посчитайте контекстные вектора оставшихся слов.\n",
    "5. Сериализуйте вашу матрицу с помощью pickle или dill, чтобы эти вектора не нужно было высчитывать заново, например, когда я или Саша будем проверять ваше задание:)\n",
    "6. Все готово для того, чтобы считать косинусную меру. Прочитайте, как это дело считается. Можно (скорее, нужно) пользоваться методами из библиотеки numpy. Если вы ее еще не проходили, то читайте документацию - вам все равно придется с ней работать. Эти цифры тоже советую сохранить.\n",
    "7. Вы великолепны, можете брать 10 слов, которые соотвествуют наибольшей чиселке косинусной меры - это и должны быть 10 самых близких слов по контексту."
   ]
  },
  {
   "cell_type": "code",
   "execution_count": 2,
   "metadata": {},
   "outputs": [],
   "source": [
    "# your code here"
   ]
  }
 ],
 "metadata": {
  "kernelspec": {
   "display_name": "Python 3",
   "language": "python",
   "name": "python3"
  },
  "language_info": {
   "codemirror_mode": {
    "name": "ipython",
    "version": 3
   },
   "file_extension": ".py",
   "mimetype": "text/x-python",
   "name": "python",
   "nbconvert_exporter": "python",
   "pygments_lexer": "ipython3",
   "version": "3.7.6"
  }
 },
 "nbformat": 4,
 "nbformat_minor": 4
}