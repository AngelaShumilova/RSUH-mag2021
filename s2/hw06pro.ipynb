{
 "cells": [
  {
   "cell_type": "code",
   "execution_count": null,
   "metadata": {
    "_uuid": "568eb2d31004b87d22e119112ae01a1e75105f1d"
   },
   "outputs": [],
   "source": [
    "import pandas as pd"
   ]
  },
  {
   "cell_type": "markdown",
   "metadata": {},
   "source": [
    "#### Описание данных\n",
    "\n",
    "В папке Data находится информация о студентах. Всего 10 групп студентов. Файлы делятся на две категории:\n",
    "    * Students_info_i - информация о студентах из группы i\n",
    "    * Students_marks_i - оценки студентов из группы i за экзамены"
   ]
  },
  {
   "cell_type": "markdown",
   "metadata": {},
   "source": [
    "Одно из важных достоинств pandas $-$ это удобные методы реляционного взаимодействия с данными, аналогичные, например, возможностям SQL для слияния и конкатенации таблиц: merge, join, concat. Наличие готовых методов позволяет не реализовывать самостоятельно поэлементную обработку данных и оперировать сразу целыми таблицами данных.\n",
    "\n",
    "Подробно об этих методах посмотрите тут: https://www.kaggle.com/residentmario/renaming-and-combining#Combining"
   ]
  },
  {
   "cell_type": "markdown",
   "metadata": {},
   "source": [
    "#### Задание 1. \n",
    "\n",
    "Соберите всю информацию о студентах в одну таблицу df. В получившейся таблице должна быть информация и оценки всех студентов из всех групп. Напечатайте несколько строк таблицы для демонстрации результата.¶"
   ]
  },
  {
   "cell_type": "code",
   "execution_count": null,
   "metadata": {},
   "outputs": [],
   "source": [
    "import pandas as pd\n",
    "\n",
    "df = pd.DataFrame()\n",
    "\n",
    "for i in range(0,10):\n",
    "    df_stu = pd.read_csv(f'Data/Students_info_{i}.csv')\n",
    "    df_marks = pd.read_csv(f'Data/Students_marks_{i}.csv')\n",
    "    df1 = pd.concat([df_stu, df_marks[['math score','reading score', 'writing score']]], axis = 1)\n",
    "    df = pd.concat([df, df1])\n",
    "\n",
    "# df.head()\n",
    "# df.tail()\n",
    "df.sample(10)\n",
    "#your code here"
   ]
  },
  {
   "cell_type": "markdown",
   "metadata": {
    "_uuid": "8524af4cbd2f7b7810e8a3095a74c9fe1df7eafa"
   },
   "source": [
    "#### Задание 2. \n",
    "\n",
    "Удалите столбец index у полученной таблицы. Напечатайте первые 10 строк таблицы. Выведите на экран размеры полученной таблицы."
   ]
  },
  {
   "cell_type": "code",
   "execution_count": null,
   "metadata": {
    "_uuid": "fe62eee87b9b94ab923f57b55eaf0554612aa9e9"
   },
   "outputs": [],
   "source": [
    "\n",
    "df.drop('index', inplace=True, axis=1)\n",
    "\n",
    "df.sample(10)\n",
    "df.shape\n",
    "\n",
    "\n",
    "#your code here"
   ]
  },
  {
   "cell_type": "markdown",
   "metadata": {
    "_uuid": "fe8e3d58d29ca25dbbcf001392377643e6ff9a36"
   },
   "source": [
    "#### Задание 3. \n",
    "\n",
    "Выведите на экран статистические характеристики числовых столбцов таблицы (минимум, максимум, среднее значение, стандартное отклонение)"
   ]
  },
  {
   "cell_type": "code",
   "execution_count": null,
   "metadata": {
    "_uuid": "e3d4bb80d2c4251fe517c24fcf08c5ff2d67b8aa"
   },
   "outputs": [],
   "source": [
    "import numpy as np\n",
    "\n",
    "print('     minimum scores:')\n",
    "print(np.min(df[['math score', 'reading score', 'writing score']]))\n",
    "\n",
    "print('\\n     mean scores:')\n",
    "print(np.mean(df[['math score', 'reading score', 'writing score']]))\n",
    "\n",
    "print('\\n     maximum scores:')\n",
    "print(np.max(df[['math score', 'reading score', 'writing score']]))\n",
    "\n",
    "print('\\n     std of scores:')\n",
    "print(np.std(df[['math score', 'reading score', 'writing score']]))\n",
    "\n",
    "df.describe()\n",
    "# your code here"
   ]
  },
  {
   "cell_type": "markdown",
   "metadata": {
    "_uuid": "b26b7de83485ecb3b8a0a7865a596e24527c7b2f"
   },
   "source": [
    "#### Задание 4. \n",
    "\n",
    "Проверьте, есть ли в таблице пропущенные значения"
   ]
  },
  {
   "cell_type": "code",
   "execution_count": null,
   "metadata": {
    "_uuid": "4eac3f8f83d07c6e58ad1576fe0e773f37034a2f"
   },
   "outputs": [],
   "source": [
    "\n",
    "df.info()\n",
    "\n",
    "\n",
    "# your code here"
   ]
  },
  {
   "cell_type": "markdown",
   "metadata": {},
   "source": [
    "#### Задание 5. \n",
    "\n",
    "Выведите на экран средние баллы студентов по каждому предмету (math, reading, writing)"
   ]
  },
  {
   "cell_type": "code",
   "execution_count": null,
   "metadata": {},
   "outputs": [],
   "source": [
    "print('\\n     mean scores:')\n",
    "print(np.mean(df[['math score', 'reading score', 'writing score']]))\n",
    "# your code here"
   ]
  },
  {
   "cell_type": "markdown",
   "metadata": {},
   "source": [
    "#### Задание 6. \n",
    "\n",
    "Как зависят оценки от того, проходил ли студент курс для подготовки к сдаче экзамена (test preparation course)? Выведите на экран для каждого предмета в отдельности средний балл студентов, проходивших курс для подготовки к экзамену и не проходивших курс."
   ]
  },
  {
   "cell_type": "code",
   "execution_count": null,
   "metadata": {},
   "outputs": [],
   "source": [
    "# df.columns = df.columns.str.replace(' ', '_')\n",
    "df.rename(columns = {'test preparation course':'test_preparation_course'}, inplace = True)\n",
    "df_with_course = df[df.test_preparation_course == 'completed']\n",
    "df_without_course = df[df.test_preparation_course == 'none']\n",
    "\n",
    "\n",
    "print('\\n     mean scores of students who completed the preparation course:')\n",
    "print(np.mean(df_with_course[['math score', 'reading score', 'writing score']]))\n",
    "\n",
    "print('\\n     mean scores of students who didn\\'t complete the preparation course:')\n",
    "print(np.mean(df_without_course[['math score', 'reading score', 'writing score']]))\n",
    "# your code here"
   ]
  },
  {
   "cell_type": "markdown",
   "metadata": {},
   "source": [
    "#### Задание 7. \n",
    "\n",
    "Выведите на экран все различные значения из столбца lunch."
   ]
  },
  {
   "cell_type": "code",
   "execution_count": null,
   "metadata": {},
   "outputs": [],
   "source": [
    "\n",
    "set(df.lunch)\n",
    "\n",
    "\n",
    "# your code here"
   ]
  },
  {
   "cell_type": "markdown",
   "metadata": {},
   "source": [
    "#### Задание 8. \n",
    "\n",
    "Переименуйте колонку \"parental level of education\" в \"education\", а \"test preparation course\" в \"test preparation\" с помощью метода pandas rename\n",
    "https://pandas.pydata.org/pandas-docs/stable/reference/api/pandas.DataFrame.rename.html"
   ]
  },
  {
   "cell_type": "code",
   "execution_count": null,
   "metadata": {},
   "outputs": [],
   "source": [
    "df.rename(columns = {'parental level of education':'education'}, inplace = True)\n",
    "df.rename(columns = {'test_preparation_course':'test preparation'}, inplace = True)\n",
    "# your code here"
   ]
  },
  {
   "cell_type": "markdown",
   "metadata": {},
   "source": [
    "**Зафиксируем минимальный балл для сдачи экзамена**"
   ]
  },
  {
   "cell_type": "code",
   "execution_count": null,
   "metadata": {},
   "outputs": [],
   "source": [
    "passmark = 50"
   ]
  },
  {
   "cell_type": "markdown",
   "metadata": {},
   "source": [
    "#### Задание 9. \n",
    "\n",
    "Ответьте на вопросы:\n",
    "\n",
    "    * Какая доля студентов сдала экзамен по математике (passmark > 50)?\n",
    "    * Какая доля студентов, проходивших курс подготовки к экзамену, сдала экзамен по математике?\n",
    "    * Какая доля женщин, не проходивших курс подготовки к экзамену, не сдала экзамен по математике? "
   ]
  },
  {
   "cell_type": "code",
   "execution_count": null,
   "metadata": {},
   "outputs": [],
   "source": [
    "print(f'Доля студентов, сдавших экз по математике:', end = ' ')\n",
    "print(len(df[df['math score'] > passmark])/len(df))\n",
    "\n",
    "print(f'Доля студентов, проходивших курс подготовки к экзамену и сдавших экз по математике:', end = ' ')\n",
    "print(len(df[df['math score'] > passmark & (df['test preparation'] == 'completed')])/len(df))\n",
    "\n",
    "print(f'Доля женщин, не проходивших курс подготовки к экзамену и не сдавших экз по математике:', end = ' ')\n",
    "print(len(df[df['math score'] < passmark & (df['test preparation'] == 'none') & (df['gender'] == 'female')]))\n",
    "# your code here"
   ]
  },
  {
   "cell_type": "markdown",
   "metadata": {},
   "source": [
    "#### Задание 10. \n",
    "\n",
    "С помощью groupby выполните задания ниже. Также выведите время выполнения каждого из заданий.\n",
    "\n",
    "    * Для каждой этнической группы выведите средний балл за экзамен по чтению\n",
    "    * Для каждого уровня образования выведите минимальный балл за экзамен по письму"
   ]
  },
  {
   "cell_type": "code",
   "execution_count": null,
   "metadata": {},
   "outputs": [],
   "source": [
    "print(df.groupby(['race/ethnicity'])[['reading score']].mean())\n",
    "print(df.groupby(['education'])[['writing score']].min())\n",
    "# your code here"
   ]
  },
  {
   "cell_type": "markdown",
   "metadata": {},
   "source": [
    "#### Задание 11.\n",
    "\n",
    "Выполните задание 11 с помощью циклов. Сравните время выполнения."
   ]
  },
  {
   "cell_type": "code",
   "execution_count": null,
   "metadata": {},
   "outputs": [],
   "source": [
    "# лирическое отступление - борьба с индексами (я - их, или они - меня?)\n",
    "# for i in set(df['race/ethnicity']):\n",
    "#         print(i)\n",
    "\n",
    "# i = 'group A'\n",
    "# df1 = pd.DataFrame({'groups': ['group A', 'group B','group A', 'group B','group A', 'group B'],\n",
    "#                   'reading': [1,2,3,4,5,6]})\n",
    "# df1[df1.groups == f'{i}']\n",
    "# len(df1[df1.groups == 'group A'])\n",
    "# df1[df1['groups'] == 'group A'].reading.mean()\n",
    "# df1[df1['groups'] == 'group A']['reading'].mean()\n",
    "# print(df1[df1['groups'] == 'group A'])\n",
    "\n",
    "\n",
    "\n",
    "import time\n",
    "\n",
    "t = time.time()\n",
    "print(df.groupby(['race/ethnicity'])[['reading score']].mean())\n",
    "t1 = time.time() - t\n",
    "print(f'elapsed time: {t1}')\n",
    "print('')\n",
    "\n",
    "t = time.time()\n",
    "print('race\\ethnicity'.ljust(17) + 'mean reading score')\n",
    "for i in sorted(set(df['race/ethnicity'])):\n",
    "        print(i.ljust(17), end = '')\n",
    "        print(df[df['race/ethnicity'] == f'{i}']['reading score'].mean())\n",
    "t2 = time.time() - t\n",
    "print(f'elapsed time: {t2}')\n",
    "\n",
    "# groupby работает быстрее\n",
    "# your code here"
   ]
  },
  {
   "cell_type": "markdown",
   "metadata": {},
   "source": [
    "#### Задание 12. \n",
    "\n",
    "Выведите на экран средние баллы студентов по каждому предмету в зависимости от пола и уровня образования. То есть должно получиться количество групп, равных 2 * (число уровней образования), и для каждой такой группы выыведите средний балл по каждому из предметов.\n",
    "\n",
    "Это можно сделать с помощью сводных таблиц (pivot_table). Дополнительно о них почитать можно тут:\n",
    "\n",
    "https://www.kaggle.com/kamilpolak/tutorial-how-to-use-pivot-table-in-pandas"
   ]
  },
  {
   "cell_type": "code",
   "execution_count": null,
   "metadata": {},
   "outputs": [],
   "source": [
    "df.head()\n",
    "\n",
    "pd.pivot_table(df, index = ['gender', 'education'],\n",
    "               values = ['math score', 'reading score', 'writing score'],\n",
    "              aggfunc = np.mean)\n",
    "# your code here"
   ]
  },
  {
   "cell_type": "markdown",
   "metadata": {
    "_uuid": "3e832cb427c4314582d1953a41b8c78db75e30e3"
   },
   "source": [
    "#### Задание 13. \n",
    "\n",
    "Сколько студентов успешно сдали экзамен по математике?\n",
    "\n",
    "Создайте новый столбец в таблице df под названием Math_PassStatus и запишите в него F, если студент не сдал экзамен по математике (балл за экзамен < passmark), и P иначе.\n",
    "\n",
    "Посчитайте количество студентов, сдавших и не сдавших экзамен по математике.\n",
    "\n",
    "Сделайте аналогичные шаги для экзаменов по чтению и письму."
   ]
  },
  {
   "cell_type": "code",
   "execution_count": null,
   "metadata": {
    "_uuid": "f43cddb72cc96b30df84bc0de83a4d9170904340"
   },
   "outputs": [],
   "source": [
    "\n",
    "# a_lambda_function = lambda x: x*2 if x < 3 else x\n",
    "passmark = 50\n",
    "# df.assign(Math_PassStatus=lambda x: x['math score']+2)\n",
    "df['Math_PassStatus'] = df['math score'].apply(lambda x: 'F' if x < passmark else 'P')\n",
    "df.head()\n",
    "print(df.groupby(['Math_PassStatus'])[['math score']].count())\n",
    "# тут если применить count ко всему датафрейму, подсчитает в каждом столбце, подэтому подсчитала в math score\n",
    "\n",
    "df['Reading_PassStatus'] = df['reading score'].apply(lambda x: 'F' if x < passmark else 'P')\n",
    "df['Writing_PassStatus'] = df['writing score'].apply(lambda x: 'F' if x < passmark else 'P')\n",
    "\n",
    "print(df.groupby(['Reading_PassStatus'])[['reading score']].count())\n",
    "print(df.groupby(['Writing_PassStatus'])[['writing score']].count())\n",
    "\n",
    "df.head()\n",
    "\n",
    "\n",
    "# your code here"
   ]
  },
  {
   "cell_type": "markdown",
   "metadata": {
    "_uuid": "b753c90914ee65501e2ed263ea614d88a381c472"
   },
   "source": [
    "#### Задание 14. \n",
    "\n",
    "Сколько студентов успешно сдали все экзамены?\n",
    "\n",
    "Создайте столбец OverAll_PassStatus и запишите в него для каждого студента 'F', если студент не сдал хотя бы один из трех экзаменов, а иначе 'P'.\n",
    "\n",
    "Посчитайте количество студентов, которые сдали все экзамены."
   ]
  },
  {
   "cell_type": "code",
   "execution_count": null,
   "metadata": {
    "_uuid": "e98f895a022b967cab801447b616222439fe9d84"
   },
   "outputs": [],
   "source": [
    "df[\"OverAll_PassStatus\"] = df[[\"Math_PassStatus\", \"Reading_PassStatus\", 'Writing_PassStatus']].apply(lambda x:\n",
    "                                                                                                    'F' if (x[['Math_PassStatus', 'Reading_PassStatus', 'Writing_PassStatus']] == 'F').any() else 'P', axis = 1)\n",
    "\n",
    "df.sample(20)\n",
    "# your code here"
   ]
  },
  {
   "cell_type": "markdown",
   "metadata": {
    "_uuid": "3af9c6cb4cbfff66d4ae09509f10b8b6ce33075d"
   },
   "source": [
    "#### Задание 15. \n",
    "\n",
    "Переведем баллы в оценки\n",
    "\n",
    "*Система перевода баллов в оценки*\n",
    "\n",
    "        [90;100] = A\n",
    "        [80;90) = B\n",
    "        [70;80) = C\n",
    "        [60;70) = D\n",
    "        [50;60) = E\n",
    "        [0;50) = F (Fail)\n",
    "\n",
    "Создайте вспомогательную функцию, которая будет по среднему баллу за три экзамена выставлять оценку студенту по данным выше критериям.\n",
    "\n",
    "Создайте столбец Grade и запишите в него оценку каждого студента.\n",
    "\n",
    "Выведите количество студентов, получивших каждую из оценок."
   ]
  },
  {
   "cell_type": "code",
   "execution_count": null,
   "metadata": {
    "_uuid": "04707c5be4237020b906d2ac705a0db3d620506f"
   },
   "outputs": [],
   "source": [
    "def GetGrade(average_mark):\n",
    "    # your code here    \n",
    "\n",
    "# your code here"
   ]
  }
 ],
 "metadata": {
  "kernelspec": {
   "display_name": "Python 3 (ipykernel)",
   "language": "python",
   "name": "python3"
  },
  "language_info": {
   "codemirror_mode": {
    "name": "ipython",
    "version": 3
   },
   "file_extension": ".py",
   "mimetype": "text/x-python",
   "name": "python",
   "nbconvert_exporter": "python",
   "pygments_lexer": "ipython3",
   "version": "3.8.10"
  }
 },
 "nbformat": 4,
 "nbformat_minor": 4
}