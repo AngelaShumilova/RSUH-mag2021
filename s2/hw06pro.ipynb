{
 "cells": [
  {
   "cell_type": "code",
   "execution_count": 93,
   "metadata": {
    "_uuid": "568eb2d31004b87d22e119112ae01a1e75105f1d",
    "pycharm": {
     "name": "#%%\n"
    }
   },
   "outputs": [],
   "source": [
    "import pandas as pd"
   ]
  },
  {
   "cell_type": "markdown",
   "metadata": {
    "pycharm": {
     "name": "#%% md\n"
    }
   },
   "source": [
    "#### Описание данных\n",
    "\n",
    "В папке Data находится информация о студентах. Всего 10 групп студентов. Файлы делятся на две категории:\n",
    "    * Students_info_i - информация о студентах из группы i\n",
    "    * Students_marks_i - оценки студентов из группы i за экзамены"
   ]
  },
  {
   "cell_type": "markdown",
   "metadata": {
    "pycharm": {
     "name": "#%% md\n"
    }
   },
   "source": [
    "Одно из важных достоинств pandas $-$ это удобные методы реляционного взаимодействия с данными, аналогичные, например, возможностям SQL для слияния и конкатенации таблиц: merge, join, concat. Наличие готовых методов позволяет не реализовывать самостоятельно поэлементную обработку данных и оперировать сразу целыми таблицами данных.\n",
    "\n",
    "Подробно об этих методах посмотрите тут: https://www.kaggle.com/residentmario/renaming-and-combining#Combining"
   ]
  },
  {
   "cell_type": "markdown",
   "metadata": {
    "pycharm": {
     "name": "#%% md\n"
    }
   },
   "source": [
    "#### Задание 1. \n",
    "\n",
    "Соберите всю информацию о студентах в одну таблицу df. В получившейся таблице должна быть информация и оценки всех студентов из всех групп. Напечатайте несколько строк таблицы для демонстрации результата.¶"
   ]
  },
  {
   "cell_type": "code",
   "execution_count": 94,
   "metadata": {
    "pycharm": {
     "name": "#%%\n"
    }
   },
   "outputs": [
    {
     "data": {
      "text/plain": "    index  gender race/ethnicity parental level of education         lunch  \\\n14     14  female        group A             master's degree      standard   \n97    297    male        group E          associate's degree      standard   \n8     708    male        group D                 high school      standard   \n36    936    male        group A          associate's degree      standard   \n1       1  female        group C                some college      standard   \n47    147    male        group C          associate's degree  free/reduced   \n28    528  female        group D           bachelor's degree  free/reduced   \n12    712  female        group D                some college      standard   \n87    687    male        group D          associate's degree  free/reduced   \n56    456  female        group D           bachelor's degree      standard   \n\n   test preparation course    group  math score  reading score  writing score  \n14                    none   group1          50             53             58  \n97               completed   group3          71             74             68  \n8                     none   group8          89             87             79  \n36                    none  group10          67             57             53  \n1                completed   group1          69             90             88  \n47                    none   group2          73             68             66  \n28                    none   group6          29             41             47  \n12                    none   group8          98            100             99  \n87                    none   group7          77             78             73  \n56                    none   group5          79             89             89  ",
      "text/html": "<div>\n<style scoped>\n    .dataframe tbody tr th:only-of-type {\n        vertical-align: middle;\n    }\n\n    .dataframe tbody tr th {\n        vertical-align: top;\n    }\n\n    .dataframe thead th {\n        text-align: right;\n    }\n</style>\n<table border=\"1\" class=\"dataframe\">\n  <thead>\n    <tr style=\"text-align: right;\">\n      <th></th>\n      <th>index</th>\n      <th>gender</th>\n      <th>race/ethnicity</th>\n      <th>parental level of education</th>\n      <th>lunch</th>\n      <th>test preparation course</th>\n      <th>group</th>\n      <th>math score</th>\n      <th>reading score</th>\n      <th>writing score</th>\n    </tr>\n  </thead>\n  <tbody>\n    <tr>\n      <th>14</th>\n      <td>14</td>\n      <td>female</td>\n      <td>group A</td>\n      <td>master's degree</td>\n      <td>standard</td>\n      <td>none</td>\n      <td>group1</td>\n      <td>50</td>\n      <td>53</td>\n      <td>58</td>\n    </tr>\n    <tr>\n      <th>97</th>\n      <td>297</td>\n      <td>male</td>\n      <td>group E</td>\n      <td>associate's degree</td>\n      <td>standard</td>\n      <td>completed</td>\n      <td>group3</td>\n      <td>71</td>\n      <td>74</td>\n      <td>68</td>\n    </tr>\n    <tr>\n      <th>8</th>\n      <td>708</td>\n      <td>male</td>\n      <td>group D</td>\n      <td>high school</td>\n      <td>standard</td>\n      <td>none</td>\n      <td>group8</td>\n      <td>89</td>\n      <td>87</td>\n      <td>79</td>\n    </tr>\n    <tr>\n      <th>36</th>\n      <td>936</td>\n      <td>male</td>\n      <td>group A</td>\n      <td>associate's degree</td>\n      <td>standard</td>\n      <td>none</td>\n      <td>group10</td>\n      <td>67</td>\n      <td>57</td>\n      <td>53</td>\n    </tr>\n    <tr>\n      <th>1</th>\n      <td>1</td>\n      <td>female</td>\n      <td>group C</td>\n      <td>some college</td>\n      <td>standard</td>\n      <td>completed</td>\n      <td>group1</td>\n      <td>69</td>\n      <td>90</td>\n      <td>88</td>\n    </tr>\n    <tr>\n      <th>47</th>\n      <td>147</td>\n      <td>male</td>\n      <td>group C</td>\n      <td>associate's degree</td>\n      <td>free/reduced</td>\n      <td>none</td>\n      <td>group2</td>\n      <td>73</td>\n      <td>68</td>\n      <td>66</td>\n    </tr>\n    <tr>\n      <th>28</th>\n      <td>528</td>\n      <td>female</td>\n      <td>group D</td>\n      <td>bachelor's degree</td>\n      <td>free/reduced</td>\n      <td>none</td>\n      <td>group6</td>\n      <td>29</td>\n      <td>41</td>\n      <td>47</td>\n    </tr>\n    <tr>\n      <th>12</th>\n      <td>712</td>\n      <td>female</td>\n      <td>group D</td>\n      <td>some college</td>\n      <td>standard</td>\n      <td>none</td>\n      <td>group8</td>\n      <td>98</td>\n      <td>100</td>\n      <td>99</td>\n    </tr>\n    <tr>\n      <th>87</th>\n      <td>687</td>\n      <td>male</td>\n      <td>group D</td>\n      <td>associate's degree</td>\n      <td>free/reduced</td>\n      <td>none</td>\n      <td>group7</td>\n      <td>77</td>\n      <td>78</td>\n      <td>73</td>\n    </tr>\n    <tr>\n      <th>56</th>\n      <td>456</td>\n      <td>female</td>\n      <td>group D</td>\n      <td>bachelor's degree</td>\n      <td>standard</td>\n      <td>none</td>\n      <td>group5</td>\n      <td>79</td>\n      <td>89</td>\n      <td>89</td>\n    </tr>\n  </tbody>\n</table>\n</div>"
     },
     "execution_count": 94,
     "metadata": {},
     "output_type": "execute_result"
    }
   ],
   "source": [
    "df = pd.DataFrame()\n",
    "\n",
    "for i in range(0, 10):\n",
    "    df_stu = pd.read_csv(f'Data/Students_info_{i}.csv')\n",
    "    df_marks = pd.read_csv(f'Data/Students_marks_{i}.csv')\n",
    "    df1 = pd.concat([df_stu, df_marks[['math score', 'reading score', 'writing score']]], axis=1)\n",
    "    df = pd.concat([df, df1])\n",
    "\n",
    "# df.head()\n",
    "# df.tail()\n",
    "df.sample(10)\n",
    "#your code here"
   ]
  },
  {
   "cell_type": "markdown",
   "metadata": {
    "_uuid": "8524af4cbd2f7b7810e8a3095a74c9fe1df7eafa",
    "pycharm": {
     "name": "#%% md\n"
    }
   },
   "source": [
    "#### Задание 2. \n",
    "\n",
    "Удалите столбец index у полученной таблицы. Напечатайте первые 10 строк таблицы. Выведите на экран размеры полученной таблицы."
   ]
  },
  {
   "cell_type": "code",
   "execution_count": 95,
   "metadata": {
    "_uuid": "fe62eee87b9b94ab923f57b55eaf0554612aa9e9",
    "pycharm": {
     "name": "#%%\n"
    }
   },
   "outputs": [
    {
     "data": {
      "text/plain": "(1000, 9)"
     },
     "execution_count": 95,
     "metadata": {},
     "output_type": "execute_result"
    }
   ],
   "source": [
    "\n",
    "df.drop('index', inplace=True, axis=1)\n",
    "\n",
    "df.sample(10)\n",
    "df.shape\n",
    "\n",
    "\n",
    "#your code here"
   ]
  },
  {
   "cell_type": "markdown",
   "metadata": {
    "_uuid": "fe8e3d58d29ca25dbbcf001392377643e6ff9a36",
    "pycharm": {
     "name": "#%% md\n"
    }
   },
   "source": [
    "#### Задание 3. \n",
    "\n",
    "Выведите на экран статистические характеристики числовых столбцов таблицы (минимум, максимум, среднее значение, стандартное отклонение)"
   ]
  },
  {
   "cell_type": "code",
   "execution_count": 96,
   "metadata": {
    "_uuid": "e3d4bb80d2c4251fe517c24fcf08c5ff2d67b8aa",
    "pycharm": {
     "name": "#%%\n"
    }
   },
   "outputs": [
    {
     "name": "stdout",
     "output_type": "stream",
     "text": [
      "     minimum scores:\n",
      "math score        0\n",
      "reading score    17\n",
      "writing score    10\n",
      "dtype: int64\n",
      "\n",
      "     mean scores:\n",
      "math score       66.089\n",
      "reading score    69.169\n",
      "writing score    68.054\n",
      "dtype: float64\n",
      "\n",
      "     maximum scores:\n",
      "math score       100\n",
      "reading score    100\n",
      "writing score    100\n",
      "dtype: int64\n",
      "\n",
      "     std of scores:\n",
      "math score       15.155497\n",
      "reading score    14.592890\n",
      "writing score    15.188057\n",
      "dtype: float64\n"
     ]
    },
    {
     "data": {
      "text/plain": "       math score  reading score  writing score\ncount  1000.00000    1000.000000    1000.000000\nmean     66.08900      69.169000      68.054000\nstd      15.16308      14.600192      15.195657\nmin       0.00000      17.000000      10.000000\n25%      57.00000      59.000000      57.750000\n50%      66.00000      70.000000      69.000000\n75%      77.00000      79.000000      79.000000\nmax     100.00000     100.000000     100.000000",
      "text/html": "<div>\n<style scoped>\n    .dataframe tbody tr th:only-of-type {\n        vertical-align: middle;\n    }\n\n    .dataframe tbody tr th {\n        vertical-align: top;\n    }\n\n    .dataframe thead th {\n        text-align: right;\n    }\n</style>\n<table border=\"1\" class=\"dataframe\">\n  <thead>\n    <tr style=\"text-align: right;\">\n      <th></th>\n      <th>math score</th>\n      <th>reading score</th>\n      <th>writing score</th>\n    </tr>\n  </thead>\n  <tbody>\n    <tr>\n      <th>count</th>\n      <td>1000.00000</td>\n      <td>1000.000000</td>\n      <td>1000.000000</td>\n    </tr>\n    <tr>\n      <th>mean</th>\n      <td>66.08900</td>\n      <td>69.169000</td>\n      <td>68.054000</td>\n    </tr>\n    <tr>\n      <th>std</th>\n      <td>15.16308</td>\n      <td>14.600192</td>\n      <td>15.195657</td>\n    </tr>\n    <tr>\n      <th>min</th>\n      <td>0.00000</td>\n      <td>17.000000</td>\n      <td>10.000000</td>\n    </tr>\n    <tr>\n      <th>25%</th>\n      <td>57.00000</td>\n      <td>59.000000</td>\n      <td>57.750000</td>\n    </tr>\n    <tr>\n      <th>50%</th>\n      <td>66.00000</td>\n      <td>70.000000</td>\n      <td>69.000000</td>\n    </tr>\n    <tr>\n      <th>75%</th>\n      <td>77.00000</td>\n      <td>79.000000</td>\n      <td>79.000000</td>\n    </tr>\n    <tr>\n      <th>max</th>\n      <td>100.00000</td>\n      <td>100.000000</td>\n      <td>100.000000</td>\n    </tr>\n  </tbody>\n</table>\n</div>"
     },
     "execution_count": 96,
     "metadata": {},
     "output_type": "execute_result"
    }
   ],
   "source": [
    "import numpy as np\n",
    "\n",
    "print('     minimum scores:')\n",
    "print(np.min(df[['math score', 'reading score', 'writing score']]))\n",
    "\n",
    "print('\\n     mean scores:')\n",
    "print(np.mean(df[['math score', 'reading score', 'writing score']]))\n",
    "\n",
    "print('\\n     maximum scores:')\n",
    "print(np.max(df[['math score', 'reading score', 'writing score']]))\n",
    "\n",
    "print('\\n     std of scores:')\n",
    "print(np.std(df[['math score', 'reading score', 'writing score']]))\n",
    "\n",
    "df.describe()\n",
    "# your code here"
   ]
  },
  {
   "cell_type": "markdown",
   "metadata": {
    "_uuid": "b26b7de83485ecb3b8a0a7865a596e24527c7b2f",
    "pycharm": {
     "name": "#%% md\n"
    }
   },
   "source": [
    "#### Задание 4. \n",
    "\n",
    "Проверьте, есть ли в таблице пропущенные значения"
   ]
  },
  {
   "cell_type": "code",
   "execution_count": 97,
   "metadata": {
    "_uuid": "4eac3f8f83d07c6e58ad1576fe0e773f37034a2f",
    "pycharm": {
     "name": "#%%\n"
    }
   },
   "outputs": [
    {
     "name": "stdout",
     "output_type": "stream",
     "text": [
      "<class 'pandas.core.frame.DataFrame'>\n",
      "Int64Index: 1000 entries, 0 to 99\n",
      "Data columns (total 9 columns):\n",
      " #   Column                       Non-Null Count  Dtype \n",
      "---  ------                       --------------  ----- \n",
      " 0   gender                       1000 non-null   object\n",
      " 1   race/ethnicity               1000 non-null   object\n",
      " 2   parental level of education  1000 non-null   object\n",
      " 3   lunch                        1000 non-null   object\n",
      " 4   test preparation course      1000 non-null   object\n",
      " 5   group                        1000 non-null   object\n",
      " 6   math score                   1000 non-null   int64 \n",
      " 7   reading score                1000 non-null   int64 \n",
      " 8   writing score                1000 non-null   int64 \n",
      "dtypes: int64(3), object(6)\n",
      "memory usage: 78.1+ KB\n"
     ]
    }
   ],
   "source": [
    "\n",
    "df.info()\n",
    "\n",
    "\n",
    "# your code here"
   ]
  },
  {
   "cell_type": "markdown",
   "metadata": {
    "pycharm": {
     "name": "#%% md\n"
    }
   },
   "source": [
    "#### Задание 5. \n",
    "\n",
    "Выведите на экран средние баллы студентов по каждому предмету (math, reading, writing)"
   ]
  },
  {
   "cell_type": "code",
   "execution_count": 98,
   "metadata": {
    "pycharm": {
     "name": "#%%\n"
    }
   },
   "outputs": [
    {
     "name": "stdout",
     "output_type": "stream",
     "text": [
      "\n",
      "     mean scores:\n",
      "math score       66.089\n",
      "reading score    69.169\n",
      "writing score    68.054\n",
      "dtype: float64\n"
     ]
    }
   ],
   "source": [
    "print('\\n     mean scores:')\n",
    "print(np.mean(df[['math score', 'reading score', 'writing score']]))\n",
    "# your code here"
   ]
  },
  {
   "cell_type": "markdown",
   "metadata": {
    "pycharm": {
     "name": "#%% md\n"
    }
   },
   "source": [
    "#### Задание 6. \n",
    "\n",
    "Как зависят оценки от того, проходил ли студент курс для подготовки к сдаче экзамена (test preparation course)? Выведите на экран для каждого предмета в отдельности средний балл студентов, проходивших курс для подготовки к экзамену и не проходивших курс."
   ]
  },
  {
   "cell_type": "code",
   "execution_count": 99,
   "metadata": {
    "pycharm": {
     "name": "#%%\n"
    }
   },
   "outputs": [
    {
     "name": "stdout",
     "output_type": "stream",
     "text": [
      "\n",
      "     mean scores of students who completed the preparation course:\n",
      "math score       69.695531\n",
      "reading score    73.893855\n",
      "writing score    74.418994\n",
      "dtype: float64\n",
      "\n",
      "     mean scores of students who didn't complete the preparation course:\n",
      "math score       64.077882\n",
      "reading score    66.534268\n",
      "writing score    64.504673\n",
      "dtype: float64\n"
     ]
    }
   ],
   "source": [
    "# df.columns = df.columns.str.replace(' ', '_')\n",
    "df.rename(columns={'test preparation course': 'test_preparation_course'}, inplace=True)\n",
    "df_with_course = df[df.test_preparation_course == 'completed']\n",
    "df_without_course = df[df.test_preparation_course == 'none']\n",
    "\n",
    "print('\\n     mean scores of students who completed the preparation course:')\n",
    "print(np.mean(df_with_course[['math score', 'reading score', 'writing score']]))\n",
    "\n",
    "print('\\n     mean scores of students who didn\\'t complete the preparation course:')\n",
    "print(np.mean(df_without_course[['math score', 'reading score', 'writing score']]))\n",
    "# your code here"
   ]
  },
  {
   "cell_type": "markdown",
   "metadata": {
    "pycharm": {
     "name": "#%% md\n"
    }
   },
   "source": [
    "#### Задание 7. \n",
    "\n",
    "Выведите на экран все различные значения из столбца lunch."
   ]
  },
  {
   "cell_type": "code",
   "execution_count": 100,
   "metadata": {
    "pycharm": {
     "name": "#%%\n"
    }
   },
   "outputs": [
    {
     "data": {
      "text/plain": "{'free/reduced', 'standard'}"
     },
     "execution_count": 100,
     "metadata": {},
     "output_type": "execute_result"
    }
   ],
   "source": [
    "\n",
    "set(df.lunch)\n",
    "\n",
    "\n",
    "# your code here"
   ]
  },
  {
   "cell_type": "markdown",
   "metadata": {
    "pycharm": {
     "name": "#%% md\n"
    }
   },
   "source": [
    "#### Задание 8. \n",
    "\n",
    "Переименуйте колонку \"parental level of education\" в \"education\", а \"test preparation course\" в \"test preparation\" с помощью метода pandas rename\n",
    "https://pandas.pydata.org/pandas-docs/stable/reference/api/pandas.DataFrame.rename.html"
   ]
  },
  {
   "cell_type": "code",
   "execution_count": 101,
   "metadata": {
    "pycharm": {
     "name": "#%%\n"
    }
   },
   "outputs": [],
   "source": [
    "df.rename(columns={'parental level of education': 'education'}, inplace=True)\n",
    "df.rename(columns={'test_preparation_course': 'test preparation'}, inplace=True)\n",
    "# your code here"
   ]
  },
  {
   "cell_type": "markdown",
   "metadata": {
    "pycharm": {
     "name": "#%% md\n"
    }
   },
   "source": [
    "**Зафиксируем минимальный балл для сдачи экзамена**"
   ]
  },
  {
   "cell_type": "code",
   "execution_count": 102,
   "metadata": {
    "pycharm": {
     "name": "#%%\n"
    }
   },
   "outputs": [],
   "source": [
    "passmark = 50"
   ]
  },
  {
   "cell_type": "markdown",
   "metadata": {
    "pycharm": {
     "name": "#%% md\n"
    }
   },
   "source": [
    "#### Задание 9. \n",
    "\n",
    "Ответьте на вопросы:\n",
    "\n",
    "    * Какая доля студентов сдала экзамен по математике (passmark > 50)?\n",
    "    * Какая доля студентов, проходивших курс подготовки к экзамену, сдала экзамен по математике?\n",
    "    * Какая доля женщин, не проходивших курс подготовки к экзамену, не сдала экзамен по математике? "
   ]
  },
  {
   "cell_type": "code",
   "execution_count": 103,
   "metadata": {
    "pycharm": {
     "name": "#%%\n"
    }
   },
   "outputs": [
    {
     "name": "stdout",
     "output_type": "stream",
     "text": [
      "Доля студентов, сдавших экз по математике: 0.85\n",
      "Доля студентов, проходивших курс подготовки к экзамену и сдавших экз по математике: 0.999\n",
      "Доля женщин, не проходивших курс подготовки к экзамену и не сдавших экз по математике: 0\n"
     ]
    }
   ],
   "source": [
    "print(f'Доля студентов, сдавших экз по математике:', end=' ')\n",
    "print(len(df[df['math score'] > passmark]) / len(df))\n",
    "\n",
    "print(f'Доля студентов, проходивших курс подготовки к экзамену и сдавших экз по математике:', end=' ')\n",
    "print(len(df[df['math score'] > passmark & (df['test preparation'] == 'completed')]) / len(df))\n",
    "\n",
    "print(f'Доля женщин, не проходивших курс подготовки к экзамену и не сдавших экз по математике:', end=' ')\n",
    "print(len(df[df['math score'] < passmark & (df['test preparation'] == 'none') & (df['gender'] == 'female')]))\n",
    "# your code here"
   ]
  },
  {
   "cell_type": "markdown",
   "metadata": {
    "pycharm": {
     "name": "#%% md\n"
    }
   },
   "source": [
    "#### Задание 10. \n",
    "\n",
    "С помощью groupby выполните задания ниже. Также выведите время выполнения каждого из заданий.\n",
    "\n",
    "    * Для каждой этнической группы выведите средний балл за экзамен по чтению\n",
    "    * Для каждого уровня образования выведите минимальный балл за экзамен по письму"
   ]
  },
  {
   "cell_type": "code",
   "execution_count": 104,
   "metadata": {
    "pycharm": {
     "name": "#%%\n"
    }
   },
   "outputs": [
    {
     "name": "stdout",
     "output_type": "stream",
     "text": [
      "                reading score\n",
      "race/ethnicity               \n",
      "group A             64.674157\n",
      "group B             67.352632\n",
      "group C             69.103448\n",
      "group D             70.030534\n",
      "group E             73.028571\n",
      "                    writing score\n",
      "education                        \n",
      "associate's degree             35\n",
      "bachelor's degree              38\n",
      "high school                    15\n",
      "master's degree                46\n",
      "some college                   19\n",
      "some high school               10\n"
     ]
    }
   ],
   "source": [
    "print(df.groupby(['race/ethnicity'])[['reading score']].mean())\n",
    "print(df.groupby(['education'])[['writing score']].min())\n",
    "# your code here"
   ]
  },
  {
   "cell_type": "markdown",
   "metadata": {
    "pycharm": {
     "name": "#%% md\n"
    }
   },
   "source": [
    "#### Задание 11.\n",
    "\n",
    "Выполните задание 11 с помощью циклов. Сравните время выполнения."
   ]
  },
  {
   "cell_type": "code",
   "execution_count": 105,
   "metadata": {
    "pycharm": {
     "name": "#%%\n"
    }
   },
   "outputs": [
    {
     "name": "stdout",
     "output_type": "stream",
     "text": [
      "                reading score\n",
      "race/ethnicity               \n",
      "group A             64.674157\n",
      "group B             67.352632\n",
      "group C             69.103448\n",
      "group D             70.030534\n",
      "group E             73.028571\n",
      "elapsed time: 0.0021507740020751953\n",
      "\n",
      "race\\ethnicity   mean reading score\n",
      "group A          64.67415730337079\n",
      "group B          67.35263157894737\n",
      "group C          69.10344827586206\n",
      "group D          70.03053435114504\n",
      "group E          73.02857142857142\n",
      "elapsed time: 0.0038487911224365234\n"
     ]
    }
   ],
   "source": [
    "# лирическое отступление - борьба с индексами (я - их, или они - меня?)\n",
    "# for i in set(df['race/ethnicity']):\n",
    "#         print(i)\n",
    "\n",
    "# i = 'group A'\n",
    "# df1 = pd.DataFrame({'groups': ['group A', 'group B','group A', 'group B','group A', 'group B'],\n",
    "#                   'reading': [1,2,3,4,5,6]})\n",
    "# df1[df1.groups == f'{i}']\n",
    "# len(df1[df1.groups == 'group A'])\n",
    "# df1[df1['groups'] == 'group A'].reading.mean()\n",
    "# df1[df1['groups'] == 'group A']['reading'].mean()\n",
    "# print(df1[df1['groups'] == 'group A'])\n",
    "\n",
    "\n",
    "import time\n",
    "\n",
    "t = time.time()\n",
    "print(df.groupby(['race/ethnicity'])[['reading score']].mean())\n",
    "t1 = time.time() - t\n",
    "print(f'elapsed time: {t1}')\n",
    "print('')\n",
    "\n",
    "t = time.time()\n",
    "print('race\\ethnicity'.ljust(17) + 'mean reading score')\n",
    "for i in sorted(set(df['race/ethnicity'])):\n",
    "    print(i.ljust(17), end='')\n",
    "    print(df[df['race/ethnicity'] == f'{i}']['reading score'].mean())\n",
    "t2 = time.time() - t\n",
    "print(f'elapsed time: {t2}')\n",
    "\n",
    "# groupby работает быстрее\n",
    "# your code here"
   ]
  },
  {
   "cell_type": "markdown",
   "metadata": {
    "pycharm": {
     "name": "#%% md\n"
    }
   },
   "source": [
    "#### Задание 12. \n",
    "\n",
    "Выведите на экран средние баллы студентов по каждому предмету в зависимости от пола и уровня образования. То есть должно получиться количество групп, равных 2 * (число уровней образования), и для каждой такой группы выыведите средний балл по каждому из предметов.\n",
    "\n",
    "Это можно сделать с помощью сводных таблиц (pivot_table). Дополнительно о них почитать можно тут:\n",
    "\n",
    "https://www.kaggle.com/kamilpolak/tutorial-how-to-use-pivot-table-in-pandas"
   ]
  },
  {
   "cell_type": "code",
   "execution_count": 113,
   "metadata": {
    "pycharm": {
     "name": "#%%\n"
    }
   },
   "outputs": [
    {
     "data": {
      "text/plain": "                           math score  reading score  writing score\ngender education                                                   \nfemale associate's degree   65.250000      74.120690      74.000000\n       bachelor's degree    68.349206      77.285714      78.380952\n       high school          59.351064      68.202128      66.691489\n       master's degree      66.500000      76.805556      77.638889\n       some college         65.406780      73.550847      74.050847\n       some high school     59.296703      69.109890      68.285714\nmale   associate's degree   70.764151      67.433962      65.405660\n       bachelor's degree    70.581818      68.090909      67.654545\n       high school          64.705882      61.480392      58.539216\n       master's degree      74.826087      73.130435      72.608696\n       some college         69.009259      64.990741      63.148148\n       some high school     67.840909      64.693182      61.375000",
      "text/html": "<div>\n<style scoped>\n    .dataframe tbody tr th:only-of-type {\n        vertical-align: middle;\n    }\n\n    .dataframe tbody tr th {\n        vertical-align: top;\n    }\n\n    .dataframe thead th {\n        text-align: right;\n    }\n</style>\n<table border=\"1\" class=\"dataframe\">\n  <thead>\n    <tr style=\"text-align: right;\">\n      <th></th>\n      <th></th>\n      <th>math score</th>\n      <th>reading score</th>\n      <th>writing score</th>\n    </tr>\n    <tr>\n      <th>gender</th>\n      <th>education</th>\n      <th></th>\n      <th></th>\n      <th></th>\n    </tr>\n  </thead>\n  <tbody>\n    <tr>\n      <th rowspan=\"6\" valign=\"top\">female</th>\n      <th>associate's degree</th>\n      <td>65.250000</td>\n      <td>74.120690</td>\n      <td>74.000000</td>\n    </tr>\n    <tr>\n      <th>bachelor's degree</th>\n      <td>68.349206</td>\n      <td>77.285714</td>\n      <td>78.380952</td>\n    </tr>\n    <tr>\n      <th>high school</th>\n      <td>59.351064</td>\n      <td>68.202128</td>\n      <td>66.691489</td>\n    </tr>\n    <tr>\n      <th>master's degree</th>\n      <td>66.500000</td>\n      <td>76.805556</td>\n      <td>77.638889</td>\n    </tr>\n    <tr>\n      <th>some college</th>\n      <td>65.406780</td>\n      <td>73.550847</td>\n      <td>74.050847</td>\n    </tr>\n    <tr>\n      <th>some high school</th>\n      <td>59.296703</td>\n      <td>69.109890</td>\n      <td>68.285714</td>\n    </tr>\n    <tr>\n      <th rowspan=\"6\" valign=\"top\">male</th>\n      <th>associate's degree</th>\n      <td>70.764151</td>\n      <td>67.433962</td>\n      <td>65.405660</td>\n    </tr>\n    <tr>\n      <th>bachelor's degree</th>\n      <td>70.581818</td>\n      <td>68.090909</td>\n      <td>67.654545</td>\n    </tr>\n    <tr>\n      <th>high school</th>\n      <td>64.705882</td>\n      <td>61.480392</td>\n      <td>58.539216</td>\n    </tr>\n    <tr>\n      <th>master's degree</th>\n      <td>74.826087</td>\n      <td>73.130435</td>\n      <td>72.608696</td>\n    </tr>\n    <tr>\n      <th>some college</th>\n      <td>69.009259</td>\n      <td>64.990741</td>\n      <td>63.148148</td>\n    </tr>\n    <tr>\n      <th>some high school</th>\n      <td>67.840909</td>\n      <td>64.693182</td>\n      <td>61.375000</td>\n    </tr>\n  </tbody>\n</table>\n</div>"
     },
     "execution_count": 113,
     "metadata": {},
     "output_type": "execute_result"
    }
   ],
   "source": [
    "pd.pivot_table(df, index=['gender', 'education'],\n",
    "               values=['math score', 'reading score', 'writing score'],\n",
    "               aggfunc=np.mean)\n",
    "# your code here"
   ]
  },
  {
   "cell_type": "markdown",
   "metadata": {
    "_uuid": "3e832cb427c4314582d1953a41b8c78db75e30e3",
    "pycharm": {
     "name": "#%% md\n"
    }
   },
   "source": [
    "#### Задание 13. \n",
    "\n",
    "Сколько студентов успешно сдали экзамен по математике?\n",
    "\n",
    "Создайте новый столбец в таблице df под названием Math_PassStatus и запишите в него F, если студент не сдал экзамен по математике (балл за экзамен < passmark), и P иначе.\n",
    "\n",
    "Посчитайте количество студентов, сдавших и не сдавших экзамен по математике.\n",
    "\n",
    "Сделайте аналогичные шаги для экзаменов по чтению и письму."
   ]
  },
  {
   "cell_type": "code",
   "execution_count": 112,
   "metadata": {
    "_uuid": "f43cddb72cc96b30df84bc0de83a4d9170904340",
    "pycharm": {
     "name": "#%%\n"
    }
   },
   "outputs": [
    {
     "name": "stdout",
     "output_type": "stream",
     "text": [
      "                 math score\n",
      "Math_PassStatus            \n",
      "F                       135\n",
      "P                       865\n",
      "                    reading score\n",
      "Reading_PassStatus               \n",
      "F                              90\n",
      "P                             910\n",
      "                    writing score\n",
      "Writing_PassStatus               \n",
      "F                             114\n",
      "P                             886\n"
     ]
    },
    {
     "data": {
      "text/plain": "    gender race/ethnicity           education         lunch test preparation  \\\n58    male        group D        some college  free/reduced             none   \n58  female        group D  associate's degree  free/reduced             none   \n19    male        group E  associate's degree  free/reduced        completed   \n99  female        group D    some high school      standard        completed   \n19  female        group C  associate's degree  free/reduced             none   \n57  female        group C   bachelor's degree      standard             none   \n98  female        group D        some college  free/reduced             none   \n9     male        group E   bachelor's degree      standard        completed   \n48  female        group C         high school      standard             none   \n48  female        group D  associate's degree  free/reduced        completed   \n77  female        group C        some college  free/reduced             none   \n33    male        group C   bachelor's degree  free/reduced        completed   \n91  female        group B    some high school      standard        completed   \n44    male        group D    some high school      standard             none   \n53    male        group C        some college  free/reduced             none   \n52  female        group B    some high school      standard        completed   \n80  female        group B         high school  free/reduced             none   \n9     male        group D  associate's degree      standard        completed   \n32  female        group B   bachelor's degree      standard             none   \n44    male        group D        some college      standard             none   \n\n      group  math score  reading score  writing score Math_PassStatus  \\\n58   group4          59             62             61               P   \n58   group7          43             60             58               F   \n19   group8          91             73             80               P   \n99   group9          65             78             82               P   \n19   group1          54             58             61               P   \n57   group9          65             79             81               P   \n98   group1          58             67             62               P   \n9   group10          70             64             70               P   \n48   group9          59             72             68               P   \n48   group1          57             74             76               P   \n77   group8          35             44             43               F   \n33  group10          70             75             74               P   \n91  group10          65             82             78               P   \n44   group3          75             74             69               P   \n53   group5          65             58             49               P   \n52   group3          60             70             70               P   \n80  group10           8             24             23               F   \n9    group5          87             84             85               P   \n32   group3          67             86             83               P   \n44   group2          88             73             78               P   \n\n   Reading_PassStatus Writing_PassStatus OverAll_PassStatus Grade  \n58                  P                  P                  P     D  \n58                  P                  P                  F     E  \n19                  P                  P                  P     B  \n99                  P                  P                  P     C  \n19                  P                  P                  P     E  \n57                  P                  P                  P     C  \n98                  P                  P                  P     D  \n9                   P                  P                  P     D  \n48                  P                  P                  P     D  \n48                  P                  P                  P     D  \n77                  F                  F                  F     F  \n33                  P                  P                  P     C  \n91                  P                  P                  P     C  \n44                  P                  P                  P     C  \n53                  P                  F                  F     E  \n52                  P                  P                  P     D  \n80                  F                  F                  F     F  \n9                   P                  P                  P     B  \n32                  P                  P                  P     C  \n44                  P                  P                  P     C  ",
      "text/html": "<div>\n<style scoped>\n    .dataframe tbody tr th:only-of-type {\n        vertical-align: middle;\n    }\n\n    .dataframe tbody tr th {\n        vertical-align: top;\n    }\n\n    .dataframe thead th {\n        text-align: right;\n    }\n</style>\n<table border=\"1\" class=\"dataframe\">\n  <thead>\n    <tr style=\"text-align: right;\">\n      <th></th>\n      <th>gender</th>\n      <th>race/ethnicity</th>\n      <th>education</th>\n      <th>lunch</th>\n      <th>test preparation</th>\n      <th>group</th>\n      <th>math score</th>\n      <th>reading score</th>\n      <th>writing score</th>\n      <th>Math_PassStatus</th>\n      <th>Reading_PassStatus</th>\n      <th>Writing_PassStatus</th>\n      <th>OverAll_PassStatus</th>\n      <th>Grade</th>\n    </tr>\n  </thead>\n  <tbody>\n    <tr>\n      <th>58</th>\n      <td>male</td>\n      <td>group D</td>\n      <td>some college</td>\n      <td>free/reduced</td>\n      <td>none</td>\n      <td>group4</td>\n      <td>59</td>\n      <td>62</td>\n      <td>61</td>\n      <td>P</td>\n      <td>P</td>\n      <td>P</td>\n      <td>P</td>\n      <td>D</td>\n    </tr>\n    <tr>\n      <th>58</th>\n      <td>female</td>\n      <td>group D</td>\n      <td>associate's degree</td>\n      <td>free/reduced</td>\n      <td>none</td>\n      <td>group7</td>\n      <td>43</td>\n      <td>60</td>\n      <td>58</td>\n      <td>F</td>\n      <td>P</td>\n      <td>P</td>\n      <td>F</td>\n      <td>E</td>\n    </tr>\n    <tr>\n      <th>19</th>\n      <td>male</td>\n      <td>group E</td>\n      <td>associate's degree</td>\n      <td>free/reduced</td>\n      <td>completed</td>\n      <td>group8</td>\n      <td>91</td>\n      <td>73</td>\n      <td>80</td>\n      <td>P</td>\n      <td>P</td>\n      <td>P</td>\n      <td>P</td>\n      <td>B</td>\n    </tr>\n    <tr>\n      <th>99</th>\n      <td>female</td>\n      <td>group D</td>\n      <td>some high school</td>\n      <td>standard</td>\n      <td>completed</td>\n      <td>group9</td>\n      <td>65</td>\n      <td>78</td>\n      <td>82</td>\n      <td>P</td>\n      <td>P</td>\n      <td>P</td>\n      <td>P</td>\n      <td>C</td>\n    </tr>\n    <tr>\n      <th>19</th>\n      <td>female</td>\n      <td>group C</td>\n      <td>associate's degree</td>\n      <td>free/reduced</td>\n      <td>none</td>\n      <td>group1</td>\n      <td>54</td>\n      <td>58</td>\n      <td>61</td>\n      <td>P</td>\n      <td>P</td>\n      <td>P</td>\n      <td>P</td>\n      <td>E</td>\n    </tr>\n    <tr>\n      <th>57</th>\n      <td>female</td>\n      <td>group C</td>\n      <td>bachelor's degree</td>\n      <td>standard</td>\n      <td>none</td>\n      <td>group9</td>\n      <td>65</td>\n      <td>79</td>\n      <td>81</td>\n      <td>P</td>\n      <td>P</td>\n      <td>P</td>\n      <td>P</td>\n      <td>C</td>\n    </tr>\n    <tr>\n      <th>98</th>\n      <td>female</td>\n      <td>group D</td>\n      <td>some college</td>\n      <td>free/reduced</td>\n      <td>none</td>\n      <td>group1</td>\n      <td>58</td>\n      <td>67</td>\n      <td>62</td>\n      <td>P</td>\n      <td>P</td>\n      <td>P</td>\n      <td>P</td>\n      <td>D</td>\n    </tr>\n    <tr>\n      <th>9</th>\n      <td>male</td>\n      <td>group E</td>\n      <td>bachelor's degree</td>\n      <td>standard</td>\n      <td>completed</td>\n      <td>group10</td>\n      <td>70</td>\n      <td>64</td>\n      <td>70</td>\n      <td>P</td>\n      <td>P</td>\n      <td>P</td>\n      <td>P</td>\n      <td>D</td>\n    </tr>\n    <tr>\n      <th>48</th>\n      <td>female</td>\n      <td>group C</td>\n      <td>high school</td>\n      <td>standard</td>\n      <td>none</td>\n      <td>group9</td>\n      <td>59</td>\n      <td>72</td>\n      <td>68</td>\n      <td>P</td>\n      <td>P</td>\n      <td>P</td>\n      <td>P</td>\n      <td>D</td>\n    </tr>\n    <tr>\n      <th>48</th>\n      <td>female</td>\n      <td>group D</td>\n      <td>associate's degree</td>\n      <td>free/reduced</td>\n      <td>completed</td>\n      <td>group1</td>\n      <td>57</td>\n      <td>74</td>\n      <td>76</td>\n      <td>P</td>\n      <td>P</td>\n      <td>P</td>\n      <td>P</td>\n      <td>D</td>\n    </tr>\n    <tr>\n      <th>77</th>\n      <td>female</td>\n      <td>group C</td>\n      <td>some college</td>\n      <td>free/reduced</td>\n      <td>none</td>\n      <td>group8</td>\n      <td>35</td>\n      <td>44</td>\n      <td>43</td>\n      <td>F</td>\n      <td>F</td>\n      <td>F</td>\n      <td>F</td>\n      <td>F</td>\n    </tr>\n    <tr>\n      <th>33</th>\n      <td>male</td>\n      <td>group C</td>\n      <td>bachelor's degree</td>\n      <td>free/reduced</td>\n      <td>completed</td>\n      <td>group10</td>\n      <td>70</td>\n      <td>75</td>\n      <td>74</td>\n      <td>P</td>\n      <td>P</td>\n      <td>P</td>\n      <td>P</td>\n      <td>C</td>\n    </tr>\n    <tr>\n      <th>91</th>\n      <td>female</td>\n      <td>group B</td>\n      <td>some high school</td>\n      <td>standard</td>\n      <td>completed</td>\n      <td>group10</td>\n      <td>65</td>\n      <td>82</td>\n      <td>78</td>\n      <td>P</td>\n      <td>P</td>\n      <td>P</td>\n      <td>P</td>\n      <td>C</td>\n    </tr>\n    <tr>\n      <th>44</th>\n      <td>male</td>\n      <td>group D</td>\n      <td>some high school</td>\n      <td>standard</td>\n      <td>none</td>\n      <td>group3</td>\n      <td>75</td>\n      <td>74</td>\n      <td>69</td>\n      <td>P</td>\n      <td>P</td>\n      <td>P</td>\n      <td>P</td>\n      <td>C</td>\n    </tr>\n    <tr>\n      <th>53</th>\n      <td>male</td>\n      <td>group C</td>\n      <td>some college</td>\n      <td>free/reduced</td>\n      <td>none</td>\n      <td>group5</td>\n      <td>65</td>\n      <td>58</td>\n      <td>49</td>\n      <td>P</td>\n      <td>P</td>\n      <td>F</td>\n      <td>F</td>\n      <td>E</td>\n    </tr>\n    <tr>\n      <th>52</th>\n      <td>female</td>\n      <td>group B</td>\n      <td>some high school</td>\n      <td>standard</td>\n      <td>completed</td>\n      <td>group3</td>\n      <td>60</td>\n      <td>70</td>\n      <td>70</td>\n      <td>P</td>\n      <td>P</td>\n      <td>P</td>\n      <td>P</td>\n      <td>D</td>\n    </tr>\n    <tr>\n      <th>80</th>\n      <td>female</td>\n      <td>group B</td>\n      <td>high school</td>\n      <td>free/reduced</td>\n      <td>none</td>\n      <td>group10</td>\n      <td>8</td>\n      <td>24</td>\n      <td>23</td>\n      <td>F</td>\n      <td>F</td>\n      <td>F</td>\n      <td>F</td>\n      <td>F</td>\n    </tr>\n    <tr>\n      <th>9</th>\n      <td>male</td>\n      <td>group D</td>\n      <td>associate's degree</td>\n      <td>standard</td>\n      <td>completed</td>\n      <td>group5</td>\n      <td>87</td>\n      <td>84</td>\n      <td>85</td>\n      <td>P</td>\n      <td>P</td>\n      <td>P</td>\n      <td>P</td>\n      <td>B</td>\n    </tr>\n    <tr>\n      <th>32</th>\n      <td>female</td>\n      <td>group B</td>\n      <td>bachelor's degree</td>\n      <td>standard</td>\n      <td>none</td>\n      <td>group3</td>\n      <td>67</td>\n      <td>86</td>\n      <td>83</td>\n      <td>P</td>\n      <td>P</td>\n      <td>P</td>\n      <td>P</td>\n      <td>C</td>\n    </tr>\n    <tr>\n      <th>44</th>\n      <td>male</td>\n      <td>group D</td>\n      <td>some college</td>\n      <td>standard</td>\n      <td>none</td>\n      <td>group2</td>\n      <td>88</td>\n      <td>73</td>\n      <td>78</td>\n      <td>P</td>\n      <td>P</td>\n      <td>P</td>\n      <td>P</td>\n      <td>C</td>\n    </tr>\n  </tbody>\n</table>\n</div>"
     },
     "execution_count": 112,
     "metadata": {},
     "output_type": "execute_result"
    }
   ],
   "source": [
    "passmark = 50\n",
    "\n",
    "df['Math_PassStatus'] = df['math score'].apply(lambda x: 'F' if x < passmark else 'P')\n",
    "df['Reading_PassStatus'] = df['reading score'].apply(lambda x: 'F' if x < passmark else 'P')\n",
    "df['Writing_PassStatus'] = df['writing score'].apply(lambda x: 'F' if x < passmark else 'P')\n",
    "\n",
    "print(df.groupby(['Math_PassStatus'])[['math score']].count())\n",
    "print(df.groupby(['Reading_PassStatus'])[['reading score']].count())\n",
    "print(df.groupby(['Writing_PassStatus'])[['writing score']].count())\n",
    "\n",
    "df.sample(20)"
   ]
  },
  {
   "cell_type": "markdown",
   "metadata": {
    "_uuid": "b753c90914ee65501e2ed263ea614d88a381c472",
    "pycharm": {
     "name": "#%% md\n"
    }
   },
   "source": [
    "#### Задание 14. \n",
    "\n",
    "Сколько студентов успешно сдали все экзамены?\n",
    "\n",
    "Создайте столбец OverAll_PassStatus и запишите в него для каждого студента 'F', если студент не сдал хотя бы один из трех экзаменов, а иначе 'P'.\n",
    "\n",
    "Посчитайте количество студентов, которые сдали все экзамены."
   ]
  },
  {
   "cell_type": "code",
   "execution_count": 108,
   "metadata": {
    "_uuid": "e98f895a022b967cab801447b616222439fe9d84",
    "pycharm": {
     "name": "#%%\n"
    }
   },
   "outputs": [
    {
     "name": "stdout",
     "output_type": "stream",
     "text": [
      "count:  812\n"
     ]
    },
    {
     "data": {
      "text/plain": "    gender race/ethnicity           education         lunch test preparation  \\\n49    male        group C         high school      standard        completed   \n34    male        group B        some college      standard             none   \n79  female        group D    some high school      standard        completed   \n91  female        group D        some college  free/reduced             none   \n97  female        group E  associate's degree  free/reduced             none   \n86  female        group C        some college  free/reduced             none   \n87  female        group C   bachelor's degree  free/reduced             none   \n14  female        group A     master's degree      standard             none   \n29  female        group C    some high school      standard        completed   \n50    male        group C     master's degree      standard             none   \n76  female        group D    some high school      standard             none   \n99    male        group E        some college      standard             none   \n79    male        group D        some college  free/reduced             none   \n31    male        group C  associate's degree      standard             none   \n20  female        group C  associate's degree  free/reduced        completed   \n86  female        group E    some high school  free/reduced             none   \n54  female        group B    some high school      standard             none   \n65    male        group B    some high school      standard             none   \n40    male        group D   bachelor's degree      standard             none   \n24  female        group E   bachelor's degree  free/reduced             none   \n\n     group  math score  reading score  writing score Math_PassStatus  \\\n49  group1          82             84             82               P   \n34  group9          58             50             45               P   \n79  group2          97            100            100               P   \n91  group8          60             66             70               P   \n97  group8          70             84             81               P   \n86  group1          76             83             88               P   \n87  group6          44             63             62               F   \n14  group1          50             53             58               P   \n29  group7          44             51             55               F   \n50  group9          71             67             67               P   \n76  group4          80             90             82               P   \n99  group5          76             71             72               P   \n79  group7          63             61             60               P   \n31  group4          47             37             35               F   \n20  group5          82             93             93               P   \n86  group8          72             79             77               P   \n54  group7          73             79             79               P   \n65  group1          67             64             61               P   \n40  group8          80             73             72               P   \n24  group7          61             58             62               P   \n\n   Reading_PassStatus Writing_PassStatus OverAll_PassStatus  \n49                  P                  P                  P  \n34                  P                  F                  F  \n79                  P                  P                  P  \n91                  P                  P                  P  \n97                  P                  P                  P  \n86                  P                  P                  P  \n87                  P                  P                  F  \n14                  P                  P                  P  \n29                  P                  P                  F  \n50                  P                  P                  P  \n76                  P                  P                  P  \n99                  P                  P                  P  \n79                  P                  P                  P  \n31                  F                  F                  F  \n20                  P                  P                  P  \n86                  P                  P                  P  \n54                  P                  P                  P  \n65                  P                  P                  P  \n40                  P                  P                  P  \n24                  P                  P                  P  ",
      "text/html": "<div>\n<style scoped>\n    .dataframe tbody tr th:only-of-type {\n        vertical-align: middle;\n    }\n\n    .dataframe tbody tr th {\n        vertical-align: top;\n    }\n\n    .dataframe thead th {\n        text-align: right;\n    }\n</style>\n<table border=\"1\" class=\"dataframe\">\n  <thead>\n    <tr style=\"text-align: right;\">\n      <th></th>\n      <th>gender</th>\n      <th>race/ethnicity</th>\n      <th>education</th>\n      <th>lunch</th>\n      <th>test preparation</th>\n      <th>group</th>\n      <th>math score</th>\n      <th>reading score</th>\n      <th>writing score</th>\n      <th>Math_PassStatus</th>\n      <th>Reading_PassStatus</th>\n      <th>Writing_PassStatus</th>\n      <th>OverAll_PassStatus</th>\n    </tr>\n  </thead>\n  <tbody>\n    <tr>\n      <th>49</th>\n      <td>male</td>\n      <td>group C</td>\n      <td>high school</td>\n      <td>standard</td>\n      <td>completed</td>\n      <td>group1</td>\n      <td>82</td>\n      <td>84</td>\n      <td>82</td>\n      <td>P</td>\n      <td>P</td>\n      <td>P</td>\n      <td>P</td>\n    </tr>\n    <tr>\n      <th>34</th>\n      <td>male</td>\n      <td>group B</td>\n      <td>some college</td>\n      <td>standard</td>\n      <td>none</td>\n      <td>group9</td>\n      <td>58</td>\n      <td>50</td>\n      <td>45</td>\n      <td>P</td>\n      <td>P</td>\n      <td>F</td>\n      <td>F</td>\n    </tr>\n    <tr>\n      <th>79</th>\n      <td>female</td>\n      <td>group D</td>\n      <td>some high school</td>\n      <td>standard</td>\n      <td>completed</td>\n      <td>group2</td>\n      <td>97</td>\n      <td>100</td>\n      <td>100</td>\n      <td>P</td>\n      <td>P</td>\n      <td>P</td>\n      <td>P</td>\n    </tr>\n    <tr>\n      <th>91</th>\n      <td>female</td>\n      <td>group D</td>\n      <td>some college</td>\n      <td>free/reduced</td>\n      <td>none</td>\n      <td>group8</td>\n      <td>60</td>\n      <td>66</td>\n      <td>70</td>\n      <td>P</td>\n      <td>P</td>\n      <td>P</td>\n      <td>P</td>\n    </tr>\n    <tr>\n      <th>97</th>\n      <td>female</td>\n      <td>group E</td>\n      <td>associate's degree</td>\n      <td>free/reduced</td>\n      <td>none</td>\n      <td>group8</td>\n      <td>70</td>\n      <td>84</td>\n      <td>81</td>\n      <td>P</td>\n      <td>P</td>\n      <td>P</td>\n      <td>P</td>\n    </tr>\n    <tr>\n      <th>86</th>\n      <td>female</td>\n      <td>group C</td>\n      <td>some college</td>\n      <td>free/reduced</td>\n      <td>none</td>\n      <td>group1</td>\n      <td>76</td>\n      <td>83</td>\n      <td>88</td>\n      <td>P</td>\n      <td>P</td>\n      <td>P</td>\n      <td>P</td>\n    </tr>\n    <tr>\n      <th>87</th>\n      <td>female</td>\n      <td>group C</td>\n      <td>bachelor's degree</td>\n      <td>free/reduced</td>\n      <td>none</td>\n      <td>group6</td>\n      <td>44</td>\n      <td>63</td>\n      <td>62</td>\n      <td>F</td>\n      <td>P</td>\n      <td>P</td>\n      <td>F</td>\n    </tr>\n    <tr>\n      <th>14</th>\n      <td>female</td>\n      <td>group A</td>\n      <td>master's degree</td>\n      <td>standard</td>\n      <td>none</td>\n      <td>group1</td>\n      <td>50</td>\n      <td>53</td>\n      <td>58</td>\n      <td>P</td>\n      <td>P</td>\n      <td>P</td>\n      <td>P</td>\n    </tr>\n    <tr>\n      <th>29</th>\n      <td>female</td>\n      <td>group C</td>\n      <td>some high school</td>\n      <td>standard</td>\n      <td>completed</td>\n      <td>group7</td>\n      <td>44</td>\n      <td>51</td>\n      <td>55</td>\n      <td>F</td>\n      <td>P</td>\n      <td>P</td>\n      <td>F</td>\n    </tr>\n    <tr>\n      <th>50</th>\n      <td>male</td>\n      <td>group C</td>\n      <td>master's degree</td>\n      <td>standard</td>\n      <td>none</td>\n      <td>group9</td>\n      <td>71</td>\n      <td>67</td>\n      <td>67</td>\n      <td>P</td>\n      <td>P</td>\n      <td>P</td>\n      <td>P</td>\n    </tr>\n    <tr>\n      <th>76</th>\n      <td>female</td>\n      <td>group D</td>\n      <td>some high school</td>\n      <td>standard</td>\n      <td>none</td>\n      <td>group4</td>\n      <td>80</td>\n      <td>90</td>\n      <td>82</td>\n      <td>P</td>\n      <td>P</td>\n      <td>P</td>\n      <td>P</td>\n    </tr>\n    <tr>\n      <th>99</th>\n      <td>male</td>\n      <td>group E</td>\n      <td>some college</td>\n      <td>standard</td>\n      <td>none</td>\n      <td>group5</td>\n      <td>76</td>\n      <td>71</td>\n      <td>72</td>\n      <td>P</td>\n      <td>P</td>\n      <td>P</td>\n      <td>P</td>\n    </tr>\n    <tr>\n      <th>79</th>\n      <td>male</td>\n      <td>group D</td>\n      <td>some college</td>\n      <td>free/reduced</td>\n      <td>none</td>\n      <td>group7</td>\n      <td>63</td>\n      <td>61</td>\n      <td>60</td>\n      <td>P</td>\n      <td>P</td>\n      <td>P</td>\n      <td>P</td>\n    </tr>\n    <tr>\n      <th>31</th>\n      <td>male</td>\n      <td>group C</td>\n      <td>associate's degree</td>\n      <td>standard</td>\n      <td>none</td>\n      <td>group4</td>\n      <td>47</td>\n      <td>37</td>\n      <td>35</td>\n      <td>F</td>\n      <td>F</td>\n      <td>F</td>\n      <td>F</td>\n    </tr>\n    <tr>\n      <th>20</th>\n      <td>female</td>\n      <td>group C</td>\n      <td>associate's degree</td>\n      <td>free/reduced</td>\n      <td>completed</td>\n      <td>group5</td>\n      <td>82</td>\n      <td>93</td>\n      <td>93</td>\n      <td>P</td>\n      <td>P</td>\n      <td>P</td>\n      <td>P</td>\n    </tr>\n    <tr>\n      <th>86</th>\n      <td>female</td>\n      <td>group E</td>\n      <td>some high school</td>\n      <td>free/reduced</td>\n      <td>none</td>\n      <td>group8</td>\n      <td>72</td>\n      <td>79</td>\n      <td>77</td>\n      <td>P</td>\n      <td>P</td>\n      <td>P</td>\n      <td>P</td>\n    </tr>\n    <tr>\n      <th>54</th>\n      <td>female</td>\n      <td>group B</td>\n      <td>some high school</td>\n      <td>standard</td>\n      <td>none</td>\n      <td>group7</td>\n      <td>73</td>\n      <td>79</td>\n      <td>79</td>\n      <td>P</td>\n      <td>P</td>\n      <td>P</td>\n      <td>P</td>\n    </tr>\n    <tr>\n      <th>65</th>\n      <td>male</td>\n      <td>group B</td>\n      <td>some high school</td>\n      <td>standard</td>\n      <td>none</td>\n      <td>group1</td>\n      <td>67</td>\n      <td>64</td>\n      <td>61</td>\n      <td>P</td>\n      <td>P</td>\n      <td>P</td>\n      <td>P</td>\n    </tr>\n    <tr>\n      <th>40</th>\n      <td>male</td>\n      <td>group D</td>\n      <td>bachelor's degree</td>\n      <td>standard</td>\n      <td>none</td>\n      <td>group8</td>\n      <td>80</td>\n      <td>73</td>\n      <td>72</td>\n      <td>P</td>\n      <td>P</td>\n      <td>P</td>\n      <td>P</td>\n    </tr>\n    <tr>\n      <th>24</th>\n      <td>female</td>\n      <td>group E</td>\n      <td>bachelor's degree</td>\n      <td>free/reduced</td>\n      <td>none</td>\n      <td>group7</td>\n      <td>61</td>\n      <td>58</td>\n      <td>62</td>\n      <td>P</td>\n      <td>P</td>\n      <td>P</td>\n      <td>P</td>\n    </tr>\n  </tbody>\n</table>\n</div>"
     },
     "execution_count": 108,
     "metadata": {},
     "output_type": "execute_result"
    }
   ],
   "source": [
    "df[\"OverAll_PassStatus\"] = df[[\"Math_PassStatus\", \"Reading_PassStatus\", 'Writing_PassStatus']].apply(lambda x:\n",
    "                                                                                                     'F' if (x[[\n",
    "                                                                                                         'Math_PassStatus',\n",
    "                                                                                                         'Reading_PassStatus',\n",
    "                                                                                                         'Writing_PassStatus']] == 'F').any() else 'P',\n",
    "                                                                                                     axis=1)\n",
    "\n",
    "print(\"count: \", df[df.OverAll_PassStatus == \"P\"].shape[0])\n",
    "df.sample(20)\n",
    "# your code here"
   ]
  },
  {
   "cell_type": "markdown",
   "metadata": {
    "_uuid": "3af9c6cb4cbfff66d4ae09509f10b8b6ce33075d",
    "pycharm": {
     "name": "#%% md\n"
    }
   },
   "source": [
    "#### Задание 15.\n",
    "\n",
    "Переведем баллы в оценки\n",
    "\n",
    "*Система перевода баллов в оценки*\n",
    "\n",
    "        [90;100] = A\n",
    "        [80;90) = B\n",
    "        [70;80) = C\n",
    "        [60;70) = D\n",
    "        [50;60) = E\n",
    "        [0;50) = F (Fail)\n",
    "\n",
    "Создайте вспомогательную функцию, которая будет по среднему баллу за три экзамена выставлять оценку студенту по данным выше критериям.\n",
    "\n",
    "Создайте столбец Grade и запишите в него оценку каждого студента.\n",
    "\n",
    "Выведите количество студентов, получивших каждую из оценок.\n",
    "#####"
   ]
  },
  {
   "cell_type": "code",
   "execution_count": 109,
   "metadata": {
    "_uuid": "04707c5be4237020b906d2ac705a0db3d620506f",
    "pycharm": {
     "name": "#%%\n"
    }
   },
   "outputs": [
    {
     "data": {
      "text/plain": "    gender race/ethnicity           education         lunch test preparation  \\\n71  female        group C        some college      standard        completed   \n61    male        group A    some high school  free/reduced             none   \n90  female        group E        some college      standard        completed   \n43    male        group E        some college      standard             none   \n99    male        group D    some high school      standard             none   \n59  female        group C     master's degree  free/reduced        completed   \n73    male        group E  associate's degree  free/reduced             none   \n91  female        group D        some college      standard             none   \n35    male        group A         high school      standard             none   \n11  female        group C        some college      standard             none   \n5     male        group D        some college      standard             none   \n52  female        group E    some high school  free/reduced             none   \n18  female        group C         high school      standard             none   \n77  female        group C        some college  free/reduced             none   \n99    male        group D  associate's degree  free/reduced             none   \n98  female        group D         high school      standard             none   \n99  female        group C  associate's degree      standard             none   \n95  female        group C   bachelor's degree      standard        completed   \n85  female        group E        some college      standard             none   \n56  female        group D   bachelor's degree      standard             none   \n\n      group  math score  reading score  writing score Math_PassStatus  \\\n71   group9          70             72             76               P   \n61   group1          39             39             34               F   \n90   group9          86             85             91               P   \n43   group3          59             51             43               P   \n99   group4          60             59             54               P   \n59   group3          65             81             81               P   \n73   group9          90             90             82               P   \n91   group4          77             68             77               P   \n35   group7          71             74             64               P   \n11   group7          58             59             66               P   \n5   group10          88             77             77               P   \n52  group10          74             74             72               P   \n18   group8          76             76             74               P   \n77   group8          35             44             43               F   \n99   group3          90             87             75               P   \n98   group6          69             77             73               P   \n99   group8          52             55             57               P   \n95   group6          56             79             72               P   \n85   group4          67             76             75               P   \n56   group5          79             89             89               P   \n\n   Reading_PassStatus Writing_PassStatus OverAll_PassStatus Grade  \n71                  P                  P                  P     C  \n61                  F                  F                  F     F  \n90                  P                  P                  P     B  \n43                  P                  F                  F     E  \n99                  P                  P                  P     E  \n59                  P                  P                  P     C  \n73                  P                  P                  P     B  \n91                  P                  P                  P     C  \n35                  P                  P                  P     D  \n11                  P                  P                  P     D  \n5                   P                  P                  P     B  \n52                  P                  P                  P     C  \n18                  P                  P                  P     C  \n77                  F                  F                  F     F  \n99                  P                  P                  P     B  \n98                  P                  P                  P     C  \n99                  P                  P                  P     E  \n95                  P                  P                  P     D  \n85                  P                  P                  P     C  \n56                  P                  P                  P     B  ",
      "text/html": "<div>\n<style scoped>\n    .dataframe tbody tr th:only-of-type {\n        vertical-align: middle;\n    }\n\n    .dataframe tbody tr th {\n        vertical-align: top;\n    }\n\n    .dataframe thead th {\n        text-align: right;\n    }\n</style>\n<table border=\"1\" class=\"dataframe\">\n  <thead>\n    <tr style=\"text-align: right;\">\n      <th></th>\n      <th>gender</th>\n      <th>race/ethnicity</th>\n      <th>education</th>\n      <th>lunch</th>\n      <th>test preparation</th>\n      <th>group</th>\n      <th>math score</th>\n      <th>reading score</th>\n      <th>writing score</th>\n      <th>Math_PassStatus</th>\n      <th>Reading_PassStatus</th>\n      <th>Writing_PassStatus</th>\n      <th>OverAll_PassStatus</th>\n      <th>Grade</th>\n    </tr>\n  </thead>\n  <tbody>\n    <tr>\n      <th>71</th>\n      <td>female</td>\n      <td>group C</td>\n      <td>some college</td>\n      <td>standard</td>\n      <td>completed</td>\n      <td>group9</td>\n      <td>70</td>\n      <td>72</td>\n      <td>76</td>\n      <td>P</td>\n      <td>P</td>\n      <td>P</td>\n      <td>P</td>\n      <td>C</td>\n    </tr>\n    <tr>\n      <th>61</th>\n      <td>male</td>\n      <td>group A</td>\n      <td>some high school</td>\n      <td>free/reduced</td>\n      <td>none</td>\n      <td>group1</td>\n      <td>39</td>\n      <td>39</td>\n      <td>34</td>\n      <td>F</td>\n      <td>F</td>\n      <td>F</td>\n      <td>F</td>\n      <td>F</td>\n    </tr>\n    <tr>\n      <th>90</th>\n      <td>female</td>\n      <td>group E</td>\n      <td>some college</td>\n      <td>standard</td>\n      <td>completed</td>\n      <td>group9</td>\n      <td>86</td>\n      <td>85</td>\n      <td>91</td>\n      <td>P</td>\n      <td>P</td>\n      <td>P</td>\n      <td>P</td>\n      <td>B</td>\n    </tr>\n    <tr>\n      <th>43</th>\n      <td>male</td>\n      <td>group E</td>\n      <td>some college</td>\n      <td>standard</td>\n      <td>none</td>\n      <td>group3</td>\n      <td>59</td>\n      <td>51</td>\n      <td>43</td>\n      <td>P</td>\n      <td>P</td>\n      <td>F</td>\n      <td>F</td>\n      <td>E</td>\n    </tr>\n    <tr>\n      <th>99</th>\n      <td>male</td>\n      <td>group D</td>\n      <td>some high school</td>\n      <td>standard</td>\n      <td>none</td>\n      <td>group4</td>\n      <td>60</td>\n      <td>59</td>\n      <td>54</td>\n      <td>P</td>\n      <td>P</td>\n      <td>P</td>\n      <td>P</td>\n      <td>E</td>\n    </tr>\n    <tr>\n      <th>59</th>\n      <td>female</td>\n      <td>group C</td>\n      <td>master's degree</td>\n      <td>free/reduced</td>\n      <td>completed</td>\n      <td>group3</td>\n      <td>65</td>\n      <td>81</td>\n      <td>81</td>\n      <td>P</td>\n      <td>P</td>\n      <td>P</td>\n      <td>P</td>\n      <td>C</td>\n    </tr>\n    <tr>\n      <th>73</th>\n      <td>male</td>\n      <td>group E</td>\n      <td>associate's degree</td>\n      <td>free/reduced</td>\n      <td>none</td>\n      <td>group9</td>\n      <td>90</td>\n      <td>90</td>\n      <td>82</td>\n      <td>P</td>\n      <td>P</td>\n      <td>P</td>\n      <td>P</td>\n      <td>B</td>\n    </tr>\n    <tr>\n      <th>91</th>\n      <td>female</td>\n      <td>group D</td>\n      <td>some college</td>\n      <td>standard</td>\n      <td>none</td>\n      <td>group4</td>\n      <td>77</td>\n      <td>68</td>\n      <td>77</td>\n      <td>P</td>\n      <td>P</td>\n      <td>P</td>\n      <td>P</td>\n      <td>C</td>\n    </tr>\n    <tr>\n      <th>35</th>\n      <td>male</td>\n      <td>group A</td>\n      <td>high school</td>\n      <td>standard</td>\n      <td>none</td>\n      <td>group7</td>\n      <td>71</td>\n      <td>74</td>\n      <td>64</td>\n      <td>P</td>\n      <td>P</td>\n      <td>P</td>\n      <td>P</td>\n      <td>D</td>\n    </tr>\n    <tr>\n      <th>11</th>\n      <td>female</td>\n      <td>group C</td>\n      <td>some college</td>\n      <td>standard</td>\n      <td>none</td>\n      <td>group7</td>\n      <td>58</td>\n      <td>59</td>\n      <td>66</td>\n      <td>P</td>\n      <td>P</td>\n      <td>P</td>\n      <td>P</td>\n      <td>D</td>\n    </tr>\n    <tr>\n      <th>5</th>\n      <td>male</td>\n      <td>group D</td>\n      <td>some college</td>\n      <td>standard</td>\n      <td>none</td>\n      <td>group10</td>\n      <td>88</td>\n      <td>77</td>\n      <td>77</td>\n      <td>P</td>\n      <td>P</td>\n      <td>P</td>\n      <td>P</td>\n      <td>B</td>\n    </tr>\n    <tr>\n      <th>52</th>\n      <td>female</td>\n      <td>group E</td>\n      <td>some high school</td>\n      <td>free/reduced</td>\n      <td>none</td>\n      <td>group10</td>\n      <td>74</td>\n      <td>74</td>\n      <td>72</td>\n      <td>P</td>\n      <td>P</td>\n      <td>P</td>\n      <td>P</td>\n      <td>C</td>\n    </tr>\n    <tr>\n      <th>18</th>\n      <td>female</td>\n      <td>group C</td>\n      <td>high school</td>\n      <td>standard</td>\n      <td>none</td>\n      <td>group8</td>\n      <td>76</td>\n      <td>76</td>\n      <td>74</td>\n      <td>P</td>\n      <td>P</td>\n      <td>P</td>\n      <td>P</td>\n      <td>C</td>\n    </tr>\n    <tr>\n      <th>77</th>\n      <td>female</td>\n      <td>group C</td>\n      <td>some college</td>\n      <td>free/reduced</td>\n      <td>none</td>\n      <td>group8</td>\n      <td>35</td>\n      <td>44</td>\n      <td>43</td>\n      <td>F</td>\n      <td>F</td>\n      <td>F</td>\n      <td>F</td>\n      <td>F</td>\n    </tr>\n    <tr>\n      <th>99</th>\n      <td>male</td>\n      <td>group D</td>\n      <td>associate's degree</td>\n      <td>free/reduced</td>\n      <td>none</td>\n      <td>group3</td>\n      <td>90</td>\n      <td>87</td>\n      <td>75</td>\n      <td>P</td>\n      <td>P</td>\n      <td>P</td>\n      <td>P</td>\n      <td>B</td>\n    </tr>\n    <tr>\n      <th>98</th>\n      <td>female</td>\n      <td>group D</td>\n      <td>high school</td>\n      <td>standard</td>\n      <td>none</td>\n      <td>group6</td>\n      <td>69</td>\n      <td>77</td>\n      <td>73</td>\n      <td>P</td>\n      <td>P</td>\n      <td>P</td>\n      <td>P</td>\n      <td>C</td>\n    </tr>\n    <tr>\n      <th>99</th>\n      <td>female</td>\n      <td>group C</td>\n      <td>associate's degree</td>\n      <td>standard</td>\n      <td>none</td>\n      <td>group8</td>\n      <td>52</td>\n      <td>55</td>\n      <td>57</td>\n      <td>P</td>\n      <td>P</td>\n      <td>P</td>\n      <td>P</td>\n      <td>E</td>\n    </tr>\n    <tr>\n      <th>95</th>\n      <td>female</td>\n      <td>group C</td>\n      <td>bachelor's degree</td>\n      <td>standard</td>\n      <td>completed</td>\n      <td>group6</td>\n      <td>56</td>\n      <td>79</td>\n      <td>72</td>\n      <td>P</td>\n      <td>P</td>\n      <td>P</td>\n      <td>P</td>\n      <td>D</td>\n    </tr>\n    <tr>\n      <th>85</th>\n      <td>female</td>\n      <td>group E</td>\n      <td>some college</td>\n      <td>standard</td>\n      <td>none</td>\n      <td>group4</td>\n      <td>67</td>\n      <td>76</td>\n      <td>75</td>\n      <td>P</td>\n      <td>P</td>\n      <td>P</td>\n      <td>P</td>\n      <td>C</td>\n    </tr>\n    <tr>\n      <th>56</th>\n      <td>female</td>\n      <td>group D</td>\n      <td>bachelor's degree</td>\n      <td>standard</td>\n      <td>none</td>\n      <td>group5</td>\n      <td>79</td>\n      <td>89</td>\n      <td>89</td>\n      <td>P</td>\n      <td>P</td>\n      <td>P</td>\n      <td>P</td>\n      <td>B</td>\n    </tr>\n  </tbody>\n</table>\n</div>"
     },
     "execution_count": 109,
     "metadata": {},
     "output_type": "execute_result"
    }
   ],
   "source": [
    "from intervaltree import IntervalTree\n",
    "\n",
    "tree = IntervalTree()\n",
    "tree.addi(90, 101, \"A\")\n",
    "tree.addi(80, 90, \"B\")\n",
    "tree.addi(70, 80, \"C\")\n",
    "tree.addi(60, 70, \"D\")\n",
    "tree.addi(50, 60, \"E\")\n",
    "tree.addi(0, 50, \"F\")\n",
    "\n",
    "df[\"Grade\"] = df[[\"math score\", \"reading score\", 'writing score']].apply(lambda x: list(tree.at(sum(x[['math score', 'reading score', 'writing score']]) / 3))[0].data, axis=1)\n",
    "\n",
    "df.sample(20)"
   ]
  },
  {
   "cell_type": "code",
   "execution_count": 110,
   "outputs": [
    {
     "name": "stdout",
     "output_type": "stream",
     "text": [
      "students with C grade:  261\n",
      "students with B grade:  146\n",
      "students with F grade:  103\n",
      "students with E grade:  182\n",
      "students with D grade:  256\n",
      "students with A grade:  52\n"
     ]
    }
   ],
   "source": [
    "for interval in tree.all_intervals:\n",
    "    print(f\"students with {interval.data} grade: \", df[df.Grade == interval.data].shape[0])"
   ],
   "metadata": {
    "collapsed": false,
    "pycharm": {
     "name": "#%%\n"
    }
   }
  }
 ],
 "metadata": {
  "kernelspec": {
   "display_name": "Python 3 (ipykernel)",
   "language": "python",
   "name": "python3"
  },
  "language_info": {
   "codemirror_mode": {
    "name": "ipython",
    "version": 3
   },
   "file_extension": ".py",
   "mimetype": "text/x-python",
   "name": "python",
   "nbconvert_exporter": "python",
   "pygments_lexer": "ipython3",
   "version": "3.8.10"
  }
 },
 "nbformat": 4,
 "nbformat_minor": 4
}