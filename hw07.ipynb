{
 "cells": [
  {
   "cell_type": "markdown",
   "id": "4bc2631e-3e7b-4431-a800-ce99b614fa90",
   "metadata": {},
   "source": [
    "## Задание 1.\n",
    "\n",
    "Решите задание 5 из домашней работы 4 с помощью множеств (можно использовать дополнительную память). Не забудьте, что порядок элементов должен сохраниться. "
   ]
  },
  {
   "cell_type": "code",
   "execution_count": 2,
   "id": "28f14ee3-8aa9-4ffd-bedc-9e78d2951b9e",
   "metadata": {},
   "outputs": [
    {
     "data": {
      "text/plain": "['a', 's', 'd', 'f']"
     },
     "execution_count": 2,
     "metadata": {},
     "output_type": "execute_result"
    }
   ],
   "source": [
    "a = input().split()\n",
    "list(dict.fromkeys(a))\n",
    "# your code here"
   ]
  },
  {
   "cell_type": "markdown",
   "id": "855be919-e0bb-4e8a-88ea-e7586cb8e8f6",
   "metadata": {},
   "source": [
    "## Задание 2.\n",
    "\n",
    "Ученики одной школы все знают хотя бы по одному языку. Программа получает число школьников, а потом в цикле for собирает сведения о их языках, н-р:\n",
    "\n",
    "    2\n",
    "    English Bulgarian\n",
    "    English Romanian\n",
    "    \n",
    "Нужно узнать, какие языки знает хотя бы один школьник и какие языки знают все школьники. "
   ]
  },
  {
   "cell_type": "code",
   "execution_count": 30,
   "id": "62a34b33-eb9b-4509-b28c-9f421af249a8",
   "metadata": {},
   "outputs": [
    {
     "name": "stdout",
     "output_type": "stream",
     "text": [
      "Все знают: spanish\n",
      "Хотя бы один знает: bulgarian english spanish\n"
     ]
    }
   ],
   "source": [
    "students = [set(input('языки').split()) for j in range(int(input('число учеников')))]\n",
    "allknow, oneknows = set.intersection(*students), set.union(*students)\n",
    "print('Все знают:', *sorted(allknow))\n",
    "print('Хотя бы один знает:', *sorted(oneknows))\n",
    "# your code here"
   ]
  },
  {
   "cell_type": "markdown",
   "id": "78a9688a-b083-4c79-a3b0-37823450ece3",
   "metadata": {},
   "source": [
    "## \\* Задание 3.\n",
    "\n",
    "Напишите функцию для сложения матриц. "
   ]
  },
  {
   "cell_type": "code",
   "execution_count": 35,
   "id": "7ba7b805-454c-467d-a1e5-7da6094a3a48",
   "metadata": {},
   "outputs": [
    {
     "name": "stdout",
     "output_type": "stream",
     "text": [
      "[148, 162, 74, 32, 134]\n",
      "[197, 84, 149, 157, 59]\n",
      "[44, 80, 62, 113, 156]\n",
      "[90, 56, 72, 52, 90]\n"
     ]
    }
   ],
   "source": [
    "from random import randrange\n",
    "\n",
    "M1 = [[randrange(1, 101) for n in range(5)] for m in range(4)]\n",
    "M2 = [[randrange(1, 101) for i in range(5)] for j in range(4)]\n",
    "summ = []\n",
    "for x in range(len(M1)):\n",
    "    summ.append([])\n",
    "    for y in range(len(M1[0])):\n",
    "        summ[x].append(M1[x][y] + M2[x][y])\n",
    "\n",
    "print(*summ, sep='\\n')\n",
    "# your code here"
   ]
  },
  {
   "cell_type": "markdown",
   "id": "03a1339c-69ce-458a-962a-4fac5c9bcf4f",
   "metadata": {},
   "source": [
    "## \\* Задание 4.\n",
    "\n",
    "Напишите функцию для умножения матриц."
   ]
  },
  {
   "cell_type": "code",
   "execution_count": 41,
   "id": "5cc45740-de5c-4ad2-8d15-366bd3500d5c",
   "metadata": {},
   "outputs": [
    {
     "name": "stdout",
     "output_type": "stream",
     "text": [
      "[10020, 3502, 9541, 9709, 6310]\n",
      "[13043, 9364, 12508, 12912, 12164]\n",
      "[14714, 11002, 14007, 15747, 16021]\n",
      "[6984, 4358, 6465, 8825, 9126]\n"
     ]
    }
   ],
   "source": [
    "from random import randrange\n",
    "\n",
    "M1 = [[randrange(1, 101) for n in range(5)] for m in range(4)]\n",
    "M2 = [[randrange(1, 101) for i in range(5)] for j in range(4)]\n",
    "res = [[0 * n for n in range(5)] for m in range(4)]\n",
    "for x in range(len(M1)):\n",
    "    for y in range(len(M2[0])):\n",
    "        for z in range(len(M2)):\n",
    "            res[x][y] += M1[x][z] * M2[z][y]\n",
    "print(*res, sep='\\n')\n",
    "# your code here"
   ]
  },
  {
   "cell_type": "markdown",
   "id": "833e620a-6960-4788-987c-8e61aa27fc5a",
   "metadata": {},
   "source": [
    "## \\* Задание 5. \n",
    "\n",
    "Напишите функцию, которая генерирует матрицу сдвига (https://ru.wikipedia.org/wiki/%D0%9C%D0%B0%D1%82%D1%80%D0%B8%D1%86%D0%B0_%D1%81%D0%B4%D0%B2%D0%B8%D0%B3%D0%B0). У функции должно быть два параметра: n (размер матрицы) и bias (на сколько столбцов сдвигать)"
   ]
  },
  {
   "cell_type": "code",
   "execution_count": 50,
   "id": "5d603ced-6828-4d62-9073-99a6a2fd2cf9",
   "metadata": {},
   "outputs": [
    {
     "name": "stdout",
     "output_type": "stream",
     "text": [
      "[0, 0, 1, 0]\n",
      "[0, 0, 0, 1]\n",
      "[0, 0, 0, 0]\n",
      "[0, 0, 0, 0]\n"
     ]
    }
   ],
   "source": [
    "def shiftfunc(n=int, bias=int):\n",
    "    shiftm = []\n",
    "    for i in range(n):\n",
    "        shiftm.append([])\n",
    "        for j in range(n):\n",
    "            if i + bias == j:\n",
    "                shiftm[i].append(1)\n",
    "            else:\n",
    "                shiftm[i].append(0)\n",
    "    return shiftm\n",
    "\n",
    "\n",
    "print(*shiftfunc(4, 2), sep='\\n')\n",
    "\n",
    "# your code here"
   ]
  },
  {
   "cell_type": "markdown",
   "id": "2a4afd50-c006-4fd7-b84a-c7be030414af",
   "metadata": {},
   "source": [
    "## \\* Задание 6.\n",
    "\n",
    "Напишите функцию transpose(m), которая будет транспонировать матрицу. "
   ]
  },
  {
   "cell_type": "code",
   "execution_count": 58,
   "id": "2b3e16bd-eb66-4a2d-b2a1-62e2f25f5390",
   "metadata": {},
   "outputs": [
    {
     "name": "stdout",
     "output_type": "stream",
     "text": [
      "(0, 0, 0, 0, 0)\n",
      "(1, 1, 1, 1, 1)\n",
      "(2, 2, 2, 2, 2)\n",
      "(3, 3, 3, 3, 3)\n",
      "(4, 4, 4, 4, 4)\n",
      "None\n"
     ]
    }
   ],
   "source": [
    "def transposed(m):\n",
    "    y = list(zip(*m))\n",
    "    for row in y:\n",
    "        print(row)\n",
    "\n",
    "\n",
    "print(transposed([[n for n in range(5)] for m in range(5)]), sep='\\n')\n",
    "# your code here"
   ]
  },
  {
   "cell_type": "code",
   "execution_count": null,
   "outputs": [],
   "source": [],
   "metadata": {
    "collapsed": false,
    "pycharm": {
     "name": "#%%\n"
    }
   }
  }
 ],
 "metadata": {
  "kernelspec": {
   "display_name": "Python 3 (ipykernel)",
   "language": "python",
   "name": "python3"
  },
  "language_info": {
   "codemirror_mode": {
    "name": "ipython",
    "version": 3
   },
   "file_extension": ".py",
   "mimetype": "text/x-python",
   "name": "python",
   "nbconvert_exporter": "python",
   "pygments_lexer": "ipython3",
   "version": "3.8.10"
  }
 },
 "nbformat": 4,
 "nbformat_minor": 5
}