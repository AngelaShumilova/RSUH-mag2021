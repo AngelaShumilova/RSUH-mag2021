{
 "cells": [
  {
   "cell_type": "markdown",
   "id": "33d2d951-0477-4f59-af6f-0ab33520e376",
   "metadata": {},
   "source": [
    "После следующего занятия дз не будет, так что решайте оставшиеся спокойно. Если проведем доп. занятия, тогда будут еще домашки. "
   ]
  },
  {
   "cell_type": "markdown",
   "id": "02e1f583-0621-4e21-90b8-4e5bda227180",
   "metadata": {},
   "source": [
    "## Задание 1. \n",
    "\n",
    "Дано положительное действительное число a и целое (может быть отрицательное) число n. Напишите функцию power(a, n), которая будет возводить а в степень n. Сторонними библиотеками пользоваться пока нельзя. \n",
    "\n",
    "Вариант для продвинутого трека: Нельзя пользоваться оператором '\\*\\*', циклами (!!!) и любыми функциями, кроме float, int, input, print и написанных вами."
   ]
  },
  {
   "cell_type": "code",
   "execution_count": 1,
   "id": "4a524880-2ae8-4b77-9bfd-fbf54d14b6ff",
   "metadata": {},
   "outputs": [
    {
     "data": {
      "text/plain": "16"
     },
     "execution_count": 1,
     "metadata": {},
     "output_type": "execute_result"
    }
   ],
   "source": [
    "def power(a=int, n=int):\n",
    "    if n == 0:\n",
    "        return 1\n",
    "    return power(a, n - 1) * a\n",
    "\n",
    "\n",
    "power(4, 2)\n",
    "# your code here"
   ]
  },
  {
   "cell_type": "markdown",
   "id": "b91b6b0c-145f-4582-ad80-395d9811d9af",
   "metadata": {},
   "source": [
    "## \\* Задание 2.\n",
    "\n",
    "Дана последовательность целых чисел, заканчивающаяся числом 0. Выведите эту последовательность в обратном порядке.\n",
    "При решении этой задачи нельзя пользоваться никакими списками и подобным. Рекурсия вам поможет."
   ]
  },
  {
   "cell_type": "code",
   "execution_count": 2,
   "id": "57d16848-8865-40c5-8481-fe065fc27c64",
   "metadata": {
    "pycharm": {
     "name": "#%%\n"
    }
   },
   "outputs": [
    {
     "name": "stdout",
     "output_type": "stream",
     "text": [
      "0 33 4 9 \n"
     ]
    }
   ],
   "source": [
    "def reversedfunc(*arg: int) -> str:\n",
    "    if len(arg) == 0:\n",
    "        return \"\"\n",
    "    else:\n",
    "        return str(arg[-1]) + \" \" + reversedfunc(*arg[:-1])\n",
    "\n",
    "\n",
    "print(reversedfunc(9, 4, 33, 0))\n",
    "# your code here"
   ]
  },
  {
   "cell_type": "markdown",
   "id": "07055fd4-b4c8-4984-a34e-214370e85075",
   "metadata": {},
   "source": [
    "## Задание 3.\n",
    "\n",
    "Напишите функцию fib(n), которая по данному целому неотрицательному n возвращает n-e число Фибоначчи. В этой задаче нельзя использовать циклы — используйте рекурсию. Выведите число вызовов функции fib(n). Для этого нужно использовать глобальную переменную global counter (помните, на занятии я вам прямо ее показывала?)"
   ]
  },
  {
   "cell_type": "code",
   "execution_count": 8,
   "id": "e88df523-06b2-470e-883c-9218a21bf7c1",
   "metadata": {},
   "outputs": [
    {
     "name": "stdout",
     "output_type": "stream",
     "text": [
      "3 , 9\n"
     ]
    }
   ],
   "source": [
    "counter = 0\n",
    "\n",
    "\n",
    "def fib(n):\n",
    "    global counter\n",
    "    counter += 1\n",
    "    if n <= 1:\n",
    "        return n\n",
    "    else:\n",
    "        return fib(n - 1) + fib(n - 2)\n",
    "\n",
    "\n",
    "print(fib(4), ',', counter)\n",
    "\n",
    "# your code here"
   ]
  },
  {
   "cell_type": "markdown",
   "id": "48779c92-f220-4031-8cef-3ed3c04d27ba",
   "metadata": {},
   "source": [
    "## \\* Задание 4.\n",
    "\n",
    "Линейный Фибоначчи: напишите код с рекурсией, работающий за линейную сложность от N."
   ]
  },
  {
   "cell_type": "code",
   "execution_count": 11,
   "id": "616f8f3a-bade-457d-af79-05cf20bb3bd9",
   "metadata": {},
   "outputs": [
    {
     "data": {
      "text/plain": "8"
     },
     "execution_count": 11,
     "metadata": {},
     "output_type": "execute_result"
    }
   ],
   "source": [
    "def fib(term: int, val=1, prev=0):\n",
    "    if term == 0:\n",
    "        return prev\n",
    "    return fib(term - 1, val + prev, val)\n",
    "\n",
    "\n",
    "fib(6)\n",
    "\n",
    "# your code here"
   ]
  },
  {
   "cell_type": "markdown",
   "id": "61d3a449-c616-4b4e-83ef-2e99889cd045",
   "metadata": {},
   "source": [
    "## Задание 5.\n",
    "\n",
    "Явный Фибоначчи: а ещё быстрее можете? (эту задачу могут решить не только продвинутые ребята)"
   ]
  },
  {
   "cell_type": "code",
   "execution_count": 15,
   "id": "d6ed7f29-9aaf-4902-9011-eca78d3cae71",
   "metadata": {},
   "outputs": [
    {
     "data": {
      "text/plain": "3"
     },
     "execution_count": 15,
     "metadata": {},
     "output_type": "execute_result"
    }
   ],
   "source": [
    "import math\n",
    "\n",
    "\n",
    "def fib(n):\n",
    "    A = (1 + math.sqrt(5)) / 2\n",
    "    B = (1 - math.sqrt(5)) / 2\n",
    "    fib = (math.pow(A, n) - math.pow(B, n)) / math.sqrt(5)\n",
    "    return round(fib)\n",
    "\n",
    "\n",
    "fib(4)\n",
    "# your code here"
   ]
  },
  {
   "cell_type": "markdown",
   "id": "04676c06-e1f5-466d-8892-68ccb2b600b6",
   "metadata": {},
   "source": [
    "## Задание 6. \n",
    "\n",
    "*Зализняк*. Дан текст (на английском языке), состоящий из нескольких предложений. Составьте список всех встретившихся в тексте словоформ, отсортированный в обратном лексикографическом порядке (как в обратном словаре А.А.Зализняка, только вам не надо решать задачу лемматизации). Вам нужно разбить строку на токены, убрать оттуда всё лишнее (т.е. всё, что не является словом, в том числе - числа, любые аббревиатуры с цифрами и вообще всё, в чём есть цифры), отсортировать соответствующим образом, убрать повторы, и напечатать получившийся список. Нельзя заводить вспомогательные списки, запрещается менять туда-сюда порядок букв слов в основном списке.\n",
    "\n",
    "Подсказка: для токенизации нет нужды использовать специальные библиотеки (я бы даже хотела, чтобы вы их скорее не использовали пока). Можно написать собственную функцию проверки isword(), которая проверит каждый символ в строке на \"правильность\". Знаки препинания тоже можно выкинуть (тут может помочь метод strip() и модуль string, в котором есть punctuation, но можно и без модуля). "
   ]
  },
  {
   "cell_type": "code",
   "execution_count": 19,
   "id": "61ce8d2b-9848-468e-ba01-0de4a2d74543",
   "metadata": {},
   "outputs": [
    {
     "data": {
      "text/plain": "['you',\n 'written',\n 'what',\n 'values',\n 'to',\n 'the',\n 'square',\n 'python',\n 'of',\n 'most',\n 'me',\n 'list',\n 'let',\n 'know',\n 'items',\n 'it',\n 'is',\n 'in',\n 'if',\n 'guys',\n 'flexible',\n 'explain',\n 'don’t',\n 'datatype',\n 'comma-separated',\n 'can',\n 'briefly',\n 'brackets',\n 'between',\n 'be',\n 'available',\n 'as',\n 'a']"
     },
     "execution_count": 19,
     "metadata": {},
     "output_type": "execute_result"
    }
   ],
   "source": [
    "def clearedfunc(arg):\n",
    "    for i in range(len(arg) - 1, 0, -1):\n",
    "        arg[i] = arg[i].strip('!()-[]{};:\\'\", <>./?@#$%^&*_~')\n",
    "        if not arg[i].isalpha:\n",
    "            del arg[i]\n",
    "\n",
    "\n",
    "a = (input('sentences')).lower().split()\n",
    "clearedfunc(a)\n",
    "a = set(a)\n",
    "sorted(a, reverse=True)\n",
    "\n",
    "# your code here"
   ]
  },
  {
   "cell_type": "markdown",
   "id": "66638ff1-1e84-473b-8ffc-521f2f447cbb",
   "metadata": {},
   "source": [
    "## Задание 7. \n",
    "\n",
    "*Палиндром (тривиальный)*. Дана фраза (вводится с экрана), без пунктуации, но, возможно, содержащая обычные пробелы, регистр букв произвольный. В две строчки кода определите, является ли фраза палиндромом (регистр на палиндромность не влияет). Эта задача не требует знаний последних нескольких занятий."
   ]
  },
  {
   "cell_type": "code",
   "execution_count": 23,
   "id": "368d433d-61ef-4743-b22e-9018d032b181",
   "metadata": {},
   "outputs": [
    {
     "name": "stdout",
     "output_type": "stream",
     "text": [
      "False\n"
     ]
    }
   ],
   "source": [
    "ispal = (input('фраза')).lower()\n",
    "print(ispal == ispal[::-1])\n",
    "\n",
    "# your code here"
   ]
  },
  {
   "cell_type": "markdown",
   "id": "93bdce0b-a7ed-4110-ac41-40acc6937b72",
   "metadata": {},
   "source": [
    "## Задание 8.\n",
    "\n",
    "*Палиндром (усложнённый)*. То же, но: \n",
    "\n",
    "- фраза может содержать любые символы, включая экзотические знаки пунктуации и графические символы, которые не влияют на палиндромность фразы; \n",
    "- нельзя пользоваться списками и заниматься модифицированием исходной строки; \n",
    "\n",
    "Напишите решение с помощью рекурсии. Вызов рекурсивной функции ispalindrome должен выглядеть так: print(ispalindrome(input())). Функции upper/lower рекомендуется вызывать только для отдельных символов."
   ]
  },
  {
   "cell_type": "code",
   "execution_count": 27,
   "id": "a82dc923-9803-4e43-be89-fd8fa926d23f",
   "metadata": {},
   "outputs": [
    {
     "name": "stdout",
     "output_type": "stream",
     "text": [
      "True\n"
     ]
    }
   ],
   "source": [
    "punct = '!()-[]{};:\\'\", <>./?@#$%^&*_~'\n",
    "\n",
    "\n",
    "def ispalindrome(string):\n",
    "    if not string:\n",
    "        return True\n",
    "    if string[0] in punct:\n",
    "        return ispalindrome(string[1:])\n",
    "    if string[-1] in punct:\n",
    "        return ispalindrome(string[:-1])\n",
    "    return string[0].lower() == string[-1].lower() and ispalindrome(string[1:-1])\n",
    "\n",
    "\n",
    "print(ispalindrome(input()))\n",
    "\n",
    "# your code here"
   ]
  },
  {
   "cell_type": "markdown",
   "id": "c81fc7e6-a893-49cf-907b-f345b64dafb2",
   "metadata": {},
   "source": [
    "## Задание 9.\n",
    "\n",
    "*Палиндром (занудный)*. То же, но нельзя пользоваться рекурсией. Необходимо произвести одновременный проход по символам строки с двух сторон."
   ]
  },
  {
   "cell_type": "code",
   "execution_count": 39,
   "id": "fdaa5941-f691-46ea-8b48-4602fa52cb0b",
   "metadata": {},
   "outputs": [
    {
     "name": "stdout",
     "output_type": "stream",
     "text": [
      "True\n"
     ]
    }
   ],
   "source": [
    "mbpalindrome = input()\n",
    "punct = '!()-[]{};:\\'\", <>./?@#$%^&*_~'\n",
    "i = 0\n",
    "j = len(mbpalindrome) - 1\n",
    "result = True\n",
    "\n",
    "while i < j and result:\n",
    "    while i < j:\n",
    "        if mbpalindrome[i] in punct:\n",
    "            i += 1\n",
    "        else:\n",
    "            break\n",
    "    while i < j:\n",
    "        if mbpalindrome[j] in punct:\n",
    "            j -= 1\n",
    "        else:\n",
    "            break\n",
    "    result = result and mbpalindrome[i].lower() == mbpalindrome[j].lower()\n",
    "    i += 1\n",
    "    j -= 1\n",
    "\n",
    "print(result)\n",
    "# your code here"
   ]
  },
  {
   "cell_type": "markdown",
   "id": "5d3a614c-5557-4d5a-b60d-9e6cd95cf28b",
   "metadata": {},
   "source": [
    "## Задание 10.\n",
    "\n",
    "*Шифр Цезаря*. Дан текст (русский язык, без буквы ё), зашифрованный шифром Цезаря. Расшифруйте его, используя программу на питоне в качестве помощника. В шифре Цезаря каждый символ заменяется на другой символ, N-ый по счету в алфавите после данного, с цикличностью. Например, если N == 3, то замены будут такие: А->Г, Б->Д, В->Е, Г->Ж, ..., Э->A, Ю->Б, Я->В. Регистр сохраняется. Остальные символы не меняются. N - неизвестно. Для генерации текстов можно пользоваться https://planetcalc.ru/1434/\n",
    "\n",
    "Примечание. Когда-нибудь, надеюсь, доживем до светлых времен и напишем такую программу, которая будет не просто угадывать число N сама без вашей помощи, а еще и работать с любыми языками, а не только с русским. Там понадобятся эмбеддинги. "
   ]
  },
  {
   "cell_type": "code",
   "execution_count": 46,
   "id": "03a4bfde-0e89-434c-b579-aed4258cd1c1",
   "metadata": {},
   "outputs": [
    {
     "name": "stdout",
     "output_type": "stream",
     "text": [
      "Result: \"Ъц, в фоюыц тцыин жусп!\"\n"
     ]
    }
   ],
   "source": [
    "alpha = 'абвгдежзиклмнопрстуфхцчшщъыьэюя'\n",
    "alphaC = alpha.upper()\n",
    "n = int(input())\n",
    "s = input().strip()\n",
    "res = ''\n",
    "for c in s:\n",
    "    if c in alphaC:\n",
    "        res += alphaC[(alphaC.index(c) + n) % len(alphaC)]\n",
    "    elif c in alpha:\n",
    "        res += alpha[(alpha.index(c) + n) % len(alpha)]\n",
    "    else:\n",
    "        res += c\n",
    "print('Result: \"' + res + '\"')\n",
    "# your code here"
   ]
  },
  {
   "cell_type": "markdown",
   "id": "e9cecbc7-9e7b-4dc2-aecd-0ffc22590b30",
   "metadata": {},
   "source": [
    "## Задание 11. \n",
    "\n",
    "Два файла содержат по целому числу. Числа могут располагаться в файле произвольно, в любой строке с любым отступом, но кроме чисел - в файлах ничего нет. Выведите на экран их сумму."
   ]
  },
  {
   "cell_type": "code",
   "execution_count": 48,
   "id": "97561bfc-0e99-4d04-80d4-dfd8a3d2b89b",
   "metadata": {},
   "outputs": [
    {
     "name": "stdout",
     "output_type": "stream",
     "text": [
      "11\n"
     ]
    }
   ],
   "source": [
    "file1 = open('1.txt', 'r', encoding='cp1251')\n",
    "file2 = open('2.txt', 'r', encoding='cp1251')\n",
    "a = int(file1.read().strip())\n",
    "b = int(file2.read().strip())\n",
    "file1.close()\n",
    "file2.close()\n",
    "print(a + b)\n",
    "\n",
    "# your code here"
   ]
  },
  {
   "cell_type": "markdown",
   "id": "b2d69210-33ec-44dc-b79e-eaf86863c45b",
   "metadata": {},
   "source": [
    "# Задание 12.\n",
    "\n",
    "Входной файл содержит текст (без знаков препинания). В выходной файл выведите этот текст, в каждой строке поменяв порядок слов на обратный. Файл может быть большим, поэтому считывать файл надо построчно."
   ]
  },
  {
   "cell_type": "code",
   "execution_count": 66,
   "id": "28cb17a1-23d9-4551-883a-3e86eb861f1d",
   "metadata": {},
   "outputs": [],
   "source": [
    "file = open('3.txt', 'r', encoding='cp1251')\n",
    "resfile = open('4.txt', 'w', encoding='cp1251')\n",
    "for line in file:\n",
    "    a = line.split()[::-1]\n",
    "    resfile.writelines(' '.join(a) + \"\\n\")\n",
    "file.close()\n",
    "resfile.close()\n",
    "\n",
    "# your code here"
   ]
  },
  {
   "cell_type": "markdown",
   "id": "86f3e336-1e39-41f9-bbfc-533786a6f95e",
   "metadata": {},
   "source": [
    "## Задание 13. \n",
    "\n",
    "Напишите функцию, которая читает текст из файла в одной кодировке и перезаписывает его в другой файл в другой кодировке. Функция принимает в качестве аргументов два пути к файлам и две имени кодировки.\n",
    "\n",
    "Примечание: для \"продвинутости\" подумайте, как сделать так, чтобы не вываливал ошибку при конвертации utf в ascii. "
   ]
  },
  {
   "cell_type": "code",
   "execution_count": 77,
   "id": "da91e211-477a-4a55-b676-9e8d7aed3dd8",
   "metadata": {},
   "outputs": [],
   "source": [
    "file = open('5.txt', 'r', encoding='utf')\n",
    "resfile = open('6.txt', 'wb')\n",
    "for line in file:\n",
    "    a = (line + '\\n').encode('ascii', 'ignore')\n",
    "    resfile.write(a)\n",
    "file.close()\n",
    "resfile.close()\n",
    "# your code here"
   ]
  }
 ],
 "metadata": {
  "kernelspec": {
   "display_name": "Python 3 (ipykernel)",
   "language": "python",
   "name": "python3"
  },
  "language_info": {
   "codemirror_mode": {
    "name": "ipython",
    "version": 3
   },
   "file_extension": ".py",
   "mimetype": "text/x-python",
   "name": "python",
   "nbconvert_exporter": "python",
   "pygments_lexer": "ipython3",
   "version": "3.8.10"
  }
 },
 "nbformat": 4,
 "nbformat_minor": 5
}