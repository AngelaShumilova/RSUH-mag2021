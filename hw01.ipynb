{
 "cells": [
  {
   "cell_type": "markdown",
   "id": "a730c4c6-83e5-4a6c-826a-98feeac5294b",
   "metadata": {},
   "source": [
    "1. Напишите программу, которая принимает на вход число секунд и возвращает ответ в часах, минутах и секундах в виде 12:13:14. Подсказка: нужно использовать остаток от деления и целочисленное деление, а также параметр sep функции print(). Также можно воспользоваться функцией divmod(), если кто-то захочет поковыряться. \n"
   ]
  },
  {
   "cell_type": "markdown",
   "source": [],
   "metadata": {
    "collapsed": false
   }
  },
  {
   "cell_type": "markdown",
   "id": "193f44f7-1b1d-4eea-855b-4bff8ad7aa7e",
   "metadata": {},
   "source": [
    "2. Пользователь вводит два числа с плавающей запятой в формате х.ххх (х - цифра). Считайте эти числа с помощью функции input(), переведите в подходящий тип данных, перемножьте. Выведите результат в виде:\n",
    "\n",
    "\"Сумма равна ххх\".\n",
    "\n",
    "Округлите результат до целого числа (можно просто отбросить дробную часть). \n",
    "\n",
    "Бонусом можно округлить результат по правилам математики. Попробуйте найти, какая функция для этого подойдет."
   ]
  },
  {
   "cell_type": "code",
   "execution_count": 12,
   "outputs": [
    {
     "name": "stdout",
     "output_type": "stream",
     "text": [
      "2.449489742783178e-06\n"
     ]
    }
   ],
   "source": [
    "from math import sqrt\n",
    "\n",
    "n = int(1000000)\n",
    "r = float(1 / (n * n))\n",
    "print(float(sqrt(6 * r)))"
   ],
   "metadata": {
    "collapsed": false,
    "pycharm": {
     "name": "#%%\n"
    }
   }
  },
  {
   "cell_type": "markdown",
   "id": "8dfe77b6-6394-4ba7-90a5-a98f4d4f0cbd",
   "metadata": {},
   "source": [
    "3. Напишите программу, которая будет вычислять длину гипотенузы и площадь прямоугольного треугольника. Пользователь вводит два числа: a и b. "
   ]
  },
  {
   "cell_type": "code",
   "execution_count": 1,
   "id": "56ab697f-3bd3-4a3a-b2fc-e4898728ace5",
   "metadata": {},
   "outputs": [
    {
     "ename": "NameError",
     "evalue": "name 'sqrt' is not defined",
     "output_type": "error",
     "traceback": [
      "\u001B[1;31m---------------------------------------------------------------------------\u001B[0m",
      "\u001B[1;31mNameError\u001B[0m                                 Traceback (most recent call last)",
      "\u001B[1;32m~\\AppData\\Local\\Temp/ipykernel_3008/1892945242.py\u001B[0m in \u001B[0;36m<module>\u001B[1;34m\u001B[0m\n\u001B[0;32m      1\u001B[0m \u001B[0ma\u001B[0m \u001B[1;33m=\u001B[0m \u001B[0mint\u001B[0m\u001B[1;33m(\u001B[0m\u001B[0minput\u001B[0m\u001B[1;33m(\u001B[0m\u001B[1;34m'катет 1'\u001B[0m\u001B[1;33m)\u001B[0m\u001B[1;33m)\u001B[0m\u001B[1;33m\u001B[0m\u001B[1;33m\u001B[0m\u001B[0m\n\u001B[0;32m      2\u001B[0m \u001B[0mb\u001B[0m \u001B[1;33m=\u001B[0m \u001B[0mint\u001B[0m\u001B[1;33m(\u001B[0m\u001B[0minput\u001B[0m\u001B[1;33m(\u001B[0m\u001B[1;34m'катет 2'\u001B[0m\u001B[1;33m)\u001B[0m\u001B[1;33m)\u001B[0m\u001B[1;33m\u001B[0m\u001B[1;33m\u001B[0m\u001B[0m\n\u001B[1;32m----> 3\u001B[1;33m \u001B[0mg\u001B[0m \u001B[1;33m=\u001B[0m \u001B[0msqrt\u001B[0m\u001B[1;33m(\u001B[0m\u001B[0ma\u001B[0m \u001B[1;33m**\u001B[0m \u001B[1;36m2\u001B[0m \u001B[1;33m+\u001B[0m \u001B[0mb\u001B[0m \u001B[1;33m**\u001B[0m \u001B[1;36m2\u001B[0m\u001B[1;33m)\u001B[0m\u001B[1;33m\u001B[0m\u001B[1;33m\u001B[0m\u001B[0m\n\u001B[0m\u001B[0;32m      4\u001B[0m \u001B[0mar\u001B[0m \u001B[1;33m=\u001B[0m \u001B[1;33m(\u001B[0m\u001B[1;33m(\u001B[0m\u001B[0ma\u001B[0m \u001B[1;33m*\u001B[0m \u001B[0mb\u001B[0m\u001B[1;33m)\u001B[0m \u001B[1;33m/\u001B[0m \u001B[1;36m2\u001B[0m\u001B[1;33m)\u001B[0m\u001B[1;33m\u001B[0m\u001B[1;33m\u001B[0m\u001B[0m\n\u001B[0;32m      5\u001B[0m \u001B[0mprint\u001B[0m\u001B[1;33m(\u001B[0m\u001B[1;34m'Длина гипотенузы'\u001B[0m\u001B[1;33m,\u001B[0m \u001B[0mg\u001B[0m\u001B[1;33m,\u001B[0m \u001B[1;34m'\\nПлощадь'\u001B[0m\u001B[1;33m,\u001B[0m \u001B[0mar\u001B[0m\u001B[1;33m)\u001B[0m\u001B[1;33m\u001B[0m\u001B[1;33m\u001B[0m\u001B[0m\n",
      "\u001B[1;31mNameError\u001B[0m: name 'sqrt' is not defined"
     ]
    }
   ],
   "source": [
    "\n",
    "a = int(input('катет 1'))\n",
    "b = int(input('катет 2'))\n",
    "g = (a ** 2 + b ** 2) ** 0.5\n",
    "ar = ((a * b) / 2)\n",
    "print('Длина гипотенузы', g, '\\nПлощадь', ar)\n",
    "\n",
    "# your code here"
   ]
  },
  {
   "cell_type": "markdown",
   "id": "a9cac6e5-6dde-46ab-9afb-8caf47797594",
   "metadata": {},
   "source": [
    "4. Напишите программу, которая переводит вес из килограммов в фунты. (Вес вводится пользователем)"
   ]
  },
  {
   "cell_type": "code",
   "execution_count": 11,
   "id": "39fc64b6-9cfc-4960-a861-83a9fe98401c",
   "metadata": {},
   "outputs": [
    {
     "name": "stdout",
     "output_type": "stream",
     "text": [
      "45.35923745\n"
     ]
    }
   ],
   "source": [
    "print(float((input('Килограммы'))) * 0.4535923745)\n",
    "#"
   ]
  },
  {
   "cell_type": "markdown",
   "id": "0e3d931d-9390-4d5f-80c6-e9962567fcc2",
   "metadata": {},
   "source": [
    "5а. Напишите программу, которая рассчитывает процент от целого: пользователь вводит объем целого и объем части. Программа должна вывести \"хх%\""
   ]
  },
  {
   "cell_type": "code",
   "execution_count": 15,
   "id": "c78561e3-8d01-4516-a17a-c928b93764ba",
   "metadata": {},
   "outputs": [
    {
     "name": "stdout",
     "output_type": "stream",
     "text": [
      "15 %\n"
     ]
    }
   ],
   "source": [
    "x = int(input('объём целого'))  # your code here\n",
    "y = int(input('объём части'))\n",
    "print((int(round((y / x * 100), 0))), '%')"
   ]
  },
  {
   "cell_type": "markdown",
   "id": "94028bda-e61a-41e6-9566-137ee910ba21",
   "metadata": {},
   "source": [
    "5b. А теперь пользователь вводит объем целого и процент, нужно рассчитать объем части, соответствующий такому проценту."
   ]
  },
  {
   "cell_type": "code",
   "execution_count": 17,
   "id": "86ff0767-7284-40ad-a649-b4c0f87ece8a",
   "metadata": {},
   "outputs": [
    {
     "name": "stdout",
     "output_type": "stream",
     "text": [
      "Объём части 5\n"
     ]
    }
   ],
   "source": [
    "x = int(input('объём целого'))  # your code here\n",
    "y = int(input('процент'))\n",
    "print('Объём части', int(100 / x * y))\n",
    "# your code here"
   ]
  },
  {
   "cell_type": "markdown",
   "id": "27e03662-dab8-4d92-8530-97a1dbaa76ce",
   "metadata": {},
   "source": [
    "6. Пользователь вводит имя. Программа должна вывести \"Надо, name, надо!\""
   ]
  },
  {
   "cell_type": "code",
   "execution_count": 22,
   "id": "195e00c4-85d8-41f4-b20d-0ae4c9928cfa",
   "metadata": {},
   "outputs": [
    {
     "name": "stdout",
     "output_type": "stream",
     "text": [
      "Надо, vasya, надо!\n"
     ]
    }
   ],
   "source": [
    "print('Надо, ', input('Type your name'), ', надо!', sep='')\n",
    "# your code here"
   ]
  },
  {
   "cell_type": "markdown",
   "id": "a2c71156-8de3-460c-8b27-7d4da63778b4",
   "metadata": {},
   "source": [
    "7. Самое простое задание! Запустите эту ячейку."
   ]
  },
  {
   "cell_type": "code",
   "execution_count": 16,
   "id": "542b0485-2002-425a-ab4a-affb3b12bc4a",
   "metadata": {},
   "outputs": [
    {
     "name": "stdout",
     "output_type": "stream",
     "text": [
      "The Zen of Python, by Tim Peters\n",
      "\n",
      "Beautiful is better than ugly.\n",
      "Explicit is better than implicit.\n",
      "Simple is better than complex.\n",
      "Complex is better than complicated.\n",
      "Flat is better than nested.\n",
      "Sparse is better than dense.\n",
      "Readability counts.\n",
      "Special cases aren't special enough to break the rules.\n",
      "Although practicality beats purity.\n",
      "Errors should never pass silently.\n",
      "Unless explicitly silenced.\n",
      "In the face of ambiguity, refuse the temptation to guess.\n",
      "There should be one-- and preferably only one --obvious way to do it.\n",
      "Although that way may not be obvious at first unless you're Dutch.\n",
      "Now is better than never.\n",
      "Although never is often better than *right* now.\n",
      "If the implementation is hard to explain, it's a bad idea.\n",
      "If the implementation is easy to explain, it may be a good idea.\n",
      "Namespaces are one honking great idea -- let's do more of those!\n"
     ]
    }
   ],
   "source": [
    "import this"
   ]
  }
 ],
 "metadata": {
  "kernelspec": {
   "display_name": "Python 3 (ipykernel)",
   "language": "python",
   "name": "python3"
  },
  "language_info": {
   "codemirror_mode": {
    "name": "ipython",
    "version": 3
   },
   "file_extension": ".py",
   "mimetype": "text/x-python",
   "name": "python",
   "nbconvert_exporter": "python",
   "pygments_lexer": "ipython3",
   "version": "3.8.10"
  }
 },
 "nbformat": 4,
 "nbformat_minor": 5
}