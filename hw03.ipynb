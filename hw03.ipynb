{
 "cells": [
  {
   "cell_type": "markdown",
   "id": "cb244ad3-e380-41ae-b35a-1bd048296be4",
   "metadata": {},
   "source": [
    "## Задание 1.\n",
    "\n",
    "Пользователь вводит сперва число n, а потом n раз вводит какие-то числа. Программа должна вернуть их сумму и среднее арифметическое значение. "
   ]
  },
  {
   "cell_type": "code",
   "execution_count": 1,
   "id": "2f97fb2d-5c93-45eb-a89b-90c05cc5a3e7",
   "metadata": {},
   "outputs": [
    {
     "name": "stdout",
     "output_type": "stream",
     "text": [
      "23 4.6\n"
     ]
    }
   ],
   "source": [
    "n = int(input('Введите число'))\n",
    "list = [int(input()) for x in range(n)]\n",
    "sum = sum(list)\n",
    "ave = sum / len(list)\n",
    "print(sum, ave)\n",
    "\n",
    "\n",
    "\n",
    "\n",
    "# your code here"
   ]
  },
  {
   "cell_type": "markdown",
   "id": "01e623d1-4bb2-4d23-b438-dc55a4c316fc",
   "metadata": {},
   "source": [
    "## Задание 2. \n",
    "\n",
    "Пользователь вводит какие-то числа; программа должна выводить в ответ, четное число или нечетное, пока не будет введен 0."
   ]
  },
  {
   "cell_type": "code",
   "execution_count": 17,
   "id": "34046e22-688a-431e-8986-4eb5fef752b9",
   "metadata": {},
   "outputs": [
    {
     "name": "stdout",
     "output_type": "stream",
     "text": [
      "Нечетное! Введите снова!\n",
      "Нечетное! Введите снова!\n",
      "Четное! Введите снова!\n",
      "Нечетное! Введите снова!\n",
      "Нечетное! Введите снова!\n",
      "Четное! Введите снова!\n",
      "Нечетное! Введите снова!\n",
      "Четное! Введите снова!\n"
     ]
    },
    {
     "ename": "ValueError",
     "evalue": "invalid literal for int() with base 10: ''",
     "output_type": "error",
     "traceback": [
      "\u001B[1;31m---------------------------------------------------------------------------\u001B[0m",
      "\u001B[1;31mValueError\u001B[0m                                Traceback (most recent call last)",
      "\u001B[1;32m~\\AppData\\Local\\Temp/ipykernel_14764/3586637206.py\u001B[0m in \u001B[0;36m<module>\u001B[1;34m\u001B[0m\n\u001B[0;32m      1\u001B[0m \u001B[1;32mwhile\u001B[0m \u001B[1;32mTrue\u001B[0m\u001B[1;33m:\u001B[0m\u001B[1;33m\u001B[0m\u001B[1;33m\u001B[0m\u001B[0m\n\u001B[1;32m----> 2\u001B[1;33m     \u001B[0mx\u001B[0m \u001B[1;33m=\u001B[0m \u001B[0mint\u001B[0m\u001B[1;33m(\u001B[0m\u001B[0minput\u001B[0m\u001B[1;33m(\u001B[0m\u001B[1;34m'Введите число'\u001B[0m\u001B[1;33m)\u001B[0m\u001B[1;33m)\u001B[0m\u001B[1;33m\u001B[0m\u001B[1;33m\u001B[0m\u001B[0m\n\u001B[0m\u001B[0;32m      3\u001B[0m     \u001B[1;32mif\u001B[0m \u001B[0mx\u001B[0m \u001B[1;33m==\u001B[0m \u001B[1;36m0\u001B[0m\u001B[1;33m:\u001B[0m\u001B[1;33m\u001B[0m\u001B[1;33m\u001B[0m\u001B[0m\n\u001B[0;32m      4\u001B[0m         \u001B[1;32mbreak\u001B[0m\u001B[1;33m\u001B[0m\u001B[1;33m\u001B[0m\u001B[0m\n\u001B[0;32m      5\u001B[0m     \u001B[1;32mif\u001B[0m \u001B[1;32mnot\u001B[0m \u001B[0mx\u001B[0m \u001B[1;33m%\u001B[0m \u001B[1;36m2\u001B[0m \u001B[1;33m==\u001B[0m \u001B[1;36m0\u001B[0m\u001B[1;33m:\u001B[0m\u001B[1;33m\u001B[0m\u001B[1;33m\u001B[0m\u001B[0m\n",
      "\u001B[1;31mValueError\u001B[0m: invalid literal for int() with base 10: ''"
     ]
    }
   ],
   "source": [
    "while True:\n",
    "    x = int(input('Введите число'))\n",
    "    if x == 0:\n",
    "        break\n",
    "    if not x % 2 == 0:\n",
    "        print('Нечетное! Введите снова!')\n",
    "    else:\n",
    "        print('Четное! Введите снова!')\n",
    "\n",
    "\n",
    "# your code here"
   ]
  },
  {
   "cell_type": "markdown",
   "id": "d3916975-095f-402a-bfdf-b03f435eefa8",
   "metadata": {},
   "source": [
    "## Задание 3. \n",
    "\n",
    "Пользователь вводит какие-то строчки, программа должна превращать их в заголовки; программа работает, пока пользователь не введет слово \"стоп\", причем это слово может быть введено любым способом: СТОП, стоп, Стоп и даже СтОП."
   ]
  },
  {
   "cell_type": "code",
   "execution_count": 5,
   "id": "d651caa9-9f1b-4926-ac91-802d2ddae22b",
   "metadata": {},
   "outputs": [
    {
     "name": "stdout",
     "output_type": "stream",
     "text": [
      "Ghbdn\n",
      "Введите снова!\n",
      "Стоп\n"
     ]
    }
   ],
   "source": [
    "while True:\n",
    "    a = (input('Введите строку')).lower().title()\n",
    "    print(a)\n",
    "    if a == 'Стоп':\n",
    "        break\n",
    "    else:\n",
    "        print('Введите снова!')\n",
    "# your code here"
   ]
  },
  {
   "cell_type": "markdown",
   "id": "75872566-10b9-4763-81d7-ad5c968c0219",
   "metadata": {},
   "source": [
    "## Задание 4. \n",
    "\n",
    "Напишите программу, которая в цикле вычисляет факториал числа n (число вводит пользователь)."
   ]
  },
  {
   "cell_type": "code",
   "execution_count": 8,
   "id": "e2ea6ad4-c6c1-4d7c-a9b7-e8c0464c2339",
   "metadata": {},
   "outputs": [
    {
     "name": "stdout",
     "output_type": "stream",
     "text": [
      "6\n"
     ]
    }
   ],
   "source": [
    "n = int(input('Введите число'))\n",
    "f = 1\n",
    "for x in range(1, n + 1):\n",
    "    f = f * x\n",
    "print(f)\n",
    "# your code here"
   ]
  },
  {
   "cell_type": "markdown",
   "id": "e6c2a46a-c4ad-416f-b29c-f10f0bce516f",
   "metadata": {},
   "source": [
    "## Задание 5.\n",
    "\n",
    "Пользователь вводит целые числа, пока не введет 0; программа должна согласовывать с числами слово \"корова\", н-р, \n",
    "\n",
    "    1 корова\n",
    "    2 коровы\n",
    "    3 коровы\n",
    "    11 коров\n",
    "    \n"
   ]
  },
  {
   "cell_type": "code",
   "execution_count": 9,
   "id": "2f3b0be0-df46-4b47-b7a0-a9382eaa4003",
   "metadata": {},
   "outputs": [
    {
     "name": "stdout",
     "output_type": "stream",
     "text": [
      "5 коров\n",
      "16 коров\n",
      "1023 коровы\n",
      "1023 коров\n",
      "677 коров\n",
      "2021 корова\n",
      "2021 коров\n"
     ]
    }
   ],
   "source": [
    "while True:\n",
    "    x = int(input('Введите число'))\n",
    "    if x == 0:\n",
    "        break\n",
    "    if x % 10 == 1:\n",
    "        print(f'{x} корова')\n",
    "    if 4 >= x % 10 >= 2:\n",
    "        print(f'{x} коровы')\n",
    "    if 11 >= x >= 14:\n",
    "        print(f'{x} коров')\n",
    "    else:\n",
    "        print(f'{x} коров')\n",
    "# your code here"
   ]
  },
  {
   "cell_type": "markdown",
   "id": "48922858-0398-470b-9f62-01a662ab678d",
   "metadata": {},
   "source": [
    "## Задание 6.\n",
    "\n",
    "Пользователь вводит два слова. Поменяйте их местами, используя split() и join()."
   ]
  },
  {
   "cell_type": "code",
   "execution_count": 36,
   "id": "54fefaf2-c803-4fef-ad01-2a2b4e13d9cd",
   "metadata": {},
   "outputs": [
    {
     "data": {
      "text/plain": "'хлеба купи'"
     },
     "execution_count": 36,
     "metadata": {},
     "output_type": "execute_result"
    }
   ],
   "source": [
    "a = input('Введите два слова через пробел').split()[::-1]\n",
    "' '.join(a)\n",
    "\n",
    "# your code here"
   ]
  },
  {
   "cell_type": "markdown",
   "id": "4007613e-e27e-4dea-a233-709b284f6141",
   "metadata": {},
   "source": [
    "## Задание 7.\n",
    "\n",
    "По данному натуральному n ≤ 9 выведите лесенку из n ступенек, i-я ступенька состоит из чисел от 1 до i без пробелов. То есть, должно быть что-то такое:\n",
    "\n",
    "    1\n",
    "    12\n",
    "    123\n",
    "    1234\n",
    "    \n"
   ]
  },
  {
   "cell_type": "code",
   "execution_count": 39,
   "id": "89886dd4-daad-413a-a392-2a296a2d63c9",
   "metadata": {},
   "outputs": [
    {
     "name": "stdout",
     "output_type": "stream",
     "text": [
      "1\n",
      "12\n",
      "123\n",
      "1234\n",
      "12345\n",
      "123456\n",
      "1234567\n",
      "12345678\n"
     ]
    }
   ],
   "source": [
    "x = int(input('Введите целое число от 1 до 9'))\n",
    "f = ''\n",
    "for i in range(1, x + 1):\n",
    "    f = f + str(i)\n",
    "    print(f)\n",
    "# your code here"
   ]
  },
  {
   "cell_type": "markdown",
   "id": "4a1aed19-0072-4a57-8a8b-b534808bb98b",
   "metadata": {},
   "source": [
    "## Задание 8. \n",
    "\n",
    "Пользователь вводит целые (не обязательно положительные) числа. Программа должна вывести самое большое введенное число. "
   ]
  },
  {
   "cell_type": "code",
   "execution_count": 40,
   "id": "095f49fb-da9d-4341-8025-31d2cf0dd0ce",
   "metadata": {},
   "outputs": [
    {
     "name": "stdout",
     "output_type": "stream",
     "text": [
      "7\n"
     ]
    }
   ],
   "source": [
    "y = [int(i) for i in input('Введите несколько целых чисел через пробел').split()]\n",
    "print(max(y))\n",
    "# your code here"
   ]
  },
  {
   "cell_type": "markdown",
   "id": "bc5c15e4-d108-41ed-992a-6c833e655825",
   "metadata": {},
   "source": [
    "## Задание 9. \n",
    "\n",
    "Числа Фибоначчи - это такие числа, где каждое число n равняется сумме двух предыдущих:\n",
    "\n",
    "    0 (нулевое)\n",
    "    1 (первое)\n",
    "    0 + 1 = 1 (второе)\n",
    "    1 + 1 = 2 (третье)\n",
    "    1 + 2 = 3 (четвертое)\n",
    "    2 + 3 = 5 (пятое)\n",
    "    ...\n",
    "    \n",
    "Напишите программу, которая в цикле вычисляет n-е число Фибоначчи. "
   ]
  },
  {
   "cell_type": "code",
   "execution_count": 2,
   "id": "77710695-487c-4fce-a72d-5fb54402301d",
   "metadata": {},
   "outputs": [
    {
     "name": "stdout",
     "output_type": "stream",
     "text": [
      "55\n"
     ]
    }
   ],
   "source": [
    "fib1 = fib2 = 1\n",
    "n = int(input())\n",
    "for i in range(2, n):\n",
    "    fib1, fib2 = fib2, fib1 + fib2\n",
    "print(fib2)\n",
    "# your code here"
   ]
  },
  {
   "cell_type": "markdown",
   "id": "fb580292-5b06-4bf6-8bdf-ae3d338434fa",
   "metadata": {},
   "source": [
    "## Задание 10. \n",
    "\n",
    "Программа загадывает число от 1 до 1023. Игрок пытается угадать это число, и у него есть 10 попыток. Если игрок вводит загаданное число, программа поздравляет его и заканчивает работу. Иначе программа должна напечатать, введённое число больше или меньше загаданного. Если все 10 попыток неудачны - программа должна написать, что попытки кончились, вывести загаданное число, и предложить сыграть в игру заново (при этом число должно быть загадано другое). Если пользователь вводит число меньше, чем 1, или больше, чем 1023, программа должна об этом сообщить - но не засчитывать попытку (т.е., это не считается неудачной попыткой). \n",
    "\n",
    "Ответьте на вопрос: готовы ли вы ручаться, что угадаете загаданное число за эти 10 попыток?\n",
    "\n",
    "Чтобы загадать рандомное число, нужно использовать функцию randint() из внешнего модуля random."
   ]
  },
  {
   "cell_type": "code",
   "execution_count": 5,
   "id": "573fd470-83c4-4fba-ad60-3e2cb81072be",
   "metadata": {},
   "outputs": [
    {
     "name": "stdout",
     "output_type": "stream",
     "text": [
      "Меньше! Введите снова!\n",
      "Меньше! Введите снова!\n",
      "Меньше! Введите снова!\n",
      "Меньше! Введите снова!\n",
      "Больше! Введите снова\n",
      "Больше! Введите снова\n",
      "Больше! Введите снова\n",
      "Больше! Введите снова\n",
      "Invalid! Введите снова\n",
      "Больше! Введите снова\n",
      "Game over, number: 797\n"
     ]
    }
   ],
   "source": [
    "from random import randint\n",
    "\n",
    "x = randint(1, 1023)\n",
    "\n",
    "for total in range(0, 10):\n",
    "    n = int(input('Введите число'))\n",
    "    if n == x:\n",
    "        print('Поздравляем!')\n",
    "        break\n",
    "    if 0 < n < x:\n",
    "        print('Меньше! Введите снова!')\n",
    "    if n > x:\n",
    "        print('Больше! Введите снова')\n",
    "    if n <= 0:\n",
    "        total = total - 1\n",
    "        print('Invalid! Введите снова')\n",
    "\n",
    "print(f'Game over, number: {x}')\n",
    "\n",
    "# your code here"
   ]
  },
  {
   "cell_type": "markdown",
   "id": "a5201074-9528-43ea-b5c3-30053f504c1e",
   "metadata": {},
   "source": [
    "## \\* Задание 11. \n",
    "\n",
    "Напишите функцию, которая вычисляет стандартное отклонение выборки на основании несмещенной оценки дисперсии $ \\sigma = \\sqrt{\\frac{1}{n - 1}\\sum \\limits_{i=1}^{n}(x_i - \\bar{x})^2}$), при этом запрещается использовать списки. В данной формуле $\\bar{x}$ - это среднее арифметическое значение последовательности (то есть говоря, на входе у нас последовательность, которую вводит пользователь цифру за цифрой, а когда он введет любой символ, кроме цифры, программа должна вывести $\\sigma$.\n",
    "\n",
    "Списками в этой задаче пользоваться нельзя. Чтобы ее решить, нужно прибегнуть к магии математики!"
   ]
  },
  {
   "cell_type": "code",
   "execution_count": null,
   "id": "e0a001f6-cdce-41d7-adcb-d55dbfa65357",
   "metadata": {},
   "outputs": [],
   "source": [
    "# your code here"
   ]
  }
 ],
 "metadata": {
  "kernelspec": {
   "display_name": "Python 3 (ipykernel)",
   "language": "python",
   "name": "python3"
  },
  "language_info": {
   "codemirror_mode": {
    "name": "ipython",
    "version": 3
   },
   "file_extension": ".py",
   "mimetype": "text/x-python",
   "name": "python",
   "nbconvert_exporter": "python",
   "pygments_lexer": "ipython3",
   "version": "3.8.10"
  }
 },
 "nbformat": 4,
 "nbformat_minor": 5
}