{
 "cells": [
  {
   "cell_type": "markdown",
   "id": "9a4d80af-d232-43b9-a24d-33fca4dab435",
   "metadata": {},
   "source": [
    "Единственная задача: обобщить написанный на семинаре код и сымитировать работу одного большого отдела ABBYY, в котором есть три маленьких подотдела с лингвистами, программистами и комплингом. То есть, что у нас должно быть реализовано:\n",
    "\n",
    "- родительский класс \"работник\"\n",
    "- базовые классы \"лингвист\", \"программист\" и \"компьютерный лингвист\"\n",
    "- у всех методы work\n",
    "- классы \"босс_лингвист\", \"босс_программист\" и \"босс_кл\", которые могут наследовать (с подмешиванием) от общего класса \"босс\"\n",
    "- у боссов в атрибутах сидят их подчиненные\n",
    "- босс подотдела получает квесты от менеджера главного отдела и принуждает сотрудников работать\n",
    "- в главном отделе есть метод для выдачи квестов\n",
    "- соответственно, используем как наследование, так и композицию с делегированием"
   ]
  },
  {
   "cell_type": "code",
   "execution_count": 62,
   "id": "4615e11a-f081-41b3-a3eb-d8519e59ef4c",
   "metadata": {},
   "outputs": [],
   "source": [
    "class Employee:\n",
    "  coef = 1\n",
    "\n",
    "  def __init__(self, name, surname):\n",
    "    self.name = name\n",
    "    self.surname = surname\n",
    "    self.bankaccount = 0\n",
    "    self.salary = 350\n",
    "\n",
    "  def work(self, hours):\n",
    "    print('Working...')\n",
    "    self.bankaccount += self.salary * self.coef * hours\n",
    "\n",
    "class Linguist(Employee):\n",
    "  coef = 0.8\n",
    "\n",
    "  def __init__(self, name, surname, publications=None):\n",
    "    super().__init__(name, surname)\n",
    "    if publications is None:\n",
    "      self.publications = []\n",
    "    else:\n",
    "      self.publications = publications\n",
    "\n",
    "  def publish(self, name_of_publ):\n",
    "    self.publications.append(name_of_publ)\n",
    "    Employee.work(self, 24)\n",
    "    print(f'{self.name} {self.surname} has published a paper {name_of_publ} in Voprosy Yazykoznaniya')\n",
    "\n",
    "  def readlingpapers(self, lingpaper):\n",
    "    print('Reading...')\n",
    "    print(f'{self.name} {self.surname} has read {lingpaper}')\n",
    "\n",
    "class Programmer(Employee):\n",
    "  coef = 2\n",
    "\n",
    "  def __init__(self, name, surname, projects=None):\n",
    "    super().__init__(name, surname)\n",
    "    if projects is None:\n",
    "      self.projects = []\n",
    "    else:\n",
    "      self.projects = projects\n",
    "\n",
    "  def code(self, project):\n",
    "    print('Coding...')\n",
    "    Employee.work(self, 8)\n",
    "    self.projects.append(project)\n",
    "    print(f'{self.name} {self.surname} has committed a {project}')\n",
    "\n",
    "class ComputationalLinguist (Linguist, Programmer):\n",
    "  coef = 1.5\n",
    "\n",
    "  def __init__(self, name, surname, projects, publications):\n",
    "    super().__init__(name, surname, projects)\n",
    "    super().__init__(name, surname, publications)\n",
    "\n",
    "  def publishcode(self, name_of_paper_with_code):\n",
    "    print('Working...')\n",
    "    Employee.work(self, 32)\n",
    "    self.publications.append(name_of_paper_with_code)\n",
    "    self.projects.append(name_of_paper_with_code)\n",
    "    print(f'{self.name} {self.surname} has published {name_of_paper_with_code} in ACL Papers')\n",
    "\n",
    "class BOSS(Employee):\n",
    "\n",
    "  def __init__(self, name, surname, workers=None):\n",
    "    super().__init__(name, surname)\n",
    "    if workers is None:\n",
    "      self.workers = []\n",
    "    else:\n",
    "      self.workers = workers\n",
    "\n",
    "  def hire(self, worker):\n",
    "    if worker not in self.workers:\n",
    "      self.workers.append(worker)\n",
    "    else:\n",
    "      print(f'{worker.name} {worker.surname} already works for you')\n",
    "\n",
    "  def fire(self, worker):\n",
    "    if worker in self.workers:\n",
    "      self.workers.remove(worker)\n",
    "    else:\n",
    "      print(f'{worker.name} {worker.surname} has never worked for you')\n",
    "\n",
    "  def workEveryone(self, hour):\n",
    "    for worker in self.workers:\n",
    "      worker.work(hour)\n",
    "\n",
    "class KLBoss(BOSS):\n",
    "  coef = 2,5\n",
    "\n",
    "  def __init__(self, name, surname, workers=None):\n",
    "    super().__init__(name, surname, workers)\n",
    "\n",
    "  def makepublishcode(self, name_of_paper_with_code):\n",
    "    for worker in self.workers:\n",
    "      worker.publishcode(name_of_paper_with_code)\n",
    "\n",
    "class ProgBoss(BOSS):\n",
    "  coef = 4\n",
    "\n",
    "  def __init__(self, name, surname, workers=None):\n",
    "    super().__init__(name, surname, workers)\n",
    "\n",
    "  def makecode(self, project):\n",
    "    for worker in self.workers:\n",
    "      worker.code(project)\n",
    "\n",
    "class LingvoBoss(BOSS):\n",
    "  coef = 2,7\n",
    "\n",
    "  def __init__(self, name, surname, workers=None):\n",
    "    super().__init__(name, surname, workers)\n",
    "\n",
    "  def makepublish(self, name_of_publ):\n",
    "    for worker in self.workers:\n",
    "      worker.publish(name_of_publ)\n",
    "\n",
    "class MainBoss(BOSS):\n",
    "  coef = 5\n",
    "\n",
    "  def __init__(self, name, surname, workers=None):\n",
    "    super().__init__(name, surname, workers)\n",
    "\n",
    "  def workEveryone(self, hours):\n",
    "    for boss in self.workers:\n",
    "      for worker in boss.workers:\n",
    "        worker.work(hours)\n",
    "\n",
    "  def checkproductivity(self):\n",
    "    for boss in self.workers:\n",
    "      for worker in boss.workers:\n",
    "        print(f'{worker.name} {worker.surname} has earned {worker.bankaccount} grivens')"
   ]
  },
  {
   "cell_type": "code",
   "execution_count": 63,
   "outputs": [],
   "source": [
    "lngv = Linguist('Test', 'Linguist')"
   ],
   "metadata": {
    "collapsed": false
   }
  },
  {
   "cell_type": "code",
   "execution_count": 64,
   "outputs": [
    {
     "name": "stdout",
     "output_type": "stream",
     "text": [
      "Working...\n",
      "Test Linguist has published a paper Deixis in Voprosy Yazykoznaniya\n"
     ]
    }
   ],
   "source": [
    "lngv.publish('Deixis')"
   ],
   "metadata": {
    "collapsed": false
   }
  },
  {
   "cell_type": "code",
   "execution_count": 65,
   "outputs": [
    {
     "data": {
      "text/plain": "6720.0"
     },
     "execution_count": 65,
     "metadata": {},
     "output_type": "execute_result"
    }
   ],
   "source": [
    "lngv.bankaccount"
   ],
   "metadata": {
    "collapsed": false
   }
  },
  {
   "cell_type": "code",
   "execution_count": 66,
   "outputs": [],
   "source": [
    "ceo = MainBoss('Vera', 'Podlesskaya')"
   ],
   "metadata": {
    "collapsed": false
   }
  },
  {
   "cell_type": "code",
   "execution_count": 67,
   "outputs": [],
   "source": [
    "lboss = LingvoBoss('Yakov', 'Testelets')"
   ],
   "metadata": {
    "collapsed": false
   }
  },
  {
   "cell_type": "code",
   "execution_count": 68,
   "outputs": [],
   "source": [
    "lboss.hire(lngv)"
   ],
   "metadata": {
    "collapsed": false
   }
  },
  {
   "cell_type": "code",
   "execution_count": 69,
   "outputs": [],
   "source": [
    "ceo.hire(lboss)"
   ],
   "metadata": {
    "collapsed": false
   }
  },
  {
   "cell_type": "code",
   "execution_count": 70,
   "outputs": [
    {
     "name": "stdout",
     "output_type": "stream",
     "text": [
      "Working...\n"
     ]
    }
   ],
   "source": [
    "ceo.workEveryone(3)"
   ],
   "metadata": {
    "collapsed": false
   }
  },
  {
   "cell_type": "code",
   "execution_count": 61,
   "outputs": [
    {
     "name": "stdout",
     "output_type": "stream",
     "text": [
      "Test Linguist has earned 7560.0 grivens\n"
     ]
    }
   ],
   "source": [
    "ceo.checkproductivity()"
   ],
   "metadata": {
    "collapsed": false
   }
  },
  {
   "cell_type": "code",
   "execution_count": null,
   "outputs": [],
   "source": [],
   "metadata": {
    "collapsed": false
   }
  }
 ],
 "metadata": {
  "kernelspec": {
   "display_name": "Python 3 (ipykernel)",
   "language": "python",
   "name": "python3"
  },
  "language_info": {
   "codemirror_mode": {
    "name": "ipython",
    "version": 3
   },
   "file_extension": ".py",
   "mimetype": "text/x-python",
   "name": "python",
   "nbconvert_exporter": "python",
   "pygments_lexer": "ipython3",
   "version": "3.9.12"
  }
 },
 "nbformat": 4,
 "nbformat_minor": 5
}
