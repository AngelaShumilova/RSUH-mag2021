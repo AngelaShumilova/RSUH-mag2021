{
 "cells": [
  {
   "cell_type": "markdown",
   "id": "6eaf54b9-bb1e-4b2d-b39a-e37fe5dcb043",
   "metadata": {},
   "source": [
    "#### Задача 1 (3 балла). \n",
    "\n",
    "Разовьем тему с бойцами. Напишите игру (можно взять свой старый код в качестве базы), где игроку будет предложено выбрать класс героя: волшебник или боец. Вы должны учесть возможность добавления новых игровых классов (используйте наследование). У волшебника и бойца немного разные атрибуты (можно атрибуты сделать одинаковые в классе-родителе, но разные коэффициенты в классах-детях, на которые они домножаются: например, здоровье волшебника будет 1.0 от стандартного значения, а здоровье бойца - 1.5, а с маной наоборот). Также у них будут разные методы \"нанести удар\" и, если хотите, приветствия. Также у нашего героя, кем бы он ни был, должен быть рюкзак, в котором можно рыться и хранить ограниченный набор вещей (в частности, там хранятся зелья: по умолчанию пусть в начале игры каждому персонажу дается по три зелья). Наконец, нужен класс для противника: можете придумать любого монстра (тоже с возможностью добавления новых монстров, очевидно), с которым герой будет сражаться. Во время сражения неплохо предоставлять игроку выбор вида \"нанести удар - выпить зелье\", а сам урон от удара можно немного рандомизировать с помощью одноименного модуля. Можно еще реализовать и метод sleep для мирного времени, но во время боя он, конечно, не понадобится. "
   ]
  },
  {
   "cell_type": "code",
   "execution_count": 7,
   "id": "79d53758-ea88-40d9-94b9-f00206d1a4d9",
   "metadata": {},
   "outputs": [],
   "source": [
    "from random import randint\n",
    "\n",
    "\n",
    "class Fighter:\n",
    "    rucksack = dict({'potion': 3})\n",
    "    health = 10\n",
    "    mana = 3\n",
    "\n",
    "    def __init__(self, name):\n",
    "        self.name = name\n",
    "\n",
    "    def addtorucksack(self, x, y):\n",
    "        self.rucksack = self.rucksack.update({x: y})\n",
    "\n",
    "    def substractfromrucksack(self, x):\n",
    "        del self.rucksack[x]\n",
    "\n",
    "    def drinkpotion(self):\n",
    "        if self.rucksack['potion'] >= 0:\n",
    "            self.rucksack['potion'] = self.rucksack['potion'] - 1\n",
    "            self.health += 3\n",
    "        else:\n",
    "            return f'Необходимо купить зелье'\n",
    "\n",
    "    def addpotion(self):\n",
    "        self.rucksack['potion'] = self.rucksack['potion'] + 1\n",
    "\n",
    "    def fight(self, monsterdfdgf):\n",
    "        monsterdfdgf.monsterhealth -= self.mana * randint(1, 5)\n",
    "\n",
    "    def show_rucksack(self):\n",
    "        for item in self.rucksack:\n",
    "            print(item)\n",
    "\n",
    "\n",
    "class Monster:\n",
    "    def __init__(self, monsterhealth):\n",
    "        self.monsterhealth = monsterhealth\n",
    "\n",
    "    def addnewmonster(self, n):\n",
    "        self.monsterhealth = self.monsterhealth + n\n",
    "\n",
    "    def fightmagician(self, mag):\n",
    "        mag.health = mag.health - 2\n",
    "\n",
    "    def fightpeasant(self, pe):\n",
    "        pe.health = pe.health - 3\n",
    "\n",
    "\n",
    "class Magician(Fighter):\n",
    "    def __init__(self, name):\n",
    "        super().__init__(name)\n",
    "        self.health = self.health * 1.5\n",
    "        self.mana = self.mana * 1.5\n",
    "\n",
    "    @staticmethod\n",
    "    def welcoming():\n",
    "        print(f'Я вижу, магл, тебе понадобилась моя помощь.')\n",
    "\n",
    "\n",
    "class Peasant(Fighter):\n",
    "    def __init__(self, name):\n",
    "        super().__init__(name)\n",
    "\n",
    "    @staticmethod\n",
    "    def welcoming():\n",
    "        print(f'Посмотри, монстр напал на урожай. Давай не допустим голода мирного населения!')"
   ]
  },
  {
   "cell_type": "code",
   "execution_count": 9,
   "outputs": [
    {
     "name": "stdout",
     "output_type": "stream",
     "text": [
      "Я вижу, магл, тебе понадобилась моя помощь.\n",
      "potion\n",
      "Монстр наносит удар. Сейчас у волшебника 13.0 здоровья\n",
      "potion\n",
      "Монстр наносит удар. Сейчас у волшебника 11.0 здоровья\n",
      "Монстр наносит удар. Сейчас у волшебника 9.0 здоровья\n",
      "Монстр наносит удар. Сейчас у волшебника 7.0 здоровья\n",
      "Монстр наносит удар. Сейчас у волшебника 5.0 здоровья\n",
      "Данные введены некорректно\n"
     ]
    }
   ],
   "source": [
    "#game\n",
    "while True:\n",
    "    decis = int(input('Введите \"1\", чтобы начать игру. \"0\" - чтобы выйти'))\n",
    "    naming = input('Введите имя игрока')\n",
    "    if decis == 0:\n",
    "        break\n",
    "    if decis == 1:\n",
    "        decis2 = input('Выберите игрока. Введите \"волшебник\" или \"крестьянин\"')\n",
    "        if decis2 == 'волшебник':\n",
    "            magician = Magician(naming)\n",
    "            magician.welcoming()\n",
    "            monster = Monster(randint(5, 20))\n",
    "            while True:\n",
    "                decis3 = input(\n",
    "                    'Выберите действие. Введите \"атаковать монстра\", \"выкинуть из рюкзака\", \"сложить в рюкзак\",'\n",
    "                    '\"выпить зелье\", \"купить зелье\", \"посмотреть рюкзак\"')\n",
    "                if decis3 == 'атаковать монстра':\n",
    "                    magician.fight(monster)\n",
    "                    if monster.monsterhealth <= 0:\n",
    "                        decis4 = input(\n",
    "                            f'{magician.name} победил монстра. Хотите добавить еще одного? Введите \"да\" или \"нет\".')\n",
    "                        if decis4 == 'да':\n",
    "                            monster.addnewmonster(randint(5, 20))\n",
    "                            continue\n",
    "                        if decis4 == 'нет':\n",
    "                            break\n",
    "                        else:\n",
    "                            print('Данные введены некорректно')\n",
    "                            continue\n",
    "                    else:\n",
    "                        print(f'{magician.name} наносит удар. Сейчас у монстра {monster.monsterhealth} здоровья')\n",
    "                elif decis3 == 'выкинуть из рюкзака':\n",
    "                    x = input('Что вы хотите выкинуть?')\n",
    "                    magician.substractfromrucksack(x)\n",
    "                    magician.show_rucksack()\n",
    "                elif decis3 == 'сложить в рюкзак':\n",
    "                    x = input('Что вы хотите сложить?')\n",
    "                    y = input('Сколько единиц')\n",
    "                    magician.addtorucksack(x, y)\n",
    "                elif decis3 == 'выпить зелье':\n",
    "                    magician.drinkpotion()\n",
    "                elif decis3 == 'купить зелье':\n",
    "                    magician.addpotion()\n",
    "                elif decis3 == 'посмотреть рюкзак':\n",
    "                    magician.show_rucksack()\n",
    "                else:\n",
    "                    print('Данные введены некорректно')\n",
    "                    continue\n",
    "                monster.fightmagician(magician)\n",
    "                if magician.health <= 0:\n",
    "                    print('Монстр выиграл')\n",
    "                    break\n",
    "                else:\n",
    "                    print(f'Монстр наносит удар. Сейчас у волшебника {magician.health} здоровья')\n",
    "                    continue\n",
    "        if decis2 == 'крестьянин':\n",
    "            peasant = Peasant(naming)\n",
    "            peasant.welcoming()\n",
    "            monster = Monster(randint(5, 20))\n",
    "            while True:\n",
    "                decis3 = input(\n",
    "                    'Выберите действие. Введите \"атаковать монстра\", \"выкинуть из рюкзака\", \"сложить в рюкзак\",'\n",
    "                    '\"выпить зелье\", \"купить зелье\", \"посмотреть рюкзак\"')\n",
    "                if decis3 == 'атаковать монстра':\n",
    "                    peasant.fight(monster)\n",
    "                    if monster.monsterhealth <= 0:\n",
    "                        decis4 = input(\n",
    "                            f'{peasant.name} победил монстра. Хотите добавить еще одного? Введите \"да\" или \"нет\".'\n",
    "                        )\n",
    "                        if decis4 == 'да':\n",
    "                            monster.addnewmonster(randint(5, 20))\n",
    "                            continue\n",
    "                        if decis4 == 'нет':\n",
    "                            break\n",
    "                        else:\n",
    "                            print('Данные введены некорректно')\n",
    "                            continue\n",
    "                    else:\n",
    "                        print(f'{peasant.name} наносит удар. Сейчас у монстра {monster.monsterhealth} здоровья')\n",
    "                elif decis3 == 'выкинуть из рюкзака':\n",
    "                    x = input('Что вы хотите выкинуть?')\n",
    "                    peasant.substractfromrucksack(x)\n",
    "                elif decis3 == 'сложить в рюкзак':\n",
    "                    x = input('Что вы хотите сложить?')\n",
    "                    y = input('Сколько единиц')\n",
    "                    peasant.addtorucksack(x, y)\n",
    "                elif decis3 == 'выпить зелье':\n",
    "                    peasant.drinkpotion()\n",
    "                elif decis3 == 'купить зелье':\n",
    "                    peasant.addpotion()\n",
    "                elif decis3 == 'посмотреть рюкзак':\n",
    "                    peasant.show_rucksack()\n",
    "                else:\n",
    "                    print('Данные введены некорректно')\n",
    "                    continue\n",
    "                monster.fightpeasant(peasant)\n",
    "                if peasant.health <= 0:\n",
    "                    print('Монстр выиграл')\n",
    "                    break\n",
    "                else:\n",
    "                    print(f'Монстр наносит удар. Сейчас у крестьянина {peasant.health} здоровья')\n",
    "                    continue\n",
    "        else:\n",
    "            print('Данные введены некорректно')\n",
    "            continue"
   ],
   "metadata": {
    "collapsed": false
   }
  },
  {
   "cell_type": "markdown",
   "id": "27112b93-fab0-4783-81e6-3e209d99a251",
   "metadata": {},
   "source": [
    "#### Задача 2 (3 балла). \n",
    "\n",
    "Вспомним задачу токенизации. Напишите собственный простенький токенизатор (с самим процессом можно не сильно заморачиваться), который будет создавать генератор с объектами класса Token, у которых будет атрибут text и атрибут category (латинское слово, кириллическое слово или пунктуация). Токенизатор должен быть реализован в классе, у которого должна быть (генераторная) функция tokenize(). Вам понадобится отдельный класс для токенов и re.finditer(). "
   ]
  },
  {
   "cell_type": "code",
   "execution_count": 29,
   "id": "c07a855e-f9e8-46fd-b9d3-afcb3ba8530a",
   "metadata": {},
   "outputs": [
    {
     "data": {
      "text/plain": "[образования[cyrillic],\n и[cyrillic],\n науки[cyrillic],\n города[cyrillic],\n автономное[cyrillic],\n образовательное[cyrillic],\n учреждение[cyrillic],\n высшего[cyrillic],\n образования[cyrillic],\n города[cyrillic],\n городской[cyrillic],\n педагогический[cyrillic],\n университет[cyrillic],\n иностранных[cyrillic],\n языков[cyrillic],\n англистики[cyrillic],\n и[cyrillic],\n межкультурной[cyrillic],\n коммуникации[cyrillic],\n терминологий[cyrillic],\n как[cyrillic],\n фактор[cyrillic],\n успешной[cyrillic],\n профессиональной[cyrillic],\n коммуникации[cyrillic],\n язык[cyrillic],\n профессионального[cyrillic],\n общения[cyrillic],\n практикум[cyrillic],\n подготовки[cyrillic],\n профиль[cyrillic],\n образовательной[cyrillic],\n программы[cyrillic],\n филологических[cyrillic],\n дисциплин[cyrillic],\n английский[cyrillic],\n язык[cyrillic],\n и[cyrillic],\n русский[cyrillic],\n язык[cyrillic],\n как[cyrillic],\n иностранный[cyrillic],\n очная[cyrillic],\n форма[cyrillic],\n обучения[cyrillic],\n развитие[cyrillic],\n человека[cyrillic],\n и[cyrillic],\n культуры[cyrillic],\n привело[cyrillic],\n к[cyrillic],\n выделению[cyrillic],\n особого[cyrillic],\n пласта[cyrillic],\n лексики[cyrillic],\n специальной[cyrillic],\n лексики[cyrillic],\n на[cyrillic],\n то[cyrillic],\n что[cyrillic],\n этот[cyrillic],\n пласт[cyrillic],\n более[cyrillic],\n всего[cyrillic],\n поддаётся[cyrillic],\n регулированию[cyrillic],\n профессиональная[cyrillic],\n коммуникация[cyrillic],\n подвергается[cyrillic],\n риску[cyrillic],\n ввиду[cyrillic],\n неточностей[cyrillic],\n в[cyrillic],\n значениях[cyrillic],\n терминов[cyrillic],\n и[cyrillic],\n избыточности[cyrillic],\n это[cyrillic],\n ведет[cyrillic],\n к[cyrillic],\n ошибкам[cyrillic],\n в[cyrillic],\n профессиональной[cyrillic],\n деятельности[cyrillic],\n коммуникантов[cyrillic],\n иногда[cyrillic],\n фатальным[cyrillic],\n терминологии[cyrillic],\n является[cyrillic],\n основной[cyrillic],\n составляющей[cyrillic],\n практической[cyrillic],\n терминологической[cyrillic],\n деятельности[cyrillic],\n и[cyrillic],\n выделяют[cyrillic],\n несколько[cyrillic],\n этапов[cyrillic],\n упорядочения[cyrillic],\n специальной[cyrillic],\n лексики[cyrillic],\n инвентаризацию[cyrillic],\n унификацию[cyrillic],\n стандартизацию[cyrillic],\n и[cyrillic],\n нормализацию[cyrillic],\n терминологии[cyrillic],\n с[cyrillic],\n здесь[cyrillic],\n это[cyrillic],\n конечный[cyrillic],\n продукт[cyrillic],\n прикладной[cyrillic],\n деятельности[cyrillic],\n специалиста[cyrillic],\n а[cyrillic],\n именно[cyrillic],\n оформление[cyrillic],\n нормативного[cyrillic],\n словаря[cyrillic],\n или[cyrillic],\n государственного[cyrillic],\n стандарта[cyrillic],\n с[cyrillic],\n распределением[cyrillic],\n терминов[cyrillic],\n по[cyrillic],\n отраслям[cyrillic],\n науки[cyrillic],\n и[cyrillic],\n техники[cyrillic],\n нормализации[cyrillic],\n по[cyrillic],\n данному[cyrillic],\n значению[cyrillic],\n будут[cyrillic],\n кодификация[cyrillic],\n и[cyrillic],\n стандартизация[cyrillic],\n то[cyrillic],\n же[cyrillic],\n время[cyrillic],\n согласно[cyrillic],\n нормализация[cyrillic],\n терминологии[cyrillic],\n это[cyrillic],\n сам[cyrillic],\n процесс[cyrillic],\n а[cyrillic],\n не[cyrillic],\n продукт[cyrillic],\n упорядочения[cyrillic],\n лексики[cyrillic],\n включающий[cyrillic],\n в[cyrillic],\n себя[cyrillic],\n два[cyrillic],\n равнозначных[cyrillic],\n аспекта[cyrillic],\n комплексную[cyrillic],\n унификацию[cyrillic],\n и[cyrillic],\n гармонизацию[cyrillic],\n данном[cyrillic],\n эссе[cyrillic],\n мы[cyrillic],\n будем[cyrillic],\n придерживаться[cyrillic],\n того[cyrillic],\n что[cyrillic],\n нормализация[cyrillic],\n это[cyrillic],\n все[cyrillic],\n виды[cyrillic],\n прикладной[cyrillic],\n деятельности[cyrillic],\n направленные[cyrillic],\n на[cyrillic],\n приведение[cyrillic],\n терминов[cyrillic],\n к[cyrillic],\n единообразию[cyrillic],\n единой[cyrillic],\n форме[cyrillic],\n или[cyrillic],\n системе[cyrillic],\n то[cyrillic],\n есть[cyrillic],\n на[cyrillic],\n образование[cyrillic],\n системы[cyrillic],\n понятий[cyrillic],\n точкой[cyrillic],\n для[cyrillic],\n нормализации[cyrillic],\n специальной[cyrillic],\n лексики[cyrillic],\n являются[cyrillic],\n все[cyrillic],\n нормы[cyrillic],\n и[cyrillic],\n требования[cyrillic],\n к[cyrillic],\n термину[cyrillic],\n однозначность[cyrillic],\n выражение[cyrillic],\n специального[cyrillic],\n понятия[cyrillic],\n полнозначность[cyrillic],\n нетавтологичность[cyrillic],\n отсутствие[cyrillic],\n синонимов[cyrillic],\n в[cyrillic],\n терминосистеме[cyrillic],\n отсутствие[cyrillic],\n экспрессивности[cyrillic],\n отбора[cyrillic],\n инвентаризации[cyrillic],\n терминов[cyrillic],\n происходит[cyrillic],\n их[cyrillic],\n унификация[cyrillic],\n как[cyrillic],\n по[cyrillic],\n отдельным[cyrillic],\n отраслям[cyrillic],\n науки[cyrillic],\n так[cyrillic],\n и[cyrillic],\n унификация[cyrillic],\n общей[cyrillic],\n и[cyrillic],\n интернациональной[cyrillic],\n терминологии[cyrillic],\n гармонизация[cyrillic],\n унификации[cyrillic],\n в[cyrillic],\n отдельных[cyrillic],\n отраслях[cyrillic],\n науки[cyrillic],\n сталкивается[cyrillic],\n с[cyrillic],\n проблемой[cyrillic],\n полисемии[cyrillic],\n и[cyrillic],\n омонимии[cyrillic],\n то[cyrillic],\n есть[cyrillic],\n называнием[cyrillic],\n одной[cyrillic],\n лексической[cyrillic],\n формой[cyrillic],\n нескольких[cyrillic],\n понятий[cyrillic],\n с[cyrillic],\n термин[cyrillic],\n унификация[cyrillic],\n это[cyrillic],\n установление[cyrillic],\n оптимального[cyrillic],\n числа[cyrillic],\n размеров[cyrillic],\n или[cyrillic],\n видов[cyrillic],\n продукции[cyrillic],\n процессов[cyrillic],\n или[cyrillic],\n услуг[cyrillic],\n необходимых[cyrillic],\n для[cyrillic],\n удовлетворения[cyrillic],\n основных[cyrillic],\n потребностей[cyrillic],\n в[cyrillic],\n области[cyrillic],\n производства[cyrillic],\n в[cyrillic],\n культуре[cyrillic],\n это[cyrillic],\n создание[cyrillic],\n новой[cyrillic],\n глобальной[cyrillic],\n культурной[cyrillic],\n идентичности[cyrillic],\n без[cyrillic],\n этнографического[cyrillic],\n разнообразия[cyrillic],\n ее[cyrillic],\n носителей[cyrillic],\n терминологии[cyrillic],\n же[cyrillic],\n это[cyrillic],\n приведение[cyrillic],\n терминов[cyrillic],\n и[cyrillic],\n их[cyrillic],\n значений[cyrillic],\n к[cyrillic],\n единообразию[cyrillic],\n образом[cyrillic],\n единая[cyrillic],\n лексическая[cyrillic],\n форма[cyrillic],\n для[cyrillic],\n передачи[cyrillic],\n трёх[cyrillic],\n разных[cyrillic],\n значений[cyrillic],\n вызовет[cyrillic],\n трудности[cyrillic],\n при[cyrillic],\n коммуникации[cyrillic],\n специалистов[cyrillic],\n из[cyrillic],\n разных[cyrillic],\n областей[cyrillic],\n знаний[cyrillic],\n терминов[cyrillic],\n также[cyrillic],\n может[cyrillic],\n восприниматься[cyrillic],\n как[cyrillic],\n недостаток[cyrillic],\n иллюстрирует[cyrillic],\n вышеизложенное[cyrillic],\n количество[cyrillic],\n синонимов[cyrillic],\n к[cyrillic],\n термину[cyrillic],\n нормализация[cyrillic],\n препятствует[cyrillic],\n практической[cyrillic],\n деятельности[cyrillic],\n что[cyrillic],\n в[cyrillic],\n свою[cyrillic],\n очередь[cyrillic],\n затрудняет[cyrillic],\n развитие[cyrillic],\n самой[cyrillic],\n области[cyrillic],\n знаний[cyrillic],\n отмечает[cyrillic],\n что[cyrillic],\n в[cyrillic],\n общеупотребительной[cyrillic],\n лексике[cyrillic],\n синонимия[cyrillic],\n избыточность[cyrillic],\n позитивно[cyrillic],\n влияет[cyrillic],\n на[cyrillic],\n развитие[cyrillic],\n языка[cyrillic],\n придаёт[cyrillic],\n ему[cyrillic],\n красочность[cyrillic],\n и[cyrillic],\n образность[cyrillic],\n в[cyrillic],\n специальной[cyrillic],\n лексике[cyrillic],\n избыточность[cyrillic],\n приводит[cyrillic],\n к[cyrillic],\n тому[cyrillic],\n что[cyrillic],\n специалисты[cyrillic],\n пытаются[cyrillic],\n развести[cyrillic],\n схожие[cyrillic],\n термины[cyrillic],\n а[cyrillic],\n это[cyrillic],\n отражается[cyrillic],\n на[cyrillic],\n самих[cyrillic],\n значениях[cyrillic],\n единиц[cyrillic],\n они[cyrillic],\n искажаются[cyrillic],\n которые[cyrillic],\n сталкиваются[cyrillic],\n с[cyrillic],\n реальной[cyrillic],\n терминологией[cyrillic],\n на[cyrillic],\n практике[cyrillic],\n говорят[cyrillic],\n что[cyrillic],\n языковые[cyrillic],\n закономерности[cyrillic],\n действующие[cyrillic],\n для[cyrillic],\n общеупотребительной[cyrillic],\n лексики[cyrillic],\n не[cyrillic],\n могут[cyrillic],\n обойти[cyrillic],\n стороной[cyrillic],\n и[cyrillic],\n специальную[cyrillic],\n а[cyrillic],\n соответственно[cyrillic],\n согласно[cyrillic],\n этим[cyrillic],\n законам[cyrillic],\n предъявлять[cyrillic],\n какие-либо[cyrillic],\n требования[cyrillic],\n к[cyrillic],\n форме[cyrillic],\n и[cyrillic],\n семантике[cyrillic],\n термина[cyrillic],\n нецелесообразно[cyrillic],\n наш[cyrillic],\n взгляд[cyrillic],\n требования[cyrillic],\n предъявляемые[cyrillic],\n к[cyrillic],\n термину[cyrillic],\n важны[cyrillic],\n так[cyrillic],\n как[cyrillic],\n они[cyrillic],\n ограничивают[cyrillic],\n сферу[cyrillic],\n употребления[cyrillic],\n специальных[cyrillic],\n слов[cyrillic],\n игнорировать[cyrillic],\n требования[cyrillic],\n понятийная[cyrillic],\n основа[cyrillic],\n научной[cyrillic],\n терминологии[cyrillic],\n окажется[cyrillic],\n размытой[cyrillic],\n а[cyrillic],\n профессиональная[cyrillic],\n коммуникация[cyrillic],\n и[cyrillic],\n развитие[cyrillic],\n наук[cyrillic],\n станут[cyrillic],\n недоступными[cyrillic],\n целом[cyrillic],\n значение[cyrillic],\n коммуникации[cyrillic],\n в[cyrillic],\n формировании[cyrillic],\n коммуникативной[cyrillic],\n компетенции[cyrillic],\n специалистов[cyrillic],\n сводится[cyrillic],\n к[cyrillic],\n тому[cyrillic],\n что[cyrillic],\n сотрудникам[cyrillic],\n необходимо[cyrillic],\n получать[cyrillic],\n понимать[cyrillic],\n и[cyrillic],\n воспринимать[cyrillic],\n осваивать[cyrillic],\n информацию[cyrillic],\n которая[cyrillic],\n способствует[cyrillic],\n решению[cyrillic],\n возникающих[cyrillic],\n профессиональных[cyrillic],\n проблем[cyrillic],\n и[cyrillic],\n вопросов[cyrillic],\n c[latin],\n коммуникация[cyrillic],\n тяготеет[cyrillic],\n к[cyrillic],\n небольшой[cyrillic],\n временной[cyrillic],\n продолжительности[cyrillic],\n этого[cyrillic],\n вытекает[cyrillic],\n следующее[cyrillic],\n чем[cyrillic],\n более[cyrillic],\n точным[cyrillic],\n и[cyrillic],\n ограниченным[cyrillic],\n является[cyrillic],\n термин[cyrillic],\n тем[cyrillic],\n эффективнее[cyrillic],\n коммуникация[cyrillic],\n и[cyrillic],\n работа[cyrillic],\n сотрудников[cyrillic],\n поэтому[cyrillic],\n этап[cyrillic],\n кодификации[cyrillic],\n стандартизации[cyrillic],\n терминов[cyrillic],\n также[cyrillic],\n занимает[cyrillic],\n важную[cyrillic],\n позицию[cyrillic],\n в[cyrillic],\n работе[cyrillic],\n терминологов[cyrillic],\n отвечающие[cyrillic],\n за[cyrillic],\n жизни[cyrillic],\n и[cyrillic],\n безопасность[cyrillic],\n людей[cyrillic],\n регулярно[cyrillic],\n публикуют[cyrillic],\n нормативно-правовые[cyrillic],\n акты[cyrillic],\n с[cyrillic],\n перечнем[cyrillic],\n рекомендуемых[cyrillic],\n терминов[cyrillic],\n для[cyrillic],\n обозначения[cyrillic],\n понятий[cyrillic],\n законодательные[cyrillic],\n документы[cyrillic],\n обновляются[cyrillic],\n в[cyrillic],\n соответствии[cyrillic],\n с[cyrillic],\n изменяющимися[cyrillic],\n стандартами[cyrillic],\n динамичностью[cyrillic],\n развития[cyrillic],\n индустрий[cyrillic],\n и[cyrillic],\n устареванием[cyrillic],\n или[cyrillic],\n появлением[cyrillic],\n новых[cyrillic],\n технологий[cyrillic],\n когда[cyrillic],\n однозначно[cyrillic],\n устанавливаются[cyrillic],\n и[cyrillic],\n определяются[cyrillic],\n границы[cyrillic],\n каждого[cyrillic],\n понятия[cyrillic],\n заказчик[cyrillic],\n изготовитель[cyrillic],\n и[cyrillic],\n потребитель[cyrillic],\n могут[cyrillic],\n понимать[cyrillic],\n излагать[cyrillic],\n применять[cyrillic],\n проверять[cyrillic],\n норму[cyrillic],\n разрабатывать[cyrillic],\n и[cyrillic],\n обеспечивать[cyrillic],\n показатели[cyrillic],\n а[cyrillic],\n также[cyrillic],\n проводить[cyrillic],\n оценку[cyrillic],\n соответствия[cyrillic],\n с[cyrillic],\n глобализации[cyrillic],\n диктуют[cyrillic],\n необходимость[cyrillic],\n появления[cyrillic],\n единой[cyrillic],\n системы[cyrillic],\n терминов[cyrillic],\n на[cyrillic],\n международном[cyrillic],\n уровне[cyrillic],\n идёт[cyrillic],\n о[cyrillic],\n гармонизации[cyrillic],\n терминологий[cyrillic],\n существует[cyrillic],\n две[cyrillic],\n точки[cyrillic],\n зрения[cyrillic],\n на[cyrillic],\n предмет[cyrillic],\n того[cyrillic],\n какие[cyrillic],\n термины[cyrillic],\n точнее[cyrillic],\n отражают[cyrillic],\n суть[cyrillic],\n понятия[cyrillic],\n заимствованные[cyrillic],\n или[cyrillic],\n незаимствованные[cyrillic],\n одной[cyrillic],\n стороны[cyrillic],\n исконные[cyrillic],\n термины[cyrillic],\n более[cyrillic],\n мотивированны[cyrillic],\n но[cyrillic],\n все[cyrillic],\n же[cyrillic],\n не[cyrillic],\n предполагают[cyrillic],\n семантической[cyrillic],\n ясности[cyrillic],\n наш[cyrillic],\n взгляд[cyrillic],\n термины[cyrillic],\n принятые[cyrillic],\n на[cyrillic],\n международном[cyrillic],\n уровне[cyrillic],\n в[cyrillic],\n той[cyrillic],\n или[cyrillic],\n иной[cyrillic],\n сфере[cyrillic],\n являются[cyrillic],\n наиболее[cyrillic],\n понятными[cyrillic],\n и[cyrillic],\n аутентичными[cyrillic],\n же[cyrillic],\n как[cyrillic],\n и[cyrillic],\n в[cyrillic],\n случае[cyrillic],\n со[cyrillic],\n стандартизацией[cyrillic],\n межъязыковые[cyrillic],\n терминологические[cyrillic],\n соответствия[cyrillic],\n должны[cyrillic],\n быть[cyrillic],\n зафиксированы[cyrillic],\n в[cyrillic],\n международных[cyrillic],\n документах[cyrillic],\n банках[cyrillic],\n и[cyrillic],\n рекомендательных[cyrillic],\n актах[cyrillic],\n заключение[cyrillic],\n можно[cyrillic],\n сказать[cyrillic],\n что[cyrillic],\n до[cyrillic],\n тех[cyrillic],\n пор[cyrillic],\n пока[cyrillic],\n на[cyrillic],\n уровне[cyrillic],\n каждой[cyrillic],\n отрасли[cyrillic],\n знаний[cyrillic],\n общей[cyrillic],\n терминологии[cyrillic],\n и[cyrillic],\n международном[cyrillic],\n поле[cyrillic],\n не[cyrillic],\n выстроится[cyrillic],\n единая[cyrillic],\n система[cyrillic],\n коммуникация[cyrillic],\n между[cyrillic],\n специалистами[cyrillic],\n не[cyrillic],\n будет[cyrillic],\n налажена[cyrillic],\n такой[cyrillic],\n коммуникации[cyrillic],\n это[cyrillic],\n отсутствие[cyrillic],\n научно-технического[cyrillic],\n прогресса[cyrillic],\n и[cyrillic],\n невозможность[cyrillic],\n перенимать[cyrillic],\n опыт[cyrillic],\n коллег[cyrillic],\n литературы[cyrillic]]"
     },
     "execution_count": 29,
     "metadata": {},
     "output_type": "execute_result"
    }
   ],
   "source": [
    "import regex as re\n",
    "\n",
    "\n",
    "class Tokenizer:\n",
    "    def __init__(self, file):\n",
    "        self.file = file\n",
    "\n",
    "    @staticmethod\n",
    "    def to_token(text):\n",
    "        if re.match('[a-z]+', text):\n",
    "            return Token(text, 'latin')\n",
    "        if re.match('[а-я]+', text):\n",
    "            return Token(text, 'cyrillic')\n",
    "        if re.match('/W', text):\n",
    "            return Token(text, 'punctuation')\n",
    "\n",
    "    def tokenize(self):\n",
    "        m = re.findall(\"[A-Z]{2,}(?![a-z])|[A-Z][a-z]+(?=[A-Z])|[\\'\\w\\-]+\", self.file)\n",
    "        return filter(lambda token_text: token_text is not None, map(self.to_token, m))\n",
    "\n",
    "\n",
    "class Token:\n",
    "    def __init__(self, text, category):\n",
    "        self.text = text\n",
    "        self.category = category\n",
    "\n",
    "    def __repr__(self) -> str:\n",
    "        return f\"{self.text}[{self.category}]\"\n",
    "\n",
    "\n",
    "filepath = open('/Users/angelashumilova/Downloads/test_hw_base_1', 'r', encoding='utf-8')\n",
    "filetotokenize = filepath.read()\n",
    "list(Tokenizer(filetotokenize).tokenize())"
   ]
  },
  {
   "cell_type": "markdown",
   "id": "27bbf88b-9734-4020-9f5a-981d8d74965f",
   "metadata": {},
   "source": [
    "#### Задача 3 (необязательная: + 3 балла + можно сдавать позднее дедлайна)\n",
    "\n",
    "Самостоятельно изучите библиотеку pyqt5 и напишите программу - графический интерфейс для морфопарсинга: можно использовать любой морфопарсер. В программе должно быть окно, куда пользователь может вставлять свой собственный текст, кнопка \"parse\" и второе окно, в котором будет появляться морфоразбор. В каком виде он будет появляться, не принципиально, но можно сделать таблички. "
   ]
  },
  {
   "cell_type": "markdown",
   "id": "69a930ec-06b5-4b9f-a6b0-2863695aee43",
   "metadata": {},
   "source": [
    "    код для этой задачи удобнее будет писать в py."
   ],
   "outputs": []
  },
  {
   "cell_type": "code",
   "execution_count": 2,
   "outputs": [
    {
     "ename": "ModuleNotFoundError",
     "evalue": "No module named 'PyQt5.QtCore'",
     "output_type": "error",
     "traceback": [
      "\u001B[0;31m---------------------------------------------------------------------------\u001B[0m",
      "\u001B[0;31mModuleNotFoundError\u001B[0m                       Traceback (most recent call last)",
      "Cell \u001B[0;32mIn [2], line 4\u001B[0m\n\u001B[1;32m      1\u001B[0m \u001B[38;5;28;01mimport\u001B[39;00m \u001B[38;5;21;01msys\u001B[39;00m\n\u001B[1;32m      3\u001B[0m \u001B[38;5;28;01mimport\u001B[39;00m \u001B[38;5;21;01mPyQt5\u001B[39;00m\n\u001B[0;32m----> 4\u001B[0m \u001B[38;5;28;01mfrom\u001B[39;00m \u001B[38;5;21;01mPyQt5\u001B[39;00m\u001B[38;5;21;01m.\u001B[39;00m\u001B[38;5;21;01mQtCore\u001B[39;00m \u001B[38;5;28;01mimport\u001B[39;00m pyqtProperty, QCoreApplication, QObject, QUrl\n\u001B[1;32m      5\u001B[0m \u001B[38;5;28;01mfrom\u001B[39;00m \u001B[38;5;21;01mPyQt5\u001B[39;00m\u001B[38;5;21;01m.\u001B[39;00m\u001B[38;5;21;01mQtQml\u001B[39;00m \u001B[38;5;28;01mimport\u001B[39;00m qmlRegisterType, QQmlComponent, QQmlEngine\n\u001B[1;32m      8\u001B[0m \u001B[38;5;66;03m# This is the type that will be registered with QML.  It must be a\u001B[39;00m\n\u001B[1;32m      9\u001B[0m \u001B[38;5;66;03m# sub-class of QObject.\u001B[39;00m\n",
      "\u001B[0;31mModuleNotFoundError\u001B[0m: No module named 'PyQt5.QtCore'"
     ]
    }
   ],
   "source": [
    "#Какие-то компоненты PyQt5 не совместимы с моим ПК/библиотеками/IDE, не получается скачать"
   ],
   "metadata": {
    "collapsed": false
   }
  },
  {
   "cell_type": "code",
   "execution_count": null,
   "outputs": [],
   "source": [],
   "metadata": {
    "collapsed": false
   }
  }
 ],
 "metadata": {
  "kernelspec": {
   "display_name": "Python 3 (ipykernel)",
   "language": "python",
   "name": "python3"
  },
  "language_info": {
   "codemirror_mode": {
    "name": "ipython",
    "version": 3
   },
   "file_extension": ".py",
   "mimetype": "text/x-python",
   "name": "python",
   "nbconvert_exporter": "python",
   "pygments_lexer": "ipython3",
   "version": "3.9.12"
  }
 },
 "nbformat": 4,
 "nbformat_minor": 5
}
